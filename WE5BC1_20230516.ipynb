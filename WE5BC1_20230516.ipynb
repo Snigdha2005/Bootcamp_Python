{
  "cells": [
    {
      "cell_type": "markdown",
      "metadata": {
        "id": "view-in-github",
        "colab_type": "text"
      },
      "source": [
        "<a href=\"https://colab.research.google.com/github/Snigdha2005/Bootcamp_Python/blob/main/WE5BC1_20230516.ipynb\" target=\"_parent\"><img src=\"https://colab.research.google.com/assets/colab-badge.svg\" alt=\"Open In Colab\"/></a>"
      ]
    },
    {
      "cell_type": "markdown",
      "id": "815c9364",
      "metadata": {
        "id": "815c9364"
      },
      "source": [
        "# Problem 1\n",
        "\n",
        "## Euler 001\n",
        "\n",
        "If we list all the natural numbers below 10 that are multiples of 3 or 5, we get 3, 5, 6 and 9. The sum of these multiples is 23. Find the sum of all the multiples of 3 or 5 below 1000.\n"
      ]
    },
    {
      "cell_type": "code",
      "execution_count": null,
      "id": "988c3335",
      "metadata": {
        "id": "988c3335"
      },
      "outputs": [],
      "source": [
        "def select(n: int) -> bool:\n",
        "    return n % 3 == 0 or n % 5 == 0\n",
        "\n",
        "def euler001(limit: int) -> int:\n",
        "    n, total = 1, 0\n",
        "    while n < limit:\n",
        "        if select(n):\n",
        "            total += n\n",
        "        n += 1\n",
        "    return total    "
      ]
    },
    {
      "cell_type": "code",
      "execution_count": null,
      "id": "db6a3bc2",
      "metadata": {
        "id": "db6a3bc2",
        "outputId": "ddcd5d52-c226-4220-82f6-d02075c99128"
      },
      "outputs": [
        {
          "data": {
            "text/plain": [
              "23"
            ]
          },
          "execution_count": 2,
          "metadata": {},
          "output_type": "execute_result"
        }
      ],
      "source": [
        "euler001(10)"
      ]
    },
    {
      "cell_type": "code",
      "execution_count": null,
      "id": "99536a50",
      "metadata": {
        "id": "99536a50",
        "outputId": "7757131b-f747-4450-f3f6-0305d28234be"
      },
      "outputs": [
        {
          "data": {
            "text/plain": [
              "233168"
            ]
          },
          "execution_count": 3,
          "metadata": {},
          "output_type": "execute_result"
        }
      ],
      "source": [
        "euler001(1000)"
      ]
    },
    {
      "cell_type": "code",
      "execution_count": null,
      "id": "0e78fc42",
      "metadata": {
        "id": "0e78fc42"
      },
      "outputs": [],
      "source": [
        "def select(n: int) -> bool:\n",
        "    return n % 3 == 0 or n % 5 == 0\n",
        "\n",
        "def euler001A(limit: int) -> int:\n",
        "    total = 0\n",
        "    for n in range(1, limit):\n",
        "        if select(n):\n",
        "            total += n\n",
        "    return total   "
      ]
    },
    {
      "cell_type": "code",
      "execution_count": null,
      "id": "1e231bb9",
      "metadata": {
        "id": "1e231bb9",
        "outputId": "536ff58c-8194-4c20-c38c-559271245e26"
      },
      "outputs": [
        {
          "data": {
            "text/plain": [
              "233168"
            ]
          },
          "execution_count": 5,
          "metadata": {},
          "output_type": "execute_result"
        }
      ],
      "source": [
        "euler001A(1000)"
      ]
    },
    {
      "cell_type": "code",
      "execution_count": null,
      "id": "1dd7df7f",
      "metadata": {
        "id": "1dd7df7f"
      },
      "outputs": [],
      "source": [
        "def euler001B(limit: int) -> int:\n",
        "    return sum(range(3, limit, 3)) +\\\n",
        "           sum(range(5, limit, 5)) -\\\n",
        "           sum(range(15, limit, 15))"
      ]
    },
    {
      "cell_type": "code",
      "execution_count": null,
      "id": "c3f57f4e",
      "metadata": {
        "id": "c3f57f4e",
        "outputId": "c42e069d-7ba7-4b9e-8ed2-d0ad8f486c5b"
      },
      "outputs": [
        {
          "data": {
            "text/plain": [
              "233168"
            ]
          },
          "execution_count": 7,
          "metadata": {},
          "output_type": "execute_result"
        }
      ],
      "source": [
        "euler001B(1000)"
      ]
    },
    {
      "cell_type": "code",
      "execution_count": null,
      "id": "7ad9b415",
      "metadata": {
        "id": "7ad9b415"
      },
      "outputs": [],
      "source": [
        "def euler001C(limit: int) -> int:\n",
        "    return sum(set(range(3, limit, 3)) |set(range(5, limit, 5)))"
      ]
    },
    {
      "cell_type": "code",
      "execution_count": null,
      "id": "5f83c2cc",
      "metadata": {
        "id": "5f83c2cc",
        "outputId": "4fdbd550-c83f-4421-ee5a-0609714a6db7"
      },
      "outputs": [
        {
          "data": {
            "text/plain": [
              "233168"
            ]
          },
          "execution_count": 9,
          "metadata": {},
          "output_type": "execute_result"
        }
      ],
      "source": [
        "euler001C(1000)"
      ]
    },
    {
      "cell_type": "code",
      "execution_count": null,
      "id": "e1c24df6",
      "metadata": {
        "id": "e1c24df6"
      },
      "outputs": [],
      "source": [
        "def select(n: int) -> bool:\n",
        "    return n % 3 == 0 or n % 5 == 0\n",
        "\n",
        "def euler001D(limit: int) -> int:\n",
        "    return sum(filter(select, range(1, limit)))"
      ]
    },
    {
      "cell_type": "code",
      "execution_count": null,
      "id": "ac6fef89",
      "metadata": {
        "id": "ac6fef89",
        "outputId": "ba5cf5e7-0ec2-4973-fd3a-3fec65366323"
      },
      "outputs": [
        {
          "data": {
            "text/plain": [
              "233168"
            ]
          },
          "execution_count": 13,
          "metadata": {},
          "output_type": "execute_result"
        }
      ],
      "source": [
        "euler001D(1000)"
      ]
    },
    {
      "cell_type": "code",
      "execution_count": null,
      "id": "2bbc66c3",
      "metadata": {
        "id": "2bbc66c3"
      },
      "outputs": [],
      "source": [
        "def select(n: int) -> bool:\n",
        "    return n % 3 == 0 or n % 5 == 0\n",
        "\n",
        "def euler001E(limit: int) -> int:\n",
        "    return sum(n for n in range(1, limit) if select(n))"
      ]
    },
    {
      "cell_type": "code",
      "execution_count": null,
      "id": "15019676",
      "metadata": {
        "id": "15019676",
        "outputId": "03a2de21-f3cb-4578-9907-e0328beb6bf2"
      },
      "outputs": [
        {
          "data": {
            "text/plain": [
              "233168"
            ]
          },
          "execution_count": 14,
          "metadata": {},
          "output_type": "execute_result"
        }
      ],
      "source": [
        "euler001E(1000)"
      ]
    },
    {
      "cell_type": "markdown",
      "source": [],
      "metadata": {
        "id": "LVQk9wNwG3pn"
      },
      "id": "LVQk9wNwG3pn"
    },
    {
      "cell_type": "markdown",
      "source": [
        "$gen\\_euler001(1000, [3, 5]) \\equiv euler001(limit)$"
      ],
      "metadata": {
        "id": "PnMTz0UH8fv7"
      },
      "id": "PnMTz0UH8fv7"
    },
    {
      "cell_type": "code",
      "execution_count": null,
      "id": "c6503518",
      "metadata": {
        "id": "c6503518"
      },
      "outputs": [],
      "source": [
        "def pick(n: int, ps: list[int]) -> int:\n",
        "    if any(n % p == 0 for p in ps):\n",
        "        return n\n",
        "    else:\n",
        "        return 0\n",
        "\n",
        "def gen_euler001(limit: int, nums: list[int]) -> int:\n",
        "    ''' Compute the sum of the multiples of the integers \n",
        "    in the nums below the given limit.'''\n",
        "    return sum(pick(k, nums) for k in range(1, limit))"
      ]
    },
    {
      "cell_type": "code",
      "source": [
        "def gen_euler001(limit: int, nums: list[int]) -> int:\n",
        "    all_multiples = set()\n",
        "    for num in nums:\n",
        "        all_multiples |= set(range(num, limit, num))\n",
        "    return sum(all_multiples)"
      ],
      "metadata": {
        "id": "SzR_1FZg8y61"
      },
      "id": "SzR_1FZg8y61",
      "execution_count": null,
      "outputs": []
    },
    {
      "cell_type": "code",
      "source": [
        "test_data = [\"hello\", \"local\", \"spear\", \"cloud\", \"spare\",\n",
        "             \"dad\", \"add\", \"reaps\", \"swear\", \"pears\", \"wears\"\n",
        "             \"wares\", \"spore\"]\n"
      ],
      "metadata": {
        "id": "c8UdZZrTONK-"
      },
      "id": "c8UdZZrTONK-",
      "execution_count": null,
      "outputs": []
    },
    {
      "cell_type": "code",
      "source": [
        "def is_vowel(ch: str) -> bool:\n",
        "    return ch in \"AEIOUaeiou\""
      ],
      "metadata": {
        "id": "H7l21ijEQlVl"
      },
      "id": "H7l21ijEQlVl",
      "execution_count": null,
      "outputs": []
    },
    {
      "cell_type": "code",
      "source": [
        "def is_vowel(ch: str, includeY = False):\n",
        "    vowels = \"AEIOUaeiou\"\n",
        "    if includeY:\n",
        "        vowels += \"yY\"\n",
        "    return ch in vowels"
      ],
      "metadata": {
        "id": "qlCfR9CGQz17"
      },
      "id": "qlCfR9CGQz17",
      "execution_count": null,
      "outputs": []
    },
    {
      "cell_type": "code",
      "source": [
        "is_vowel(\"a\")"
      ],
      "metadata": {
        "colab": {
          "base_uri": "https://localhost:8080/"
        },
        "id": "ACUoTYHmRbB-",
        "outputId": "b719c353-d5d3-4d73-d9f9-cb6c63b26544"
      },
      "id": "ACUoTYHmRbB-",
      "execution_count": null,
      "outputs": [
        {
          "output_type": "execute_result",
          "data": {
            "text/plain": [
              "True"
            ]
          },
          "metadata": {},
          "execution_count": 3
        }
      ]
    },
    {
      "cell_type": "code",
      "source": [
        "is_vowel(\"Y\")"
      ],
      "metadata": {
        "colab": {
          "base_uri": "https://localhost:8080/"
        },
        "id": "zcC17CE_Rsf1",
        "outputId": "dbf91add-4aff-4c4f-f45d-e24dcedaab04"
      },
      "id": "zcC17CE_Rsf1",
      "execution_count": null,
      "outputs": [
        {
          "output_type": "execute_result",
          "data": {
            "text/plain": [
              "False"
            ]
          },
          "metadata": {},
          "execution_count": 4
        }
      ]
    },
    {
      "cell_type": "code",
      "source": [
        "is_vowel(\"y\", True)"
      ],
      "metadata": {
        "colab": {
          "base_uri": "https://localhost:8080/"
        },
        "id": "ZLnmKbfNRues",
        "outputId": "3f6d5320-ce6e-430a-9a38-c15c6ce31816"
      },
      "id": "ZLnmKbfNRues",
      "execution_count": null,
      "outputs": [
        {
          "output_type": "execute_result",
          "data": {
            "text/plain": [
              "True"
            ]
          },
          "metadata": {},
          "execution_count": 5
        }
      ]
    },
    {
      "cell_type": "code",
      "source": [
        "is_vowel(\"y\", False)"
      ],
      "metadata": {
        "colab": {
          "base_uri": "https://localhost:8080/"
        },
        "id": "8CHx1DikRxmH",
        "outputId": "b8b0cb35-eae3-4c8d-d145-d9ff4e3fbfc9"
      },
      "id": "8CHx1DikRxmH",
      "execution_count": null,
      "outputs": [
        {
          "output_type": "execute_result",
          "data": {
            "text/plain": [
              "False"
            ]
          },
          "metadata": {},
          "execution_count": 6
        }
      ]
    },
    {
      "cell_type": "code",
      "source": [
        "is_vowel(\"a\", False)"
      ],
      "metadata": {
        "colab": {
          "base_uri": "https://localhost:8080/"
        },
        "id": "OMYVXeFIR1fo",
        "outputId": "5aadc175-7895-4e16-8893-e18a64d68966"
      },
      "id": "OMYVXeFIR1fo",
      "execution_count": null,
      "outputs": [
        {
          "output_type": "execute_result",
          "data": {
            "text/plain": [
              "True"
            ]
          },
          "metadata": {},
          "execution_count": 7
        }
      ]
    },
    {
      "cell_type": "code",
      "source": [
        "is_vowel(\"a\", True)"
      ],
      "metadata": {
        "colab": {
          "base_uri": "https://localhost:8080/"
        },
        "id": "q5PFa1FSR432",
        "outputId": "325a58d9-20a1-41cf-f5d0-09087a507a4c"
      },
      "id": "q5PFa1FSR432",
      "execution_count": null,
      "outputs": [
        {
          "output_type": "execute_result",
          "data": {
            "text/plain": [
              "True"
            ]
          },
          "metadata": {},
          "execution_count": 8
        }
      ]
    },
    {
      "cell_type": "code",
      "source": [
        "for i in range(6):\n",
        "    print(i)"
      ],
      "metadata": {
        "colab": {
          "base_uri": "https://localhost:8080/"
        },
        "id": "higxRpJZR8BL",
        "outputId": "2f89816b-7c40-4154-b548-0769f00f8002"
      },
      "id": "higxRpJZR8BL",
      "execution_count": null,
      "outputs": [
        {
          "output_type": "stream",
          "name": "stdout",
          "text": [
            "0\n",
            "1\n",
            "2\n",
            "3\n",
            "4\n",
            "5\n"
          ]
        }
      ]
    },
    {
      "cell_type": "code",
      "source": [
        "for i in range(6):\n",
        "    print(i, end=\" \")"
      ],
      "metadata": {
        "colab": {
          "base_uri": "https://localhost:8080/"
        },
        "id": "Zt8KvWBvSlt5",
        "outputId": "e40858c6-307b-4b81-8f34-bcea574ca2df"
      },
      "id": "Zt8KvWBvSlt5",
      "execution_count": null,
      "outputs": [
        {
          "output_type": "stream",
          "name": "stdout",
          "text": [
            "0 1 2 3 4 5 "
          ]
        }
      ]
    },
    {
      "cell_type": "code",
      "source": [
        "def are_anagrams(a_word: str, b_word: str, ignore_case = True):\n",
        "    if ignore_case:\n",
        "        a_word = a_word.lower()\n",
        "        b_word = b_word.lower()\n",
        "    return sorted(a_word) == sorted(b_word)"
      ],
      "metadata": {
        "id": "y0_iWAmdSrXY"
      },
      "id": "y0_iWAmdSrXY",
      "execution_count": null,
      "outputs": []
    },
    {
      "cell_type": "code",
      "source": [],
      "metadata": {
        "id": "owYnJbukUK5O"
      },
      "id": "owYnJbukUK5O",
      "execution_count": null,
      "outputs": []
    }
  ],
  "metadata": {
    "kernelspec": {
      "display_name": "Python 3 (ipykernel)",
      "language": "python",
      "name": "python3"
    },
    "language_info": {
      "codemirror_mode": {
        "name": "ipython",
        "version": 3
      },
      "file_extension": ".py",
      "mimetype": "text/x-python",
      "name": "python",
      "nbconvert_exporter": "python",
      "pygments_lexer": "ipython3",
      "version": "3.9.6"
    },
    "colab": {
      "provenance": [],
      "include_colab_link": true
    }
  },
  "nbformat": 4,
  "nbformat_minor": 5
}