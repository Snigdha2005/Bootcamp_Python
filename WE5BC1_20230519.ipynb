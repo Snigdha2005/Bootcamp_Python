{
  "nbformat": 4,
  "nbformat_minor": 0,
  "metadata": {
    "colab": {
      "private_outputs": true,
      "provenance": [],
      "include_colab_link": true
    },
    "kernelspec": {
      "name": "python3",
      "display_name": "Python 3"
    },
    "language_info": {
      "name": "python"
    }
  },
  "cells": [
    {
      "cell_type": "markdown",
      "metadata": {
        "id": "view-in-github",
        "colab_type": "text"
      },
      "source": [
        "<a href=\"https://colab.research.google.com/github/Snigdha2005/Bootcamp_Python/blob/main/WE5BC1_20230519.ipynb\" target=\"_parent\"><img src=\"https://colab.research.google.com/assets/colab-badge.svg\" alt=\"Open In Colab\"/></a>"
      ]
    },
    {
      "cell_type": "markdown",
      "source": [
        "# Problems\n",
        "\n",
        "## SpeciaList\n",
        "A list is termed special if it has even numbers in even indices and odd numbers in odd indices. Write a function that checks if the given list is a SpeciaList\n",
        "\n",
        "## Strong numbers\n",
        "Numbers that are equal to the sum of the factorials of their digits are  termed strong. Write a function to verify if a given integer is strong.\n",
        "\n",
        "## camelCase  $\\Leftrightarrow$ snake_case\n",
        "\n",
        "Given a variable name in **snake_case** convert it to **camelCase** \n",
        "\n",
        "Also write the reverse function: **camelCase** to **snake_case**"
      ],
      "metadata": {
        "id": "NpPqJdaNFzRG"
      }
    },
    {
      "cell_type": "code",
      "source": [
        "def is_special(a: list[int]) -> bool:\n",
        "    for pos, val in enumerate(a):\n",
        "        if pos % 2 != val % 2:\n",
        "            return False\n",
        "    return True"
      ],
      "metadata": {
        "id": "A__sMFjbHAV5"
      },
      "execution_count": null,
      "outputs": []
    },
    {
      "cell_type": "code",
      "source": [
        "def is_specialB(a: list[int]) -> bool:\n",
        "    return all( pos % 2 == val % 2 for pos, val in enumerate(a))"
      ],
      "metadata": {
        "id": "nBJ_z52URbgA"
      },
      "execution_count": null,
      "outputs": []
    },
    {
      "cell_type": "code",
      "source": [
        "def is_specialC(a: list[int]) -> bool:\n",
        "    return all((pos + val) % 2 == 0 for pos, val in enumerate(a))"
      ],
      "metadata": {
        "id": "NGtdnomSRnTn"
      },
      "execution_count": null,
      "outputs": []
    },
    {
      "cell_type": "code",
      "source": [
        "def is_strong(n: int) -> bool:\n",
        "    facts = [1, 1, 2, 6, 24, 120, 720, 5040, 40320, 362880]\n",
        "    return sum([facts[int(d)] for d in str(n)]) == n"
      ],
      "metadata": {
        "id": "ZjA7R2BwR0J8"
      },
      "execution_count": null,
      "outputs": []
    },
    {
      "cell_type": "code",
      "source": [
        "UNDERSCORE = \"_\"\n",
        "def snake_to_camel(snake: str) -> str:\n",
        "    parts = snake.split(UNDERSCORE)\n",
        "    return parts[0] + ''.join([part.capitalize() for part in parts[1:]])"
      ],
      "metadata": {
        "id": "YutnRs73Skbh"
      },
      "execution_count": null,
      "outputs": []
    },
    {
      "cell_type": "code",
      "source": [
        "def camel_to_snake(camel: str) -> str:\n",
        "    snake = ''\n",
        "    for ch in camel:\n",
        "        if ch.isupper():\n",
        "            snake += UNDERSCORE + ch.lower()\n",
        "        else:\n",
        "            snake += ch\n",
        "    return snake "
      ],
      "metadata": {
        "id": "3s4p0BvCTZAM"
      },
      "execution_count": null,
      "outputs": []
    },
    {
      "cell_type": "code",
      "source": [
        "def camel2snake(camel: str) -> str:\n",
        "    def one_char(ch: str) -> str:\n",
        "        if ch.isupper():\n",
        "            return UNDERSCORE + ch.lower()\n",
        "        else:\n",
        "            return ch\n",
        "    return ''.join(one_char(ch) for ch in camel)"
      ],
      "metadata": {
        "id": "0DfwWt7QUGHK"
      },
      "execution_count": null,
      "outputs": []
    },
    {
      "cell_type": "markdown",
      "source": [
        "# Idli distribution\n",
        "\n",
        "You are the benevolent ruler of Dosapuri, and today you're distributing idlis. Your subjects are in a line, and some of them already have some idlis in their hand. You must distribute as few idlis as possible according to the following rules:\n",
        "\n",
        "* Every time you give an idli to some person, you must also give an idli  to the person immediately behind them.\n",
        "* After all the idlis are distributed, each person must have an even number of idlis.\n",
        "\n",
        "Given the number of idlis already held by each citizen, find the minimum number of idlis you must distribute to satisfy the two rules above. If this is not possible, return -1."
      ],
      "metadata": {
        "id": "uP86TXg3Vam_"
      }
    },
    {
      "cell_type": "markdown",
      "source": [
        "# "
      ],
      "metadata": {
        "id": "gjBnBWa4kzSh"
      }
    },
    {
      "cell_type": "code",
      "source": [
        "def even(n: int) -> bool:\n",
        "    return n % 2 == 0\n",
        "\n",
        "def distribute(idlis: list[int]) -> int:\n",
        "    if sum(idlis) % 2 == 1:\n",
        "        return -1\n",
        "    if len(idlis) < 2:\n",
        "        return 0\n",
        "    if even(idlis[0]):\n",
        "        return distribute(idlis[1:])\n",
        "    else:\n",
        "        return 2 + distribute([1+ idlis[1]] + idlis[2:])\n",
        "    "
      ],
      "metadata": {
        "id": "FDs3KPLhZLg5"
      },
      "execution_count": null,
      "outputs": []
    },
    {
      "cell_type": "code",
      "source": [
        "def oe(n: int) -> str:\n",
        "    return 'o' if n % 2 == 1 else 'e'\n",
        "\n",
        "def distributeA(idlis: list[int]) -> int:\n",
        "    if sum(idlis) % 2 == 1:\n",
        "        return -1\n",
        "    queue = ''.join([oe(_) for _ in idlis])\n",
        "    return distributeB(queue)\n",
        "\n",
        "def distributeB(queue: str) -> int:\n",
        "    if len(queue) < 2:\n",
        "        return 0\n",
        "    if queue.startswith('ee'):\n",
        "        return distributeB(queue[2:])\n",
        "    if queue.startswith('oo'):\n",
        "        return 2 + distributeB(queue[2:])\n",
        "    if queue.startswith('e'):\n",
        "        return distributeB(queue[1:])\n",
        "    else:\n",
        "        return 2 + distributeB('o' + queue[2:])"
      ],
      "metadata": {
        "id": "bvfIdMzgoe6X"
      },
      "execution_count": null,
      "outputs": []
    },
    {
      "cell_type": "code",
      "source": [
        "'oooeeo'.split('o')"
      ],
      "metadata": {
        "id": "g-g63h7vra84"
      },
      "execution_count": null,
      "outputs": []
    },
    {
      "cell_type": "code",
      "source": [
        "'oeo'.split('o')"
      ],
      "metadata": {
        "id": "ZAxEkIP0t1cd"
      },
      "execution_count": null,
      "outputs": []
    },
    {
      "cell_type": "code",
      "source": [
        "len(''.join(s.split('o')[1::2]) * 2 + len(s.split('o')[1::2]) * 2 "
      ],
      "metadata": {
        "id": "m9pQZx6jt7v3"
      },
      "execution_count": null,
      "outputs": []
    },
    {
      "cell_type": "code",
      "source": [
        "ODD, EVEN = 'o', 'e'\n",
        "def oe(n: int) -> str:\n",
        "    return ODD if n % 2 == 1 else EVEN\n",
        "\n",
        "def distributeC(idlis: list[int]) -> int:\n",
        "    if sum(idlis) % 2 == 1:\n",
        "        return -1\n",
        "    queue = ''.join([oe(_) for _ in idlis])\n",
        "    only_es = queue.split(ODD)[1::2]\n",
        "    return 2 * (len(''.join(only_es) + len(only_es))) \n",
        "    # return sum(2 * len(_) + 2 for _ in only_es)"
      ],
      "metadata": {
        "id": "jlugzPfLwDGa"
      },
      "execution_count": null,
      "outputs": []
    },
    {
      "cell_type": "code",
      "source": [
        "for (int i = 1; i < N; i++) {\n",
        "    if odd(queue[i-1]) {\n",
        "        queue[i]++;\n",
        "        count += 2;\n",
        "    }\n",
        "}"
      ],
      "metadata": {
        "id": "wLnLFxSiw5LQ"
      },
      "execution_count": null,
      "outputs": []
    },
    {
      "cell_type": "code",
      "source": [
        "'oooo'.split('o')"
      ],
      "metadata": {
        "id": "UsLBODWNxtLr"
      },
      "execution_count": null,
      "outputs": []
    },
    {
      "cell_type": "code",
      "source": [
        "'oooo'.split('o')[1::2]"
      ],
      "metadata": {
        "id": "QnF4-lxXxxTx"
      },
      "execution_count": null,
      "outputs": []
    },
    {
      "cell_type": "code",
      "source": [
        "len(''.join('oooo'.split('o')[1::2]))"
      ],
      "metadata": {
        "id": "kQZrlDqax02f"
      },
      "execution_count": null,
      "outputs": []
    },
    {
      "cell_type": "code",
      "source": [
        "len('oooo'.split('o')[1::2])"
      ],
      "metadata": {
        "id": "R-wZ0zRUyCd4"
      },
      "execution_count": null,
      "outputs": []
    },
    {
      "cell_type": "code",
      "source": [
        "(0 + 2) * 2"
      ],
      "metadata": {
        "id": "fWizThw-yGO9"
      },
      "execution_count": null,
      "outputs": []
    },
    {
      "cell_type": "markdown",
      "source": [
        "# Armstrong numbers"
      ],
      "metadata": {
        "id": "xEfpZcTQyIq9"
      }
    },
    {
      "cell_type": "code",
      "source": [
        "def gen_armstrong(start: int, limit: int) -> list[int]:\n",
        "    '''generate all the Armstrong numbers\n",
        "    between <<START>> and <<LIMIT>>'''\n",
        "    return [_ for _ in range(start, limit) if is_armstrong(_)]\n",
        "\n",
        "\n",
        "def is_armstrong(n: int) -> bool:\n",
        "    sn = str(n)\n",
        "    return n == sum(int(d) ** len(sn) for d in sn)"
      ],
      "metadata": {
        "id": "UAD_BQVvSnmK"
      },
      "execution_count": null,
      "outputs": []
    },
    {
      "cell_type": "code",
      "source": [
        "def num2digits(n: int) -> list[int]:\n",
        "    return [int(ch) for ch in str(n)]\n",
        "\n",
        "def to_power(xs: list[int], to: int) -> list[int]:\n",
        "    return [x ** to for x in xs]\n",
        "\n",
        "def is_armstrong(n: int) -> bool:\n",
        "    ds = num2digits(n)\n",
        "    return n == sum((to_power(d, len(ds)) for d in ds))"
      ],
      "metadata": {
        "id": "22JOZtueXMiv"
      },
      "execution_count": null,
      "outputs": []
    },
    {
      "cell_type": "markdown",
      "source": [
        "# Figures to words\n",
        "\n",
        "$81783456 ⇒$ Eight Crore Seventeen Lakh Eighty Three Thousand Four Hundred and Fifty Six"
      ],
      "metadata": {
        "id": "EiK7QqfnYR5Y"
      }
    },
    {
      "cell_type": "code",
      "source": [
        "def convert2digits(n: int) -> str:\n",
        "    upto20 = [\"\", \"One \", \"Two \", \"Three \", \"Four \", \"Five \",\n",
        "             \"Six \", \"Seven \", \"Eight \", \"Nine \", \"Ten \", \n",
        "             \"Eleven\", \"Twelve \", \"Thirteen \", \"Fourteen \",\n",
        "             \"Fifteen \", \"Sixteen \", \"Seventeen \",\n",
        "             \"Eighteen \", \"Nineteen \"]\n",
        "\n",
        "    tens = [\"\", \"\", \"Twenty \", \"Thirty \", \"Forty \", \"Fifty \",\n",
        "            \"Sixty \", \"Seventy \", \"Eighty \", \"Ninety \"]\n",
        "    \n",
        "    if n < 20:\n",
        "        return upto20(n)\n",
        "    else:\n",
        "        return tens[n // 10] + upto20[n % 10]"
      ],
      "metadata": {
        "id": "-wWIH9ueaC7I"
      },
      "execution_count": null,
      "outputs": []
    },
    {
      "cell_type": "code",
      "source": [
        "def convert3digits(n: int) -> str:\n",
        "    if n < 100:\n",
        "        return convert2d(n)\n",
        "    h, tu = divmod(n, 100)\n",
        "    if tu == 0:\n",
        "        return convert2d(h) + \"Hundred \"\n",
        "    else:\n",
        "        return convert2d(h) + \"Hundred \" + convert2d(tu)   "
      ],
      "metadata": {
        "id": "IiYkG4-tk1IL"
      },
      "execution_count": null,
      "outputs": []
    },
    {
      "cell_type": "code",
      "source": [
        "def fig2words(n: int, which: str) -> str:\n",
        "    w_denom_values = [10**9, 10**6, 10**3, 1]\n",
        "    w_denom_names = [\"Billion \", \"Million \", \"Thousand \", \"\"]\n",
        "    i_denom_values = [10**7, 10**5, 10**3, 1]\n",
        "    i_denom_names = [\"Crore \", \"Lakh \", \"Thousand \", \"\"]\n",
        "    if which == \"W\":\n",
        "        denom_values = w_denom_Values\n",
        "        denom_names = w_denom_names\n",
        "    else:\n",
        "        denom_values = i_denom_values\n",
        "        denom_names = i_denom_names\n",
        "    denoms = dict(zip(denom_values, denom_names))\n",
        "\n",
        "    in_words = ''\n",
        "    for denom in denom_values:\n",
        "        d = n // denom\n",
        "        if d > 0:\n",
        "            in_words += convert3d(d) + denoms[denom]\n",
        "        n %= denom\n",
        "    return in_words "
      ],
      "metadata": {
        "id": "bYQiDIbRk6K_"
      },
      "execution_count": null,
      "outputs": []
    },
    {
      "cell_type": "code",
      "source": [],
      "metadata": {
        "id": "6JTdNq2pmhFY"
      },
      "execution_count": null,
      "outputs": []
    }
  ]
}