{
  "nbformat": 4,
  "nbformat_minor": 0,
  "metadata": {
    "colab": {
      "private_outputs": true,
      "provenance": [],
      "include_colab_link": true
    },
    "kernelspec": {
      "name": "python3",
      "display_name": "Python 3"
    },
    "language_info": {
      "name": "python"
    }
  },
  "cells": [
    {
      "cell_type": "markdown",
      "metadata": {
        "id": "view-in-github",
        "colab_type": "text"
      },
      "source": [
        "<a href=\"https://colab.research.google.com/github/Snigdha2005/Bootcamp_Python/blob/main/WE5BC1_20230523.ipynb\" target=\"_parent\"><img src=\"https://colab.research.google.com/assets/colab-badge.svg\" alt=\"Open In Colab\"/></a>"
      ]
    },
    {
      "cell_type": "markdown",
      "source": [
        "# Odometer"
      ],
      "metadata": {
        "id": "lptYN_a65SBo"
      }
    },
    {
      "cell_type": "code",
      "source": [
        "def size(n: int) -> int:\n",
        "    return len(str(n))\n",
        "\n",
        "def get_limits(n: int) -> tuple[int, int]:\n",
        "    DIGITS = \"123456789\"\n",
        "    k = size(n)\n",
        "    return int(DIGITS[:k]), int(DIGITS[-k:])"
      ],
      "metadata": {
        "id": "R0ddY5J85u9k"
      },
      "execution_count": null,
      "outputs": []
    },
    {
      "cell_type": "code",
      "source": [
        "def is_ascending(n: int) -> bool:\n",
        "    if n < 10:\n",
        "        return True\n",
        "    if (n % 10) <= (n//10) % 10:\n",
        "        return False\n",
        "    return is_ascending(n//10)"
      ],
      "metadata": {
        "id": "vV5RxA4-6vbu"
      },
      "execution_count": null,
      "outputs": []
    },
    {
      "cell_type": "code",
      "source": [
        "get_limits(167)"
      ],
      "metadata": {
        "id": "AZM9H_d96UZV"
      },
      "execution_count": null,
      "outputs": []
    },
    {
      "cell_type": "code",
      "source": [
        "def next_reading(n: int) -> int:\n",
        "    START, LIMIT = get_limits(n)\n",
        "    if n == LIMIT:\n",
        "        return START\n",
        "    n += 1\n",
        "    while not is_ascending(n):\n",
        "        n += 1\n",
        "    return n"
      ],
      "metadata": {
        "id": "TE_Knxs06Z0L"
      },
      "execution_count": null,
      "outputs": []
    },
    {
      "cell_type": "code",
      "source": [
        "def prev_reading(n: int) -> int:\n",
        "    START, LIMIT = get_limits(n)\n",
        "    if n == START:\n",
        "        return LIMIT\n",
        "    n -= 1\n",
        "    while not is_ascending(n):\n",
        "        n -= 1\n",
        "    return n"
      ],
      "metadata": {
        "id": "lsFxfV_37Fvm"
      },
      "execution_count": null,
      "outputs": []
    },
    {
      "cell_type": "code",
      "source": [
        "def distance(a_reading: int, b_reading: int) -> int:\n",
        "    if size(a_reading) != size(b_reading):\n",
        "        return -1\n",
        "    steps = 0\n",
        "    while a_reading != b_reading:\n",
        "        steps += 1\n",
        "        a_reading = next_reading(a_reading)\n",
        "    return steps"
      ],
      "metadata": {
        "id": "3KNSYnBU7QmU"
      },
      "execution_count": null,
      "outputs": []
    },
    {
      "cell_type": "code",
      "source": [
        "def next_kth_reading(n: int, k: int) -> int:\n",
        "    for _ in range(k):\n",
        "        n = next_reading(n)\n",
        "    return n"
      ],
      "metadata": {
        "id": "pPaB6MDe8hf4"
      },
      "execution_count": null,
      "outputs": []
    },
    {
      "cell_type": "code",
      "source": [
        "def prev_kth_reading(n: int, k: int) -> int:\n",
        "    for _ in range(k):\n",
        "        n = prev_reading(n)\n",
        "    return n"
      ],
      "metadata": {
        "id": "ypGcPFaz9biD"
      },
      "execution_count": null,
      "outputs": []
    },
    {
      "cell_type": "markdown",
      "source": [
        "## Alternately,"
      ],
      "metadata": {
        "id": "P3fyLgC39fnq"
      }
    },
    {
      "cell_type": "code",
      "source": [
        "def after(n: int, k = 1) -> int:\n",
        "    START, LIMIT = get_limits(n)\n",
        "    for _ in range(k):\n",
        "        if n == LIMIT:\n",
        "            n = START\n",
        "        else:\n",
        "            n += 1\n",
        "            while not is_ascending(n):\n",
        "                n += 1\n",
        "    return n"
      ],
      "metadata": {
        "id": "Q1IvNa5C9kXn"
      },
      "execution_count": null,
      "outputs": []
    },
    {
      "cell_type": "code",
      "source": [
        "def before(n: int, k = 1) -> int:\n",
        "    START, LIMIT = get_limits(n)\n",
        "    for _ in range(k):\n",
        "        if n == START:\n",
        "            n = LIMIT\n",
        "        else:\n",
        "            n -= 1\n",
        "            while not is_ascending(n):\n",
        "                n -= 1\n",
        "    return n"
      ],
      "metadata": {
        "id": "_tcMmY2o9_bX"
      },
      "execution_count": null,
      "outputs": []
    }
  ]
}