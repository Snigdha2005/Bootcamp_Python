{
  "nbformat": 4,
  "nbformat_minor": 0,
  "metadata": {
    "colab": {
      "private_outputs": true,
      "provenance": [],
      "include_colab_link": true
    },
    "kernelspec": {
      "name": "python3",
      "display_name": "Python 3"
    },
    "language_info": {
      "name": "python"
    }
  },
  "cells": [
    {
      "cell_type": "markdown",
      "metadata": {
        "id": "view-in-github",
        "colab_type": "text"
      },
      "source": [
        "<a href=\"https://colab.research.google.com/github/Snigdha2005/Bootcamp_Python/blob/main/Untitled46.ipynb\" target=\"_parent\"><img src=\"https://colab.research.google.com/assets/colab-badge.svg\" alt=\"Open In Colab\"/></a>"
      ]
    },
    {
      "cell_type": "code",
      "execution_count": null,
      "metadata": {
        "id": "ji-NXdDojWqI"
      },
      "outputs": [],
      "source": [
        "!python --version"
      ]
    },
    {
      "cell_type": "code",
      "source": [
        "nums =[2, 4, 7, -3, 12]"
      ],
      "metadata": {
        "id": "92oxbbLijZfI"
      },
      "execution_count": null,
      "outputs": []
    },
    {
      "cell_type": "code",
      "source": [
        "nums.append?"
      ],
      "metadata": {
        "id": "Ejdkz-kFkxCs"
      },
      "execution_count": null,
      "outputs": []
    },
    {
      "cell_type": "code",
      "source": [
        "nums.append(6)"
      ],
      "metadata": {
        "id": "XaYSZTXGk6W-"
      },
      "execution_count": null,
      "outputs": []
    },
    {
      "cell_type": "code",
      "source": [
        "print(nums)"
      ],
      "metadata": {
        "id": "zt16vEr5lDpb"
      },
      "execution_count": null,
      "outputs": []
    },
    {
      "cell_type": "code",
      "source": [
        "nums.append([21, 22, 23])"
      ],
      "metadata": {
        "id": "O3KY5cTjlF9N"
      },
      "execution_count": null,
      "outputs": []
    },
    {
      "cell_type": "code",
      "source": [
        "nums"
      ],
      "metadata": {
        "id": "dx8AW0bmlO3h"
      },
      "execution_count": null,
      "outputs": []
    },
    {
      "cell_type": "code",
      "source": [
        "nums.extend([21, 22, 23])"
      ],
      "metadata": {
        "id": "qZXyCh9JlQbR"
      },
      "execution_count": null,
      "outputs": []
    },
    {
      "cell_type": "code",
      "source": [
        "nums"
      ],
      "metadata": {
        "id": "T2ml6OP4lc_6"
      },
      "execution_count": null,
      "outputs": []
    },
    {
      "cell_type": "code",
      "source": [
        "p = [2, 3, 5, 7, 11, 13, 17, 19]"
      ],
      "metadata": {
        "id": "HKe0MDjUldnx"
      },
      "execution_count": null,
      "outputs": []
    },
    {
      "cell_type": "code",
      "source": [
        "# p[start:end]\n",
        "# start is INCLUDED\n",
        "# end is NOT"
      ],
      "metadata": {
        "id": "ELzqymyVl4oj"
      },
      "execution_count": null,
      "outputs": []
    },
    {
      "cell_type": "code",
      "source": [
        "print(p[3:5])"
      ],
      "metadata": {
        "id": "HFn-YdJnmAOh"
      },
      "execution_count": null,
      "outputs": []
    },
    {
      "cell_type": "code",
      "source": [
        "p.append(23)"
      ],
      "metadata": {
        "id": "eoDdKQ1KmIo3"
      },
      "execution_count": null,
      "outputs": []
    },
    {
      "cell_type": "code",
      "source": [
        "p"
      ],
      "metadata": {
        "id": "AzLHMl62mTXa"
      },
      "execution_count": null,
      "outputs": []
    },
    {
      "cell_type": "code",
      "source": [
        "p.extend([29, 31,37])"
      ],
      "metadata": {
        "id": "Q_Io98wEmTt0"
      },
      "execution_count": null,
      "outputs": []
    },
    {
      "cell_type": "code",
      "source": [
        "p"
      ],
      "metadata": {
        "id": "sJ9C3E_tmXko"
      },
      "execution_count": null,
      "outputs": []
    },
    {
      "cell_type": "code",
      "source": [
        "len(p)"
      ],
      "metadata": {
        "id": "zezSvIaQmYFI"
      },
      "execution_count": null,
      "outputs": []
    },
    {
      "cell_type": "code",
      "source": [
        "p[3:8]"
      ],
      "metadata": {
        "id": "p_2b7IkEmdzL"
      },
      "execution_count": null,
      "outputs": []
    },
    {
      "cell_type": "code",
      "source": [
        "p[:8]"
      ],
      "metadata": {
        "id": "Cy_Pukw7mfc6"
      },
      "execution_count": null,
      "outputs": []
    },
    {
      "cell_type": "code",
      "source": [
        "p[3:]"
      ],
      "metadata": {
        "id": "VjOE_08qmhbI"
      },
      "execution_count": null,
      "outputs": []
    },
    {
      "cell_type": "code",
      "source": [
        "p[:]"
      ],
      "metadata": {
        "id": "jNii8xN5mlUi"
      },
      "execution_count": null,
      "outputs": []
    },
    {
      "cell_type": "code",
      "source": [
        "# p[start:end:step]\n",
        "# start is INCLUDED\n",
        "# end is NOT\n",
        "# [p[start], p[start+step], p[start+2*step]...]"
      ],
      "metadata": {
        "id": "iuAlYsLQmnIR"
      },
      "execution_count": null,
      "outputs": []
    },
    {
      "cell_type": "code",
      "source": [
        "p[3:11:2]"
      ],
      "metadata": {
        "id": "OnqD0eUcmuQQ"
      },
      "execution_count": null,
      "outputs": []
    },
    {
      "cell_type": "code",
      "source": [
        "p"
      ],
      "metadata": {
        "id": "fiP4lx9sm8Fj"
      },
      "execution_count": null,
      "outputs": []
    },
    {
      "cell_type": "code",
      "source": [
        "p[:8] + p[8:] == p[:]"
      ],
      "metadata": {
        "id": "n0hVOW_gm9r-"
      },
      "execution_count": null,
      "outputs": []
    },
    {
      "cell_type": "code",
      "source": [
        "s = \"Hello World Python!\""
      ],
      "metadata": {
        "id": "u92PBIbMnQoR"
      },
      "execution_count": null,
      "outputs": []
    },
    {
      "cell_type": "code",
      "source": [
        "s[3:8]"
      ],
      "metadata": {
        "id": "olwhEU3jnbcb"
      },
      "execution_count": null,
      "outputs": []
    },
    {
      "cell_type": "code",
      "source": [
        "s[3:]"
      ],
      "metadata": {
        "id": "wbD9UTDcnh0a"
      },
      "execution_count": null,
      "outputs": []
    },
    {
      "cell_type": "code",
      "source": [
        "s[:8]"
      ],
      "metadata": {
        "id": "9z1dh_g4njk6"
      },
      "execution_count": null,
      "outputs": []
    },
    {
      "cell_type": "code",
      "source": [
        "s[3:11:2]"
      ],
      "metadata": {
        "id": "tGknWYZPnlNT"
      },
      "execution_count": null,
      "outputs": []
    },
    {
      "cell_type": "code",
      "source": [
        "s[:8] + s[8:] == s[:]"
      ],
      "metadata": {
        "id": "o5tUExobnnIo"
      },
      "execution_count": null,
      "outputs": []
    },
    {
      "cell_type": "code",
      "source": [
        "s.append(\"!\")"
      ],
      "metadata": {
        "id": "3lr4VRc9ntgH"
      },
      "execution_count": null,
      "outputs": []
    },
    {
      "cell_type": "code",
      "source": [],
      "metadata": {
        "id": "MgbpaJP2nyKl"
      },
      "execution_count": null,
      "outputs": []
    }
  ]
}