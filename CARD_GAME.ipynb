{
  "nbformat": 4,
  "nbformat_minor": 0,
  "metadata": {
    "colab": {
      "provenance": [],
      "authorship_tag": "ABX9TyNdUTLHuIRot4qNUNAH/qCN",
      "include_colab_link": true
    },
    "kernelspec": {
      "name": "python3",
      "display_name": "Python 3"
    },
    "language_info": {
      "name": "python"
    }
  },
  "cells": [
    {
      "cell_type": "markdown",
      "metadata": {
        "id": "view-in-github",
        "colab_type": "text"
      },
      "source": [
        "<a href=\"https://colab.research.google.com/github/Snigdha2005/Bootcamp_Python/blob/main/CARD_GAME.ipynb\" target=\"_parent\"><img src=\"https://colab.research.google.com/assets/colab-badge.svg\" alt=\"Open In Colab\"/></a>"
      ]
    },
    {
      "cell_type": "code",
      "execution_count": 27,
      "metadata": {
        "colab": {
          "base_uri": "https://localhost:8080/"
        },
        "id": "U0aIgSf8zZ2D",
        "outputId": "0e096ce7-a3fe-41a0-f08e-b201a9174221"
      },
      "outputs": [
        {
          "output_type": "stream",
          "name": "stdout",
          "text": [
            "DIAMOND : K\n",
            "Enter your choice : Q\n",
            "DIAMOND : 3\n",
            "Enter your choice : 2\n",
            "DIAMOND : A\n",
            "Enter your choice : 2\n",
            "Enter your choice : 3\n",
            "DIAMOND : 8\n",
            "Enter your choice : 5\n",
            "DIAMOND : 4\n",
            "Enter your choice : 6\n",
            "DIAMOND : 6\n",
            "Enter your choice : 7\n",
            "DIAMOND : 5\n",
            "Enter your choice : 8\n",
            "DIAMOND : 2\n",
            "Enter your choice : 9\n",
            "DIAMOND : Q\n",
            "Enter your choice : T\n",
            "DIAMOND : J\n",
            "Enter your choice : K\n",
            "DIAMOND : 9\n",
            "Enter your choice : Q\n",
            "Enter your choice : A\n",
            "DIAMOND : 7\n",
            "Enter your choice : 4\n",
            "DIAMOND : T\n",
            "Enter your choice : J\n",
            "computer\n"
          ]
        }
      ],
      "source": [
        "import random\n",
        "\n",
        "CARDS = [\"\",\"\", \"2\", \"3\", \"4\", \"5\", \"6\", \"7\", \"8\", \"9\", \"T\", \"J\", \"Q\", \"K\", \"A\"]\n",
        "\n",
        "def update_card_list(card : str, cards : list[str]) -> list[str]:\n",
        "    cards[cards.index(card)] = \"\"\n",
        "    return cards\n",
        "\n",
        "def generate_random_card(card : str, cards : list[str]) -> str:\n",
        "    while card == \"\":\n",
        "        card = random.choice(cards)\n",
        "    return card\n",
        "\n",
        "def generate_diamond(bankers_set : list[str]) -> tuple[str, list[str]]:\n",
        "    generated_card = random.choice(bankers_set)\n",
        "    generated_card = generate_random_card(generated_card, bankers_set)\n",
        "    bankers_set = update_card_list(generated_card, bankers_set) \n",
        "    return generated_card, bankers_set\n",
        "\n",
        "def computer(card : str, cards : list[str]) -> tuple[str, list[str]]:\n",
        "    cards = update_card_list(card, cards) \n",
        "    return card, cards\n",
        "\n",
        "def player(secret_card : str, player_set : list[str]) -> tuple[str, list[str]]:\n",
        "    print(\"DIAMOND :\", secret_card)\n",
        "    player_card = input(\"Enter your choice : \" )\n",
        "    while player_card not in player_set :\n",
        "       player_card = input(\"Enter your choice : \" )\n",
        "    player_set = update_card_list(player_card, player_set)\n",
        "    return player_card, player_set\n",
        "\n",
        "def end_game(bankers_set : list[str]) -> bool:\n",
        "    return all(i == \"\" for i in bankers_set)\n",
        "\n",
        "def banker_score_update(diamond : int, comp_card : int, player_card : int, scores : list[float]) -> list:\n",
        "    pos = 0\n",
        "    if comp_card != player_card:\n",
        "        if comp_card < player_card:\n",
        "            pos += 1\n",
        "        scores[pos] += diamond\n",
        "        return scores\n",
        "    return [i + (diamond / 2) for i in scores]\n",
        "\n",
        "def card_index(card) -> int:\n",
        "    return CARDS.index(card)\n",
        "\n",
        "def game_reveal(scores : list[float]) -> str:\n",
        "    return \"computer\" if scores[0] >= scores[1] else \"player\"\n",
        "\n",
        "def main_game() -> str:\n",
        "    bankers_set = [[\"\",\"\", \"2\", \"3\", \"4\", \"5\", \"6\", \"7\", \"8\", \"9\", \"T\", \"J\", \"Q\", \"K\", \"A\"]]\n",
        "    computer_set = [[\"\",\"\", \"2\", \"3\", \"4\", \"5\", \"6\", \"7\", \"8\", \"9\", \"T\", \"J\", \"Q\", \"K\", \"A\"]]\n",
        "    player_set = [[\"\",\"\", \"2\", \"3\", \"4\", \"5\", \"6\", \"7\", \"8\", \"9\", \"T\", \"J\", \"Q\", \"K\", \"A\"]]\n",
        "    scores = [0.0, 0.0]\n",
        "    while not end_game(*bankers_set):\n",
        "        secret_card, *bankers_set = generate_diamond(*bankers_set)\n",
        "        comp_card, *computer_set = computer(secret_card, *computer_set)\n",
        "        player_card, *player_set = player(secret_card, *player_set)\n",
        "        scores = banker_score_update(card_index(secret_card), card_index(comp_card), card_index(player_card), scores)\n",
        "    return game_reveal(scores)\n",
        "\n",
        "print(main_game())        "
      ]
    },
    {
      "cell_type": "code",
      "source": [
        "import random\n",
        "CARDS = [\"\",\"\", \"2\", \"3\", \"4\", \"5\", \"6\", \"7\", \"8\", \"9\", \"T\", \"J\", \"Q\", \"K\", \"A\"]\n",
        "card = random.choice(CARDS)\n",
        "print(card)\n",
        "CARDS[CARDS.index(card)] = \"\"\n",
        "name, *CARDS = card, CARDS\n",
        "print(name)\n",
        "print(*CARDS)"
      ],
      "metadata": {
        "colab": {
          "base_uri": "https://localhost:8080/"
        },
        "id": "Pqrpl5X18pBn",
        "outputId": "665e52eb-46c2-4ccb-8228-278821469626"
      },
      "execution_count": 4,
      "outputs": [
        {
          "output_type": "stream",
          "name": "stdout",
          "text": [
            "J\n",
            "J\n",
            "['', '', '2', '3', '4', '5', '6', '7', '8', '9', 'T', '', 'Q', 'K', 'A']\n"
          ]
        }
      ]
    },
    {
      "cell_type": "code",
      "source": [
        "    '''if comp_card > player_card:\n",
        "        scores[0] += diamond\n",
        "        return scores\n",
        "    elif comp_card < player_card:\n",
        "        scores[1] += diamond\n",
        "        return scores'''\n",
        "\n",
        "'''def update_card_list(cards: list[str], n : int) -> list[str]:\n",
        "    for pos, value in enumerate(cards):\n",
        "        if pos == n:\n",
        "            cards[pos] = \"\"\n",
        "            return cards\n",
        "'''"
      ],
      "metadata": {
        "id": "WZjc3HgLSIss"
      },
      "execution_count": null,
      "outputs": []
    },
    {
      "cell_type": "code",
      "source": [
        "\n",
        "def computerA(card: str, cards: list[str]) -> tuple[str, list[str]]:\n",
        "    if card in \"TJQKA\":\n",
        "        cards[cards.index(card)] = \"\"\n",
        "        return card, cards\n",
        "    else:\n",
        "        number = random.choice(cards[:10])\n",
        "        while number == \"\" :\n",
        "            number = random.choice(cards[:10])\n",
        "        cards[cards.index(str(number))] = \"\"\n",
        "        return str(number), cards\n"
      ],
      "metadata": {
        "id": "X7Bm08e0WE_p"
      },
      "execution_count": null,
      "outputs": []
    }
  ]
}