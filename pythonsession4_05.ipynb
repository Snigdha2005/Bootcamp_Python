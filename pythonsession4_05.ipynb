{
  "nbformat": 4,
  "nbformat_minor": 0,
  "metadata": {
    "colab": {
      "provenance": [],
      "include_colab_link": true
    },
    "kernelspec": {
      "name": "python3",
      "display_name": "Python 3"
    },
    "language_info": {
      "name": "python"
    }
  },
  "cells": [
    {
      "cell_type": "markdown",
      "metadata": {
        "id": "view-in-github",
        "colab_type": "text"
      },
      "source": [
        "<a href=\"https://colab.research.google.com/github/Snigdha2005/Bootcamp_Python/blob/main/pythonsession4_05.ipynb\" target=\"_parent\"><img src=\"https://colab.research.google.com/assets/colab-badge.svg\" alt=\"Open In Colab\"/></a>"
      ]
    },
    {
      "cell_type": "code",
      "execution_count": null,
      "metadata": {
        "id": "k_AacgxDMcqZ"
      },
      "outputs": [],
      "source": [
        "a=[12,34,56,78,99]\n",
        "b=[1,2,3,4,5]\n",
        "from functools import reduce \n",
        "#map(f,c)->[f(c[0]),f(c[1])....f(c[n-1])]\n",
        "#filter(f,c)->subset of c;those lements for which f(c[i]) if True\n",
        "#reduce(f,c)->reduce(f,[f(c[0]),f(c[1])],c[2],c[3]....c[n-1])->reduce(f,c'')\n",
        "if f== + -->reduce-->sum\n",
        "if f== * -->reduce-->product"
      ]
    }
  ]
}