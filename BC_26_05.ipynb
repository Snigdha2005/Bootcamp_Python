{
  "nbformat": 4,
  "nbformat_minor": 0,
  "metadata": {
    "colab": {
      "provenance": [],
      "authorship_tag": "ABX9TyOj0fzuOEq8Q1PA+DdWg+BF",
      "include_colab_link": true
    },
    "kernelspec": {
      "name": "python3",
      "display_name": "Python 3"
    },
    "language_info": {
      "name": "python"
    }
  },
  "cells": [
    {
      "cell_type": "markdown",
      "metadata": {
        "id": "view-in-github",
        "colab_type": "text"
      },
      "source": [
        "<a href=\"https://colab.research.google.com/github/Snigdha2005/Bootcamp_Python/blob/main/BC_26_05.ipynb\" target=\"_parent\"><img src=\"https://colab.research.google.com/assets/colab-badge.svg\" alt=\"Open In Colab\"/></a>"
      ]
    },
    {
      "cell_type": "markdown",
      "source": [
        "**Jail Break**\n",
        "\n",
        "A newly constructed jail has 100 cells, numbered 1 to 100.\n",
        "\n",
        "The newly appointed jailer arrives and decides to walk around as he is bored – the inmates are yet to arrive.\n",
        "\n",
        "He notices that all the cells are open. He proceeds to close them, going from cell number 1 to 100 in order.\n",
        "\n",
        "He returns to the beginning and visits all even numbered cells: 2, 4, 6 … 100, opening the doors of the visited cells.\n",
        "\n",
        "Again he returns to the beginning and this times visits cells 3, 6, 9 … 99. As he encounters both closed and open doors, he closes the open doors and opens the closed doors.\n",
        "\n",
        "He continues his rounds the same way visiting 4, 8, … 5, 10, …, 6, 12 … till he completes 100 rounds.\n",
        "\n",
        "Which doors are open and which are closed?\n",
        "\n",
        "Write a python function that takes one input, num_cells, and outputs a tuple containing two lists, the first one being a list of open cells and the second one a list of closed cells. Note that the number of rounds that the jailer completes is always equal to the number of cells.\n",
        "\n",
        "For example, if there are five cells, this is the sequence that is followed:\n",
        "\n",
        "\n",
        "Init : [Open, Open, Open, Open, Open]\n",
        "\n",
        "Round 1: [Closed, Closed, Closed, Closed, Closed]\n",
        "\n",
        "Round 2: [Closed, Open, Closed, Open, Closed]\n",
        "\n",
        "Round 3: [Closed, Open, Open, Open, Closed]\n",
        "\n",
        "Round 4: [Closed, Open, Open, Closed, Closed]\n",
        "\n",
        "Round 5: [Closed, Open, Open, Closed, Open]\n",
        "\n",
        "Output: ([2, 3, 5], [1, 4])\n",
        "\n",
        "\n",
        "\n",
        "For you, I will even run it for ten cells.\n",
        "\n",
        "Open is represented by O and Closed is represented by C.\n",
        "\n",
        "\n",
        "\n",
        "\n",
        "Init : [O, O, O, O, O, O, O, O, O, O]\n",
        "\n",
        "Round 1: [C, C, C, C, C, C, C, C, C, C]\n",
        "\n",
        "Round 2: [C, O, C, O, C, O, C, O, C, O]\n",
        "\n",
        "Round 3: [C, O, O, O, C, C, C, O, O, O]\n",
        "\n",
        "Round 4: [C, O, O, C, C, C, C, C, O, O]\n",
        "\n",
        "Round 5: [C, O, O, C, O, C, C, C, O, C]\n",
        "\n",
        "Round 6: [C, O, O, C, O, O, C, C, O, C]\n",
        "\n",
        "Round 7: [C, O, O, C, O, O, O, C, O, C]\n",
        "\n",
        "Round 8: [C, O, O, C, O, O, O, O, O, C]\n",
        "\n",
        "Round 9: [C, O, O, C, O, O, O, O, C, C]\n",
        "\n",
        "Round 10: [C, O, O, C, O, O, O, O, C, O]\n",
        "\n",
        "Output: ([2, 3, 5, 6, 7, 8, 10], [1, 4, 9])"
      ],
      "metadata": {
        "id": "lg_KQFoE4Nnu"
      }
    },
    {
      "cell_type": "code",
      "execution_count": 41,
      "metadata": {
        "colab": {
          "base_uri": "https://localhost:8080/"
        },
        "id": "3nva-duz0YCH",
        "outputId": "6655b788-0045-451b-8cba-cfb3025a36f3"
      },
      "outputs": [
        {
          "output_type": "stream",
          "name": "stdout",
          "text": [
            "[[], [1]]\n",
            "[[2], [1]]\n",
            "[[2, 3], [1]]\n",
            "[[2, 3], [1, 4]]\n",
            "[[2, 3, 5], [1, 4]]\n",
            "[[2, 3, 5, 6], [1, 4]]\n",
            "[[2, 3, 5, 6, 7], [1, 4]]\n",
            "[[2, 3, 5, 6, 7, 8], [1, 4]]\n",
            "[[2, 3, 5, 6, 7, 8], [1, 4, 9]]\n",
            "[[2, 3, 5, 6, 7, 8, 10], [1, 4, 9]]\n"
          ]
        }
      ],
      "source": [
        "'''FUNCTION 1.0 IMPLEMENTATION'''#CORRECT\n",
        "def init_doors(n : int) -> list[str]:\n",
        "    return ['C' for i in range(n)]\n",
        "\n",
        "def open_and_close2(n : int) -> list[str]:\n",
        "    initial = init_doors(n)\n",
        "    for i in range(2,n + 1):\n",
        "        for j in range(i-1, len(initial), i):\n",
        "            if initial[j] == 'C':\n",
        "                initial[j] = 'O'\n",
        "            else:\n",
        "                initial[j] = 'C'\n",
        "    return initial\n",
        "\n",
        "def output(n : int):\n",
        "    indexing = open_and_close2(n)\n",
        "    o_cells = [i + 1 for i in range(len(indexing)) if indexing[i] == 'O']\n",
        "    c_cells = [i + 1 for i in range(len(indexing)) if indexing[i] == 'C']\n",
        "    return [o_cells, c_cells]\n",
        "\n",
        "\n",
        "print(output(1))\n",
        "print(output(2))\n",
        "print(output(3))\n",
        "print(output(4))\n",
        "print(output(5))\n",
        "print(output(6))\n",
        "print(output(7))\n",
        "print(output(8))\n",
        "print(output(9))\n",
        "print(output(10)) "
      ]
    },
    {
      "cell_type": "code",
      "source": [
        "'''FUNCTION 2.0 IMPLEMENTATION'''#CORRECT\n",
        "def is_prime1(n : int):\n",
        "    if n == 1:\n",
        "        return False\n",
        "    return not any([n % i == 0 for i in range(2, n // 2 + 1)])\n",
        "\n",
        "def num_factors1(n : int):\n",
        "    return len([i for i in range(1, n // 2 + 1) if n % i == 0])\n",
        "\n",
        "def open_and_close1(n : int):\n",
        "    num = [i for i in range(1, n + 1)]\n",
        "    o_cells = [i for i in num if is_prime1(i) or num_factors1(i) % 2 == 1]\n",
        "    c_cells = [i for i in num if num_factors1(i) % 2 == 0 and (not is_prime1(i))]\n",
        "    return [o_cells, c_cells]\n",
        "\n",
        "print(open_and_close1(10))"
      ],
      "metadata": {
        "id": "uIWUdNelbWSd"
      },
      "execution_count": null,
      "outputs": []
    },
    {
      "cell_type": "code",
      "source": [
        "'''FUNCTION 3.0 IMPLEMENTATION'''#CORRECT\n",
        "def is_prime(n : int):\n",
        "    if n == 1:\n",
        "        return False\n",
        "    return not any([n % i == 0 for i in range(2, n // 2 + 1)])\n",
        "\n",
        "def num_factors(n : int):\n",
        "    return len([i for i in range(1, n // 2 + 1) if n % i == 0])\n",
        "\n",
        "def open_and_close(n : int):\n",
        "    num = [i for i in range(1, n + 1)]\n",
        "    o_cells = [i for i in num if is_prime(i) or num_factors(i) % 2 == 1]\n",
        "    return [o_cells, list(set(num) - set(o_cells))]\n",
        "\n",
        "print(open_and_close(5))"
      ],
      "metadata": {
        "colab": {
          "base_uri": "https://localhost:8080/"
        },
        "id": "SmSIVCNGUh5N",
        "outputId": "a2302778-6818-4970-c107-8c78983ff475"
      },
      "execution_count": 40,
      "outputs": [
        {
          "output_type": "stream",
          "name": "stdout",
          "text": [
            "[[2, 3, 5], [1, 4]]\n"
          ]
        }
      ]
    }
  ]
}