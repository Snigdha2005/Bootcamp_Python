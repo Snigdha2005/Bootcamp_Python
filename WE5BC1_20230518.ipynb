{
  "nbformat": 4,
  "nbformat_minor": 0,
  "metadata": {
    "colab": {
      "private_outputs": true,
      "provenance": [],
      "include_colab_link": true
    },
    "kernelspec": {
      "name": "python3",
      "display_name": "Python 3"
    },
    "language_info": {
      "name": "python"
    }
  },
  "cells": [
    {
      "cell_type": "markdown",
      "metadata": {
        "id": "view-in-github",
        "colab_type": "text"
      },
      "source": [
        "<a href=\"https://colab.research.google.com/github/Snigdha2005/Bootcamp_Python/blob/main/WE5BC1_20230518.ipynb\" target=\"_parent\"><img src=\"https://colab.research.google.com/assets/colab-badge.svg\" alt=\"Open In Colab\"/></a>"
      ]
    },
    {
      "cell_type": "code",
      "execution_count": null,
      "metadata": {
        "id": "PWg-pANPBDZ4"
      },
      "outputs": [],
      "source": [
        "def myfunc(a):\n",
        "    empty=[]\n",
        "    for i in range(len(a)):\n",
        "        if i%2==0:\n",
        "            empty.append(a[i].upper())\n",
        "        else:\n",
        "            empty.append(a[i].lower())\n",
        "\n",
        "    return \"\".join(empty)"
      ]
    },
    {
      "cell_type": "code",
      "source": [
        "def alt_caseA(a: str) -> str:\n",
        "    altered = []\n",
        "    for pos, ch in enumerate(a):\n",
        "        if pos % 2 == 0:\n",
        "            altered.append(ch.upper())\n",
        "        else:\n",
        "            altered.append(ch.lower())\n",
        "    return ''.join(altered)"
      ],
      "metadata": {
        "id": "3zpsR7eZBWBV"
      },
      "execution_count": null,
      "outputs": []
    },
    {
      "cell_type": "code",
      "source": [
        "def alt_caseB(a: str) -> str:\n",
        "    altered = []\n",
        "    for pos, ch in enumerate(a):\n",
        "        new_ch = ch.upper() if pos % 2 == 0 else ch.lower()\n",
        "        altered.append(new_ch)\n",
        "    return ''.join(altered)"
      ],
      "metadata": {
        "id": "rgqj7yNyCJqU"
      },
      "execution_count": null,
      "outputs": []
    },
    {
      "cell_type": "code",
      "source": [
        "def alt_caseC(a: str) -> str:\n",
        "    return ''.join([ch.upper() if pos % 2 == 0 else ch.lower()\n",
        "                    for pos, ch in enumerate(a)])"
      ],
      "metadata": {
        "id": "oCmrJu1nCcWt"
      },
      "execution_count": null,
      "outputs": []
    },
    {
      "cell_type": "code",
      "source": [
        "def alt_caseD(a: str) -> str:\n",
        "    change = [str.upper, str.lower]\n",
        "    return ''.join([change[pos%2](ch) for pos, ch in enumerate(a)])      \n"
      ],
      "metadata": {
        "id": "mzUBEe2kDNhR"
      },
      "execution_count": null,
      "outputs": []
    },
    {
      "cell_type": "code",
      "source": [
        "u = str.upper # 'aTaQ'"
      ],
      "metadata": {
        "id": "vcb-YSZwD1nA"
      },
      "execution_count": null,
      "outputs": []
    },
    {
      "cell_type": "code",
      "source": [
        "u('a')"
      ],
      "metadata": {
        "id": "O0i5C6UuFrnj"
      },
      "execution_count": null,
      "outputs": []
    },
    {
      "cell_type": "code",
      "source": [
        "# ---------------------#\n",
        "# OPTIONAL! OPTIONAL!! #\n",
        "# ---------------------#\n",
        "\n",
        "def alt_caseE(a: str) -> str:\n",
        "    fs = [str.upper, str.lower] * len(a)\n",
        "    return ''.join([f(ch) for f, ch in zip(fs, a)])"
      ],
      "metadata": {
        "id": "KZNqdnZqFsot"
      },
      "execution_count": null,
      "outputs": []
    },
    {
      "cell_type": "code",
      "source": [
        "def alt_caseF(a: str) -> str:\n",
        "    u = a[::2].upper() + ' '\n",
        "    l = a[1::2].lower()\n",
        "    return ''.join(''.join(ul) for ul in zip(u, l))[:-1]"
      ],
      "metadata": {
        "id": "FIw3ur9aHBk7"
      },
      "execution_count": null,
      "outputs": []
    },
    {
      "cell_type": "code",
      "source": [
        "def alt_caseG(a: str) -> str:\n",
        "    la = list(a)\n",
        "    la[::2] = ''.join(la[::2]).upper()\n",
        "    la[1::2] = ''.join(la[1::2]).lower()\n",
        "    return ''.join(la)"
      ],
      "metadata": {
        "id": "0rMhQi0fKYj8"
      },
      "execution_count": null,
      "outputs": []
    },
    {
      "cell_type": "code",
      "source": [
        "alt_caseG(\"Hello\")"
      ],
      "metadata": {
        "id": "rGg5uYU9LdOq"
      },
      "execution_count": null,
      "outputs": []
    },
    {
      "cell_type": "code",
      "source": [
        "a = \"abcdefgh\"\n",
        "la = list(a)"
      ],
      "metadata": {
        "id": "cMUi-N4CLfkh"
      },
      "execution_count": null,
      "outputs": []
    },
    {
      "cell_type": "code",
      "source": [
        "la[::2]"
      ],
      "metadata": {
        "id": "XHRNN0euMrG6"
      },
      "execution_count": null,
      "outputs": []
    },
    {
      "cell_type": "code",
      "source": [
        "la[::2] = \"1234\""
      ],
      "metadata": {
        "id": "hjmoVJE7MsU5"
      },
      "execution_count": null,
      "outputs": []
    },
    {
      "cell_type": "code",
      "source": [
        "la"
      ],
      "metadata": {
        "id": "ntPjsAqtMvp2"
      },
      "execution_count": null,
      "outputs": []
    },
    {
      "cell_type": "code",
      "source": [
        "a = \"abcdefgh\"\n",
        "la = list(a)\n",
        "la[::2] = ''.join(la[::2]).upper()"
      ],
      "metadata": {
        "id": "0XTBASPQMwIq"
      },
      "execution_count": null,
      "outputs": []
    },
    {
      "cell_type": "code",
      "source": [
        "la"
      ],
      "metadata": {
        "id": "prrUmZnQNFfn"
      },
      "execution_count": null,
      "outputs": []
    },
    {
      "cell_type": "code",
      "source": [
        "a = \"abcdefgh\"\n",
        "la = list(a)\n",
        "la[::2] = ''.join(la[::2]).upper()\n",
        "la[1::2] = ''.join(la[1::2]).lower()\n"
      ],
      "metadata": {
        "id": "VPswKMWFNF7X"
      },
      "execution_count": null,
      "outputs": []
    },
    {
      "cell_type": "code",
      "source": [
        "la"
      ],
      "metadata": {
        "id": "Y3F2HQF_NTmG"
      },
      "execution_count": null,
      "outputs": []
    },
    {
      "cell_type": "code",
      "source": [
        "''.join(la)"
      ],
      "metadata": {
        "id": "wuBgYHutNUHt"
      },
      "execution_count": null,
      "outputs": []
    },
    {
      "cell_type": "code",
      "source": [
        "def to_roman(n: int) -> str:\n",
        "    arabic = 1000, 900, 500, 400, 100, 90, 50, 40, 10, 9, 5, 4, 1\n",
        "    romans = \"M\", \"CM\", \"D\", \"CD\", \"C\", \"XC\", \"L\", \"XL\", \"X\", \"IX\", \"V\", \"IV\", \"I\"\n",
        "    a2r = dict(zip(arabic, romans))\n",
        "    roman = ''\n",
        "    for a in arabic:\n",
        "        roman += (n // a) * a2r[a]\n",
        "        n %= a\n",
        "    return roman "
      ],
      "metadata": {
        "id": "rqW3VbH0NWEO"
      },
      "execution_count": null,
      "outputs": []
    },
    {
      "cell_type": "code",
      "source": [
        "def to_arabic(s: str) -> int:\n",
        "    s = s.upper().replace(\"CM\", \"DCCCC\").replace(\"CD\", \"CCCC\").\\\n",
        "                  replace(\"XC\", \"LXXXX\").replace(\"XL\", \"XXXX\").\\\n",
        "                  replace(\"IX\", \"VIIII\").replace(\"IV\", \"IIII\")\n",
        "    romans = \"MDCLXVI\"\n",
        "    arabic = 1000, 500, 100, 50, 10, 5, 1\n",
        "    r2a = dict(zip(romans, arabic))\n",
        "    return sum([r2a[ch] for ch in s])             "
      ],
      "metadata": {
        "id": "YKDz1VRMkxyM"
      },
      "execution_count": null,
      "outputs": []
    },
    {
      "cell_type": "code",
      "source": [
        "to_roman(3674)"
      ],
      "metadata": {
        "id": "MQmYYywKkFTd"
      },
      "execution_count": null,
      "outputs": []
    },
    {
      "cell_type": "code",
      "source": [
        "to_arabic(to_roman(1256))"
      ],
      "metadata": {
        "id": "nOHaoWdZl_-r"
      },
      "execution_count": null,
      "outputs": []
    },
    {
      "cell_type": "code",
      "source": [
        "to_arabic(\"MCMXX\")"
      ],
      "metadata": {
        "id": "fuOIZWlVmDAe"
      },
      "execution_count": null,
      "outputs": []
    },
    {
      "cell_type": "markdown",
      "source": [
        "# Anagrams revisited"
      ],
      "metadata": {
        "id": "6YjHflAYrpKB"
      }
    },
    {
      "cell_type": "code",
      "source": [
        "words = [\"adds\", \"cloud\", \"asp\", \"dads\", \"hello\", \"sap\", \"could\", \"asp\"]"
      ],
      "metadata": {
        "id": "W2Uzhn-fmGdP"
      },
      "execution_count": null,
      "outputs": []
    },
    {
      "cell_type": "code",
      "source": [
        "sorted(words, key=sorted)"
      ],
      "metadata": {
        "id": "cth_dhVZrZVc"
      },
      "execution_count": null,
      "outputs": []
    },
    {
      "cell_type": "code",
      "source": [
        "from itertools import groupby"
      ],
      "metadata": {
        "id": "IwLqESYireXJ"
      },
      "execution_count": null,
      "outputs": []
    },
    {
      "cell_type": "code",
      "source": [
        "groupby(sorted(words, key=sorted), key=sorted)"
      ],
      "metadata": {
        "id": "tBWgw28TsXhe"
      },
      "execution_count": null,
      "outputs": []
    },
    {
      "cell_type": "code",
      "source": [
        "for a, b in groupby(sorted(words, key=sorted), key=sorted):\n",
        "    print(a, b)"
      ],
      "metadata": {
        "id": "uEjCJl03tJhe"
      },
      "execution_count": null,
      "outputs": []
    },
    {
      "cell_type": "code",
      "source": [
        "for a, b in groupby(sorted(words, key=sorted), key=sorted):\n",
        "    print(a, list(b))"
      ],
      "metadata": {
        "id": "xvojq22WtWdG"
      },
      "execution_count": null,
      "outputs": []
    },
    {
      "cell_type": "code",
      "source": [
        "groups = [list(b) for a, b in groupby(sorted(words, key=sorted), key=sorted)]\n",
        "print([_ for _ in groups if len(_) > 1])"
      ],
      "metadata": {
        "id": "ICML8WXksy2C"
      },
      "execution_count": null,
      "outputs": []
    },
    {
      "cell_type": "code",
      "source": [],
      "metadata": {
        "id": "ihZWuRHRtsLv"
      },
      "execution_count": null,
      "outputs": []
    }
  ]
}