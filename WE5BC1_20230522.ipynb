{
  "nbformat": 4,
  "nbformat_minor": 0,
  "metadata": {
    "colab": {
      "private_outputs": true,
      "provenance": [],
      "include_colab_link": true
    },
    "kernelspec": {
      "name": "python3",
      "display_name": "Python 3"
    },
    "language_info": {
      "name": "python"
    }
  },
  "cells": [
    {
      "cell_type": "markdown",
      "metadata": {
        "id": "view-in-github",
        "colab_type": "text"
      },
      "source": [
        "<a href=\"https://colab.research.google.com/github/Snigdha2005/Bootcamp_Python/blob/main/WE5BC1_20230522.ipynb\" target=\"_parent\"><img src=\"https://colab.research.google.com/assets/colab-badge.svg\" alt=\"Open In Colab\"/></a>"
      ]
    },
    {
      "cell_type": "markdown",
      "source": [
        "# Circular Primes"
      ],
      "metadata": {
        "id": "aSYs3kSiquOF"
      }
    },
    {
      "cell_type": "code",
      "source": [
        "def is_prime(n: int) -> bool:\n",
        "    if n < 2:\n",
        "        return False\n",
        "    \n",
        "    if n == 2: # if n in {2, 3, 5}:\n",
        "        return True\n",
        "    \n",
        "    if n % 2 == 0:\n",
        "        return False\n",
        "        \n",
        "    r = 3\n",
        "    while r * r <= n:\n",
        "        if n % r == 0:\n",
        "            return False\n",
        "        r += 2\n",
        "    return True"
      ],
      "metadata": {
        "id": "ShEmEjPNq4AQ"
      },
      "execution_count": null,
      "outputs": []
    },
    {
      "cell_type": "code",
      "source": [
        "def circular_permutations(n: int) -> list[int]:\n",
        "    s = str(n)\n",
        "    k, ss = len(s), s + s\n",
        "    return [int(ss[i:i+k]) for i in range(k)]"
      ],
      "metadata": {
        "id": "OfbbZgdzslWG"
      },
      "execution_count": null,
      "outputs": []
    },
    {
      "cell_type": "code",
      "source": [
        "def is_circular_prime(n: int) -> bool:\n",
        "    return all([is_prime(_) for _ in circular_permutations(n)])"
      ],
      "metadata": {
        "id": "nz6O5z_MtBWf"
      },
      "execution_count": null,
      "outputs": []
    },
    {
      "cell_type": "markdown",
      "source": [
        "# Student ranking\n",
        "\n",
        "## Input: \n",
        "* Scores of students; \n",
        "  - n students; \n",
        "  - m subjects\n",
        "* Each line is m marks\n",
        "  - all are non-zero\n",
        "* The marks are unique across each subject; that is no two students get the same mark in the same subject.\n",
        "\n",
        "\n",
        "## Rules\n",
        "* if each mark of a student S is greater than the corresponding mark of T, then we say S > T\n",
        "\n",
        "* if each mark of a student S is less than the corresponding mark of T, then we say S < T\n",
        "\n",
        "* if some marks of S are greater and some are lesser we say that they are uncomparable, denoted by A # B\n",
        "\n",
        "Of course if A > B and B > C then A > C\n",
        "\n",
        "Write a program that reads the input and outputs the smallest number of lines of the form A > B to represent the final status completely.\n",
        "\n",
        "That is the program should not output A > C if A > C and B > C are output\n",
        "\n",
        "sample data\n",
        "\n",
        "A 12 14 16\n",
        "B 5 6 7\n",
        "C 17 20 23\n",
        "D 2 40 12\n",
        "E 3 41 13\n",
        "F 7 8 9\n",
        "G 4 5 6\n",
        "\n",
        "### Output\n",
        "E>D\n",
        "\n",
        "C>A>F>B>G\n"
      ],
      "metadata": {
        "id": "mHKU6nqEti-M"
      }
    },
    {
      "cell_type": "code",
      "source": [
        "def load_data(filename: str) -> dict:\n",
        "    mark_list = dict()\n",
        "    for line in open(filename):\n",
        "        name, *marks = line.strip().split()\n",
        "        mark_list[name] = [int(mark) for mark in marks]\n",
        "    return mark_list"
      ],
      "metadata": {
        "id": "eeA8WvOK8VbM"
      },
      "execution_count": null,
      "outputs": []
    },
    {
      "cell_type": "code",
      "source": [
        "print(load_data(\"student.marks.txt\"))"
      ],
      "metadata": {
        "id": "-6nOUT0p-W2s"
      },
      "execution_count": null,
      "outputs": []
    },
    {
      "cell_type": "code",
      "source": [
        "GT, LT, NC = \">\", \"<\", \"#\""
      ],
      "metadata": {
        "id": "r8GTWtXV-74K"
      },
      "execution_count": null,
      "outputs": []
    },
    {
      "cell_type": "code",
      "source": [
        "def relation(a_marks: list[int], b_marks: list[int]) -> str:\n",
        "    if all([a > b for a, b in zip(a_marks, b_marks)]):\n",
        "        return GT\n",
        "    if all([b > a for a, b in zip(a_marks, b_marks)]):\n",
        "        return LT\n",
        "    return NC"
      ],
      "metadata": {
        "id": "RA5LqFkq-bUB"
      },
      "execution_count": null,
      "outputs": []
    },
    {
      "cell_type": "code",
      "source": [
        "data = load_data(\"student.marks.txt\")"
      ],
      "metadata": {
        "id": "qBf8HUm-_Izd"
      },
      "execution_count": null,
      "outputs": []
    },
    {
      "cell_type": "code",
      "source": [
        "relation(data['A'], data['B'])"
      ],
      "metadata": {
        "id": "rlnNzNEw_RC0"
      },
      "execution_count": null,
      "outputs": []
    },
    {
      "cell_type": "code",
      "source": [
        "from itertools import combinations as nCr\n",
        "def all_relations(marks: dict) -> set:\n",
        "    relations = set()\n",
        "    names = list(marks.keys())\n",
        "    for pair in nCr(names, 2):\n",
        "        rel = relation(marks[pair[0]], marks[pair[1]])\n",
        "        if rel == GT:\n",
        "            relations.add(pair)\n",
        "        elif rel == LT:\n",
        "            relations.add((pair[1], pair[0]))\n",
        "    return relations"
      ],
      "metadata": {
        "id": "AcCYGX9w_VSX"
      },
      "execution_count": null,
      "outputs": []
    },
    {
      "cell_type": "code",
      "source": [
        "print(all_relations(data))"
      ],
      "metadata": {
        "id": "4lg_k9KiAQW1"
      },
      "execution_count": null,
      "outputs": []
    },
    {
      "cell_type": "code",
      "source": [
        "def drop_redundancies(rels: set)-> set:\n",
        "    heads = {p for p, q in rels}\n",
        "    tails = {q for p, q in rels}\n",
        "    print(heads)\n",
        "    print(tails)\n",
        "    both = heads & tails\n",
        "    print(both)"
      ],
      "metadata": {
        "id": "2cKFFliSAU50"
      },
      "execution_count": null,
      "outputs": []
    },
    {
      "cell_type": "code",
      "source": [
        "drop_redundancies(all_relations(data))"
      ],
      "metadata": {
        "id": "RKSomaG-BP5g"
      },
      "execution_count": null,
      "outputs": []
    },
    {
      "cell_type": "code",
      "source": [
        "def drop_redundancies(rels: set)-> set:\n",
        "    heads = {p for p, q in rels}\n",
        "    tails = {q for p, q in rels}\n",
        "    both = heads & tails\n",
        "    redundant = set()\n",
        "    for head in heads:\n",
        "        for tail in tails:\n",
        "            if (head, tail) in rels:\n",
        "                if any([(head, b) in rels and (b, tail) in rels\\\n",
        "                       for b in both]):\n",
        "                    redundant.add((head, tail))\n",
        "    return rels - redundant"
      ],
      "metadata": {
        "id": "Iy3LSv_bBVYF"
      },
      "execution_count": null,
      "outputs": []
    },
    {
      "cell_type": "code",
      "source": [
        "# Complete check for redundancies\n",
        "# has a lot of redundant checks :-)\n",
        "for α in names:\n",
        "    for β in names:\n",
        "        for γ in names:\n",
        "            if (α, β) in rels and\\\n",
        "                (α, γ) in rels and\\\n",
        "                (γ, β) in rels:\n",
        "                    redundant.add((α, β))"
      ],
      "metadata": {
        "id": "D7IqF1DrCWfr"
      },
      "execution_count": null,
      "outputs": []
    },
    {
      "cell_type": "code",
      "source": [
        "print(drop_redundancies(all_relations(data)))"
      ],
      "metadata": {
        "id": "RfZU74M2EtkB"
      },
      "execution_count": null,
      "outputs": []
    },
    {
      "cell_type": "code",
      "source": [
        "def make_graph(rels: set[tuple[str, str]]):\n",
        "    heads = {p for p, q in rels}\n",
        "    tails = {q for p, q in rels}\n",
        "    starters = heads - tails\n",
        "    chains = [pair for pair in rels if pair[0] in starters]\n",
        "    return chains"
      ],
      "metadata": {
        "id": "8AkoQxAyFCCK"
      },
      "execution_count": null,
      "outputs": []
    },
    {
      "cell_type": "code",
      "source": [
        "make_graph(drop_redundancies(all_relations(data)))"
      ],
      "metadata": {
        "id": "V17aE1aQiIGK"
      },
      "execution_count": null,
      "outputs": []
    },
    {
      "cell_type": "code",
      "source": [
        "h = \"hello\""
      ],
      "metadata": {
        "id": "3ego3M3FiOwl"
      },
      "execution_count": null,
      "outputs": []
    },
    {
      "cell_type": "code",
      "source": [
        "print(h)"
      ],
      "metadata": {
        "id": "im9EMHJssJtl"
      },
      "execution_count": null,
      "outputs": []
    },
    {
      "cell_type": "code",
      "source": [
        "h"
      ],
      "metadata": {
        "id": "kGMiOxBnsLRd"
      },
      "execution_count": null,
      "outputs": []
    },
    {
      "cell_type": "markdown",
      "source": [
        "# Patterns"
      ],
      "metadata": {
        "id": "lLAYQTzWsMWN"
      }
    },
    {
      "cell_type": "code",
      "source": [
        "def make_pattern(size: int) -> list[str]:\n",
        "    return ['+' for n in range(size)]\n",
        "\n",
        "def format_pattern(pattern: list[str]) -> str:\n",
        "    return '\\n'.join([line.center(80) for line in pattern])\n"
      ],
      "metadata": {
        "id": "Mn9tXcRQtDI1"
      },
      "execution_count": null,
      "outputs": []
    },
    {
      "cell_type": "code",
      "source": [
        "print(format_pattern(make_pattern(7)))"
      ],
      "metadata": {
        "id": "czewgnQStzt0"
      },
      "execution_count": null,
      "outputs": []
    },
    {
      "cell_type": "code",
      "source": [
        "def make_pattern(size: int) -> list[str]:\n",
        "    return ['+' * n for n in range(size)]\n",
        "\n",
        "def format_p(pattern: list[str]) -> str:\n",
        "    return '\\n'.join([line.center(80) for line in pattern])"
      ],
      "metadata": {
        "id": "HU8_bq04t2dI"
      },
      "execution_count": null,
      "outputs": []
    },
    {
      "cell_type": "code",
      "source": [
        "print(format_pattern(make_pattern(7)))"
      ],
      "metadata": {
        "id": "NnELEKvVuEF8"
      },
      "execution_count": null,
      "outputs": []
    },
    {
      "cell_type": "code",
      "source": [
        "def make_pattern(size: int) -> list[str]:\n",
        "    return ['+' * (2 * n + 1) for n in range(size)]\n",
        "\n",
        "def format_pyramid(pattern: list[str]) -> str:\n",
        "    return '\\n'.join([line.center(80) for line in pattern])\n",
        "\n",
        "\n",
        "def format_right_triangle(pattern: list[str]) -> str:\n",
        "    return '\\n'.join([line for line in pattern])"
      ],
      "metadata": {
        "id": "QB6wScGauF9w"
      },
      "execution_count": null,
      "outputs": []
    },
    {
      "cell_type": "code",
      "source": [
        "print(format_pyramid(make_pattern(7)))\n",
        "print(format_right_triangle(make_pattern(7)))"
      ],
      "metadata": {
        "id": "yfRBEjOeuLFZ"
      },
      "execution_count": null,
      "outputs": []
    },
    {
      "cell_type": "code",
      "source": [
        "LF, SPACE, BS = '\\n', ' ', '\\b'\n",
        "\n",
        "AT, PLUS = '@', '+'\n",
        "\n",
        "\n",
        "START, REPEAT, END = AT, PLUS + PLUS, BS + AT\n",
        "\n",
        "def make_pattern(size: int) -> list[str]:\n",
        "    return [make_line(i) for i in range(size)]\n",
        "\n",
        "def make_line(line_num: int) -> str:\n",
        "    return start_pattern(line_num) +\\\n",
        "           repeat_pattern(line_num) +\\\n",
        "           end_pattern(line_num)\n",
        "\n",
        "def start_pattern(n: int) -> str:\n",
        "    return START\n",
        "\n",
        "def repeat_pattern(n: int) -> str:\n",
        "    return n * REPEAT\n",
        "\n",
        "def end_pattern(n: int) -> str:\n",
        "    return END"
      ],
      "metadata": {
        "id": "MX-AmG9TuNBz"
      },
      "execution_count": null,
      "outputs": []
    },
    {
      "cell_type": "code",
      "source": [
        "print(format_pyramid(make_pattern(7)))\n",
        "print(format_right_triangle(make_pattern(7)))"
      ],
      "metadata": {
        "id": "TEQlJJi0wG2r"
      },
      "execution_count": null,
      "outputs": []
    },
    {
      "cell_type": "code",
      "source": [
        "def format_left_triangle(pattern: list[str]) -> str:\n",
        "    return LF.join([line.rjust(80) for line in pattern])"
      ],
      "metadata": {
        "id": "QjnMA8smwNeQ"
      },
      "execution_count": null,
      "outputs": []
    },
    {
      "cell_type": "code",
      "source": [
        "print(format_pyramid(make_pattern(7)))\n",
        "print(format_right_triangle(make_pattern(7)))\n",
        "print(format_left_triangle(make_pattern(7)))"
      ],
      "metadata": {
        "id": "rHeUiiuDxYTs"
      },
      "execution_count": null,
      "outputs": []
    },
    {
      "cell_type": "code",
      "source": [
        "def change_symbol(old: str, new:str, output: str) -> str:\n",
        "    return [_.replace(old, new) for _ in output]"
      ],
      "metadata": {
        "id": "yqZHJeLmxc90"
      },
      "execution_count": null,
      "outputs": []
    },
    {
      "cell_type": "code",
      "source": [
        "pat = change_symbol(PLUS, '*', make_pattern(7))"
      ],
      "metadata": {
        "id": "v_QXLebYx0k7"
      },
      "execution_count": null,
      "outputs": []
    },
    {
      "cell_type": "code",
      "source": [
        "print(format_pyramid(pat))"
      ],
      "metadata": {
        "id": "yPiG9Lgfx9Rz"
      },
      "execution_count": null,
      "outputs": []
    },
    {
      "cell_type": "code",
      "source": [
        "def format_diamond(pat: list[str]) -> str:\n",
        "    return LF.join([line.center(80) for line in pat[:-1]+pat[::-1]])"
      ],
      "metadata": {
        "id": "Fc76kif_yWp0"
      },
      "execution_count": null,
      "outputs": []
    },
    {
      "cell_type": "code",
      "source": [
        "print(format_diamond(pat))"
      ],
      "metadata": {
        "id": "CUOlfjRXzAgo"
      },
      "execution_count": null,
      "outputs": []
    },
    {
      "cell_type": "code",
      "source": [
        "def format_arrow(pat: list[str]) -> str:\n",
        "    return LF.join([line for line in pat[:-1]+pat[::-1]])"
      ],
      "metadata": {
        "id": "mMZRWzumzE2_"
      },
      "execution_count": null,
      "outputs": []
    },
    {
      "cell_type": "code",
      "source": [
        "print(format_arrow(pat))"
      ],
      "metadata": {
        "id": "5-DXdOsQz7iS"
      },
      "execution_count": null,
      "outputs": []
    },
    {
      "cell_type": "code",
      "source": [
        "def format_hourglass(pat: list[str]) -> str:\n",
        "    return LF.join([line.center(60) for line in pat[::-1]+pat[1:]])"
      ],
      "metadata": {
        "id": "32xu_vKEz-mt"
      },
      "execution_count": null,
      "outputs": []
    },
    {
      "cell_type": "code",
      "source": [
        "print(format_hourglass(pat))"
      ],
      "metadata": {
        "id": "TTGnN6Hw18T5"
      },
      "execution_count": null,
      "outputs": []
    },
    {
      "cell_type": "code",
      "source": [
        "print(format_pyramid(make_pattern(7)))"
      ],
      "metadata": {
        "id": "xw6N7_H-2DmR"
      },
      "execution_count": null,
      "outputs": []
    },
    {
      "cell_type": "code",
      "source": [
        "https://drive.google.com/file/d/13tzlxYzA3z4REKlEazhfxAzkXmOG8_Oo/view?usp=sharing\n"
      ],
      "metadata": {
        "id": "vrGQUnc-GFlZ"
      },
      "execution_count": null,
      "outputs": []
    },
    {
      "cell_type": "code",
      "source": [
        "https://learnbyexample.gitbooks.io/linux-command-line/content/Text_Processing.html"
      ],
      "metadata": {
        "id": "1kZJHYCdIzlE"
      },
      "execution_count": null,
      "outputs": []
    },
    {
      "cell_type": "code",
      "source": [],
      "metadata": {
        "id": "m2vfC9jGcKHP"
      },
      "execution_count": null,
      "outputs": []
    }
  ]
}