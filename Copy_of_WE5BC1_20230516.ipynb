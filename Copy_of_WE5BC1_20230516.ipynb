{
  "cells": [
    {
      "cell_type": "markdown",
      "metadata": {
        "id": "view-in-github",
        "colab_type": "text"
      },
      "source": [
        "<a href=\"https://colab.research.google.com/github/Snigdha2005/Bootcamp_Python/blob/main/Copy_of_WE5BC1_20230516.ipynb\" target=\"_parent\"><img src=\"https://colab.research.google.com/assets/colab-badge.svg\" alt=\"Open In Colab\"/></a>"
      ]
    },
    {
      "cell_type": "markdown",
      "id": "815c9364",
      "metadata": {
        "id": "815c9364"
      },
      "source": [
        "# Problem 1\n",
        "\n",
        "## Euler 001\n",
        "\n",
        "If we list all the natural numbers below 10 that are multiples of 3 or 5, we get 3, 5, 6 and 9. The sum of these multiples is 23. Find the sum of all the multiples of 3 or 5 below 1000.\n"
      ]
    },
    {
      "cell_type": "code",
      "execution_count": 1,
      "id": "988c3335",
      "metadata": {
        "id": "988c3335",
        "colab": {
          "base_uri": "https://localhost:8080/"
        },
        "outputId": "625f0c31-9769-4c68-8b43-072cb5bf0d2d"
      },
      "outputs": [
        {
          "output_type": "execute_result",
          "data": {
            "text/plain": [
              "233168"
            ]
          },
          "metadata": {},
          "execution_count": 1
        }
      ],
      "source": [
        "'''FUNCTION 1.0 TO GET EULER SUM'''#CORRECT\n",
        "def select(n: int) -> bool:\n",
        "    return n % 3 == 0 or n % 5 == 0 #if multiple of 3 or 5\n",
        "\n",
        "def euler001(limit: int) -> int:\n",
        "    n, total = 1, 0\n",
        "    while n < limit:\n",
        "        if select(n):\n",
        "            total += n # adding all the multiples\n",
        "        n += 1\n",
        "    return total    \n",
        "euler001(10)\n",
        "euler001(1000)"
      ]
    },
    {
      "cell_type": "code",
      "execution_count": 2,
      "id": "db6a3bc2",
      "metadata": {
        "id": "db6a3bc2",
        "outputId": "de6ff246-9cb1-4726-81dd-0e74e13fee59",
        "colab": {
          "base_uri": "https://localhost:8080/"
        }
      },
      "outputs": [
        {
          "output_type": "execute_result",
          "data": {
            "text/plain": [
              "233168"
            ]
          },
          "metadata": {},
          "execution_count": 2
        }
      ],
      "source": [
        "'''FUNCTION 2.0 TO GET EULER SUM'''#CORRECT\n",
        "def select(n: int) -> bool:\n",
        "    return n % 3 == 0 or n % 5 == 0\n",
        "\n",
        "def euler001A(limit: int) -> int:\n",
        "    total = 0\n",
        "    for n in range(1, limit):#checking upto limit using for loop\n",
        "        if select(n):\n",
        "            total += n\n",
        "    return total\n",
        "euler001A(1000)  "
      ]
    },
    {
      "cell_type": "code",
      "execution_count": 6,
      "id": "1dd7df7f",
      "metadata": {
        "id": "1dd7df7f",
        "colab": {
          "base_uri": "https://localhost:8080/"
        },
        "outputId": "b728498f-e6ff-41b3-ecc1-65256488f479"
      },
      "outputs": [
        {
          "output_type": "execute_result",
          "data": {
            "text/plain": [
              "233168"
            ]
          },
          "metadata": {},
          "execution_count": 6
        }
      ],
      "source": [
        "'''FUNCTION 3.0 TO GET EULER SUM'''#CORRECT\n",
        "def euler001B(limit: int) -> int:\n",
        "    # sum = ap(3,6,9....) + ap(5,10,15....) - ap(15,30,45....)\n",
        "    return sum(range(3, limit, 3)) + \\\n",
        "           sum(range(5, limit, 5)) - \\\n",
        "           sum(range(15, limit, 15))\n",
        "euler001B(1000)"
      ]
    },
    {
      "cell_type": "code",
      "execution_count": 7,
      "id": "7ad9b415",
      "metadata": {
        "id": "7ad9b415",
        "colab": {
          "base_uri": "https://localhost:8080/"
        },
        "outputId": "f03794fe-ba1e-4df3-fa15-77e9941541bf"
      },
      "outputs": [
        {
          "output_type": "execute_result",
          "data": {
            "text/plain": [
              "233168"
            ]
          },
          "metadata": {},
          "execution_count": 7
        }
      ],
      "source": [
        "'''FUNCTION 4.0 TO GET EULER SUM'''#CORRECT\n",
        "def euler001C(limit: int) -> int:\n",
        "    return sum(set(range(3, limit, 3)) |set(range(5, limit, 5))) #finding the union of both the sets of multiples to remove duplicates 15,30,45.... \n",
        "euler001C(1000)"
      ]
    },
    {
      "cell_type": "code",
      "execution_count": 8,
      "id": "e1c24df6",
      "metadata": {
        "id": "e1c24df6",
        "colab": {
          "base_uri": "https://localhost:8080/"
        },
        "outputId": "c2d624f9-a8c1-45ad-d704-ee2a886340b4"
      },
      "outputs": [
        {
          "output_type": "execute_result",
          "data": {
            "text/plain": [
              "233168"
            ]
          },
          "metadata": {},
          "execution_count": 8
        }
      ],
      "source": [
        "'''FUNCTION 5.0 TO GET EULER SUM'''#CORRECT\n",
        "def select(n: int) -> bool:\n",
        "    return n % 3 == 0 or n % 5 == 0\n",
        "\n",
        "def euler001D(limit: int) -> int:\n",
        "    return sum(filter(select, range(1, limit)))#filtering from the list 1 to limit, to find the multiples of 3 or 5 and returning the sum \n",
        "euler001D(1000)"
      ]
    },
    {
      "cell_type": "code",
      "execution_count": 9,
      "id": "2bbc66c3",
      "metadata": {
        "id": "2bbc66c3",
        "colab": {
          "base_uri": "https://localhost:8080/"
        },
        "outputId": "eb086392-f3e7-4737-fb2c-e4074daf8a3d"
      },
      "outputs": [
        {
          "output_type": "execute_result",
          "data": {
            "text/plain": [
              "233168"
            ]
          },
          "metadata": {},
          "execution_count": 9
        }
      ],
      "source": [
        "'''FUNCTION 6.0 TO GET EULER SUM'''#CORRECT\n",
        "def select(n: int) -> bool:\n",
        "    return n % 3 == 0 or n % 5 == 0\n",
        "\n",
        "def euler001E(limit: int) -> int:\n",
        "    return sum(n for n in range(1, limit) if select(n)) #using principles of list comprehension \n",
        "euler001E(1000)"
      ]
    },
    {
      "cell_type": "markdown",
      "source": [
        "$gen\\_euler001(1000, [3, 5]) \\equiv euler001(limit)$"
      ],
      "metadata": {
        "id": "PnMTz0UH8fv7"
      },
      "id": "PnMTz0UH8fv7"
    },
    {
      "cell_type": "code",
      "execution_count": null,
      "id": "c6503518",
      "metadata": {
        "id": "c6503518"
      },
      "outputs": [],
      "source": [
        "'''FUNCTION 1.0 TO GET SUM OF GENERAL EULER NUMBERS'''#CORRECT\n",
        "def pick(n: int, ps: list[int]) -> int:\n",
        "    if any(n % p == 0 for p in ps): #to check if multiple of any number in the given list of numbers\n",
        "        return n #return number\n",
        "    else:\n",
        "        return 0 #return 0 (does not change sum)\n",
        "\n",
        "def gen_euler001(limit: int, nums: list[int]) -> int:\n",
        "    ''' Compute the sum of the multiples of the integers \n",
        "    in the nums below the given limit.'''\n",
        "    return sum(pick(k, nums) for k in range(1, limit))#calculating sum by iterating over the range of numbers 1 to limit and checking if it is a multiple of any number in the list given"
      ]
    },
    {
      "cell_type": "code",
      "source": [
        "'''FUNCTION 2.0 TO GET SUM OF GENERAL EULER NUMBERS'''#CORRECT\n",
        "def gen_euler001(limit: int, nums: list[int]) -> int:\n",
        "    all_multiples = set()\n",
        "    for num in nums:\n",
        "        all_multiples |= set(range(num, limit, num))#creating a set of all multiples of each number in the list below the given limit\n",
        "    return sum(all_multiples)#returning sum"
      ],
      "metadata": {
        "id": "SzR_1FZg8y61"
      },
      "id": "SzR_1FZg8y61",
      "execution_count": null,
      "outputs": []
    },
    {
      "cell_type": "code",
      "source": [
        "'''FUNCTION 1.0 TO CHECK IF THERE IS A VOWEL IN A GIVEN LIST'''#CORRECT\n",
        "test_data = [\"hello\", \"local\", \"spear\", \"cloud\", \"spare\",\n",
        "             \"dad\", \"add\", \"reaps\", \"swear\", \"pears\", \"wears\"\n",
        "             \"wares\", \"spore\"]\n",
        "def is_vowel(ch: str) -> bool:#checking if particular character is a vowel\n",
        "    return ch in \"AEIOUaeiou\"\n",
        "def is_vowel(ch: str, includeY = False):\n",
        "    vowels = \"AEIOUaeiou\"\n",
        "    if includeY:\n",
        "        vowels += \"yY\"#if y also considered\n",
        "    return ch in vowels\n",
        "print(is_vowel(\"a\"))\n",
        "print(is_vowel(\"Y\"))\n",
        "print(is_vowel(\"y\", True))\n",
        "print(is_vowel(\"y\", False))\n",
        "print(is_vowel(\"a\", False))\n",
        "print(is_vowel(\"a\", True))"
      ],
      "metadata": {
        "id": "c8UdZZrTONK-",
        "colab": {
          "base_uri": "https://localhost:8080/"
        },
        "outputId": "ce59857b-5c3a-4b65-8288-b4a6215f0b5c"
      },
      "id": "c8UdZZrTONK-",
      "execution_count": 11,
      "outputs": [
        {
          "output_type": "stream",
          "name": "stdout",
          "text": [
            "True\n",
            "False\n",
            "True\n",
            "False\n",
            "True\n",
            "True\n"
          ]
        }
      ]
    },
    {
      "cell_type": "code",
      "source": [
        "for i in range(6):#printing the numbers from 0 to 6-1 = 5; by default python adds line end\n",
        "    print(i)"
      ],
      "metadata": {
        "colab": {
          "base_uri": "https://localhost:8080/"
        },
        "id": "higxRpJZR8BL",
        "outputId": "2f89816b-7c40-4154-b548-0769f00f8002"
      },
      "id": "higxRpJZR8BL",
      "execution_count": null,
      "outputs": [
        {
          "output_type": "stream",
          "name": "stdout",
          "text": [
            "0\n",
            "1\n",
            "2\n",
            "3\n",
            "4\n",
            "5\n"
          ]
        }
      ]
    },
    {
      "cell_type": "code",
      "source": [
        "for i in range(6):#changing the end to space\n",
        "    print(i, end=\" \")"
      ],
      "metadata": {
        "colab": {
          "base_uri": "https://localhost:8080/"
        },
        "id": "Zt8KvWBvSlt5",
        "outputId": "e40858c6-307b-4b81-8f34-bcea574ca2df"
      },
      "id": "Zt8KvWBvSlt5",
      "execution_count": null,
      "outputs": [
        {
          "output_type": "stream",
          "name": "stdout",
          "text": [
            "0 1 2 3 4 5 "
          ]
        }
      ]
    },
    {
      "cell_type": "code",
      "source": [
        "'''FUNCTION 1.0 TO CHECK IF TWO GIVEN WORDS ARE ANAGARAMS'''\n",
        "def are_anagrams(a_word: str, b_word: str, ignore_case = True):\n",
        "    if ignore_case:\n",
        "        a_word = a_word.lower()#lower case\n",
        "        b_word = b_word.lower()\n",
        "    return sorted(a_word) == sorted(b_word)#checking if the sorted characters are same "
      ],
      "metadata": {
        "id": "y0_iWAmdSrXY"
      },
      "id": "y0_iWAmdSrXY",
      "execution_count": null,
      "outputs": []
    }
  ],
  "metadata": {
    "kernelspec": {
      "display_name": "Python 3 (ipykernel)",
      "language": "python",
      "name": "python3"
    },
    "language_info": {
      "codemirror_mode": {
        "name": "ipython",
        "version": 3
      },
      "file_extension": ".py",
      "mimetype": "text/x-python",
      "name": "python",
      "nbconvert_exporter": "python",
      "pygments_lexer": "ipython3",
      "version": "3.9.6"
    },
    "colab": {
      "provenance": [],
      "include_colab_link": true
    }
  },
  "nbformat": 4,
  "nbformat_minor": 5
}