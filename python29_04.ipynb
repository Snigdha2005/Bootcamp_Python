{
  "nbformat": 4,
  "nbformat_minor": 0,
  "metadata": {
    "colab": {
      "provenance": [],
      "include_colab_link": true
    },
    "kernelspec": {
      "name": "python3",
      "display_name": "Python 3"
    },
    "language_info": {
      "name": "python"
    }
  },
  "cells": [
    {
      "cell_type": "markdown",
      "metadata": {
        "id": "view-in-github",
        "colab_type": "text"
      },
      "source": [
        "<a href=\"https://colab.research.google.com/github/Snigdha2005/Bootcamp_Python/blob/main/python29_04.ipynb\" target=\"_parent\"><img src=\"https://colab.research.google.com/assets/colab-badge.svg\" alt=\"Open In Colab\"/></a>"
      ]
    },
    {
      "cell_type": "code",
      "execution_count": null,
      "metadata": {
        "colab": {
          "base_uri": "https://localhost:8080/"
        },
        "id": "-8Wo02ePkR1Y",
        "outputId": "f50768e4-fc09-4217-84e5-ba12554344e9"
      },
      "outputs": [
        {
          "output_type": "stream",
          "name": "stdout",
          "text": [
            "Python 3.10.11\n"
          ]
        }
      ],
      "source": [
        "!python --version"
      ]
    },
    {
      "cell_type": "code",
      "source": [
        "nums=[2,4,7,-3,12]\n",
        "nums.append(9)\n",
        "print(nums)\n",
        "nums.extend([1,3,5,6])\n",
        "print(nums)\n",
        "nums.sort()\n",
        "print(nums)\n",
        "print(len(nums))\n",
        "print(nums.count(2))\n",
        "nums.reverse()\n",
        "print(nums)\n",
        "print(nums.index(6))\n",
        "nums.pop(6)\n",
        "print(nums)\n",
        "nums.insert(1,2)\n",
        "print(nums)\n",
        "nums.remove(1)\n",
        "print(nums)\n",
        "print(min(nums))\n",
        "print(max(nums))\n",
        "print(sum(nums))\n",
        "print(nums[3:5])\n",
        "print(nums[3:])\n",
        "print(nums[:5])\n",
        "print(nums[:])\n",
        "print(nums[1::2])\n",
        "print(nums[3:11:2])\n",
        "p=nums\n",
        "print(p[:8]+p[8:]==p[:])"
      ],
      "metadata": {
        "colab": {
          "base_uri": "https://localhost:8080/"
        },
        "id": "oTEqSyrJkpB4",
        "outputId": "7822dc2a-c27b-4434-c6a3-95d3eec05611"
      },
      "execution_count": null,
      "outputs": [
        {
          "output_type": "stream",
          "name": "stdout",
          "text": [
            "[2, 4, 7, -3, 12, 9]\n",
            "[2, 4, 7, -3, 12, 9, 1, 3, 5, 6]\n",
            "[-3, 1, 2, 3, 4, 5, 6, 7, 9, 12]\n",
            "10\n",
            "1\n",
            "[12, 9, 7, 6, 5, 4, 3, 2, 1, -3]\n",
            "3\n",
            "[12, 9, 7, 6, 5, 4, 2, 1, -3]\n",
            "[12, 2, 9, 7, 6, 5, 4, 2, 1, -3]\n",
            "[12, 2, 9, 7, 6, 5, 4, 2, -3]\n",
            "-3\n",
            "12\n",
            "44\n",
            "[7, 6]\n",
            "[7, 6, 5, 4, 2, -3]\n",
            "[12, 2, 9, 7, 6]\n",
            "[12, 2, 9, 7, 6, 5, 4, 2, -3]\n",
            "[2, 7, 5, 2]\n",
            "[7, 5, 2]\n",
            "True\n"
          ]
        }
      ]
    },
    {
      "cell_type": "code",
      "source": [
        "from typing_extensions import Final\n",
        "s=\"hello world python!\"\n",
        "print(s[3:8])\n",
        "print(s[3:])\n",
        "print(s[:8])\n",
        "print(s[3:11:2])\n",
        "print(s[:8]+s[8:]==s[:])\n",
        "try:\n",
        "  s.append(\"!\")\n",
        "except:\n",
        "  print(\"cannot\")\n",
        "finally:\n",
        "  s=s+\"!\"\n",
        "  print(s)\n",
        "#common methods for list and strings and what are not common and why"
      ],
      "metadata": {
        "colab": {
          "base_uri": "https://localhost:8080/"
        },
        "id": "d_n9VG9hnfII",
        "outputId": "b4a2c3fb-c237-47fd-b6d0-396feb96d85f"
      },
      "execution_count": null,
      "outputs": [
        {
          "output_type": "stream",
          "name": "stdout",
          "text": [
            "lo wo\n",
            "lo world python!\n",
            "hello wo\n",
            "l ol\n",
            "True\n",
            "cannot\n",
            "hello world python!!\n"
          ]
        }
      ]
    }
  ]
}