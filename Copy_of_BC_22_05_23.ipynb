{
  "nbformat": 4,
  "nbformat_minor": 0,
  "metadata": {
    "colab": {
      "provenance": [],
      "authorship_tag": "ABX9TyNoWMkugoquctQt/U3SjpZF",
      "include_colab_link": true
    },
    "kernelspec": {
      "name": "python3",
      "display_name": "Python 3"
    },
    "language_info": {
      "name": "python"
    }
  },
  "cells": [
    {
      "cell_type": "markdown",
      "metadata": {
        "id": "view-in-github",
        "colab_type": "text"
      },
      "source": [
        "<a href=\"https://colab.research.google.com/github/Snigdha2005/Bootcamp_Python/blob/main/Copy_of_BC_22_05_23.ipynb\" target=\"_parent\"><img src=\"https://colab.research.google.com/assets/colab-badge.svg\" alt=\"Open In Colab\"/></a>"
      ]
    },
    {
      "cell_type": "code",
      "execution_count": null,
      "metadata": {
        "colab": {
          "base_uri": "https://localhost:8080/"
        },
        "id": "RXbJgUO9f0cr",
        "outputId": "2d121d77-9b80-418b-97e9-002bb4407066"
      },
      "outputs": [
        {
          "output_type": "stream",
          "name": "stdout",
          "text": [
            "['a > b', 'a > c', 'a # d', 'b > c', 'd > b', 'd > c']\n",
            "['a > b', 'a # d', 'b > c', 'd > b']\n",
            "[['a > b', 'b > c'], ['a # d'], ['b > c'], ['d > b', 'b > c']]\n"
          ]
        }
      ],
      "source": [
        "'''FUNCTION 1.0 TO COMPARE THE STUDENTS MARKS AND OBTAIN THE MINIMUM RELATIONS (FOR CALCULATION OF RANK)'''# INCORRECT\n",
        "def compare(x : list[int], y : list[int])->list:\n",
        "    if all([x[i] > y[i] for i in range(1,len(x))]):\n",
        "        return [x[0], ' > ', y[0], True]\n",
        "    if all([y[i] > x[i] for i in range(1,len(y))]):\n",
        "        return [y[0], ' > ', x[0], True]\n",
        "    return [x[0], ' # ', y[0], False]\n",
        "def students_comparisons(lt : list[list[int]]) -> list:\n",
        "    cp = []\n",
        "    for i in range(len(lt)):\n",
        "        for j in range(i + 1, len(lt)): \n",
        "            cp.append(''.join(compare(lt[i], lt[j])[:3]))\n",
        "    print(cp)\n",
        "    for i in cp:\n",
        "        for j in cp:\n",
        "            if i[len(i) - 1] == j[0] and (str(i[0] + ' > ' + j[len(j)-1]) in cp) and ' > ' in i and ' > ' in j:\n",
        "                #print(i[len(i) - 1], j[0])\n",
        "                #print(str(i[0] + ' > ' + j[len(j)-1]))\n",
        "                cp.remove(str(i[0] + ' > ' + j[len(j)-1]))\n",
        "    #return cp\n",
        "    print(cp)\n",
        "    return output(cp)\n",
        "def output(lt : list[str]) -> list[list[str]]:\n",
        "    c = []\n",
        "    for x in lt:\n",
        "        cp = []\n",
        "        i = x\n",
        "        cp.append(x)\n",
        "        #while(True):\n",
        "        for j in lt:\n",
        "            if (i[(len(i)) - 1] == j[0]) and ' > ' in i and ' > ' in j:\n",
        "                cp.append(j)\n",
        "                i = j\n",
        "        c.append(cp)\n",
        "    #print(c)\n",
        "    return c\n",
        "a = ['a', 5, 4, 6]\n",
        "b = ['b', 3, 2, 1]\n",
        "c = ['c', 2, 1, 0]\n",
        "d = ['d', 6, 3, 7]\n",
        "print(students_comparisons([a, b, c, d]))\n",
        "''' dictionary with key : name, value : student names whose numbers are less than the key students marks\n",
        "    remove redundancies\n",
        "'''"
      ]
    },
    {
      "cell_type": "code",
      "source": [
        "# ---------------------------------------------------------------------------------------------------------------------------------------------------------------------\n",
        "def compare(x : list[int], y: list[int]) -> list:\n",
        "    if all([x[i] > y[i] for i in range(1,len(x))]):\n",
        "        return [x[0], ' > ', y[0], True]\n",
        "    if all([y[i] > x[i] for i in range(1,len(y))]):\n",
        "        return [y[0], ' > ', x[0], True]\n",
        "    return [x[0], ' # ', y[0], False]\n",
        "def rank(lt : list[list[int]]) -> list:\n",
        "    cp = []\n",
        "    if compare(lt[0],lt[1])\n",
        "# ---------------------------------------------------------------------------------------------------------------------------------------------------------------------"
      ],
      "metadata": {
        "id": "pmiWyJMQwVv3"
      },
      "execution_count": null,
      "outputs": []
    },
    {
      "cell_type": "code",
      "source": [
        "!touch student.marks.txt\n",
        "!echo 'A 12 14 16 B 5 6 7 C 17 20 23 D 2 40 12 E 3 41 13 F 7 8 9 G 4 5 6' student.marks.txt"
      ],
      "metadata": {
        "colab": {
          "base_uri": "https://localhost:8080/"
        },
        "id": "W1lmBzpzG3DM",
        "outputId": "c72e8615-6dca-41b7-96c6-8d82e064ab99"
      },
      "execution_count": null,
      "outputs": [
        {
          "output_type": "stream",
          "name": "stdout",
          "text": [
            "A 12 14 16 B 5 6 7 C 17 20 23 D 2 40 12 E 3 41 13 F 7 8 9 G 4 5 6 student.marks.txt\n"
          ]
        }
      ]
    },
    {
      "cell_type": "code",
      "source": [
        "\n",
        "'''\n",
        "    A 12 14 16\n",
        "    B 5 6 7\n",
        "    C 17 20 23\n",
        "    D 2 40 12\n",
        "    E 3 41 13\n",
        "    F 7 8 9\n",
        "    G 4 5 6\n",
        "'''\n",
        "def load_data(filename: str)->dict:\n",
        "    marks_list = dict() #creating a dictionary\n",
        "    for line in open(filename): \n",
        "        name, *marks = line.strip().split() \n",
        "        print(name, *marks)\n",
        "        marks_list[name] = [int(mark) for mark in marks]\n",
        "    return marks_list\n",
        "print(load_data(\"student.marks.txt\"))\n",
        "GT, LT, NC = '>','<','#'\n",
        "def relation(a_marks : list[int], b_marks : list[int])->str:\n",
        "    if all([a > b for a,b in zip(a_marks,b_marks)]):\n",
        "        return GT\n",
        "    if all([b > a for a, b in zip(a_marks, b_marks)]):\n",
        "        return LT\n",
        "    return NC\n",
        "from itertools import combinations as nCr\n",
        "def all_relations(marks: dict) -> set:\n",
        "    relations = set()\n",
        "    names = list(marks.keys())\n",
        "    for pair in nCr(names,2):\n",
        "        rel = relation(marks[pair[0]], marks[pair[1]])\n",
        "        if rel == GT:\n",
        "            relations.add(pair)\n",
        "        if rel == LT:\n",
        "            relations.add(pair)\n",
        "    return relations\n",
        "def drop_redundancies(rels: set) -> set:\n",
        "    head  = {p for p,q in rels}\n",
        "    tails = {q for p,q in rels}\n",
        "    print(head)\n",
        "    print(tails)\n",
        "    both = head & tails\n",
        "    print(both)\n",
        "\n",
        "def drop_redundancy(rels : set) ->set:\n",
        "    head = {p for p,q in rels}#avoiding iteration over non existent relationships\n",
        "    tails = {q for p,q in rels}\n",
        "    both = head & tails\n",
        "    redundant = set()\n",
        "    for heads in head:\n",
        "        for tail in tails:\n",
        "            if (heads,tail) in rels:\n",
        "                if any([(heads,b) in rels and (b,tail) in rels for b in both]):\n",
        "                    redundant.add((heads,tail))\n",
        "    return rels - redundant\n",
        "''' for alpha in names:\n",
        "        for beta in names:\n",
        "            for gamma in names:\n",
        "                if (alpha,beta) in rels and (alpha,gamma) in rels and (gamma,beta) in rels:\n",
        "                        redundant.add((alpha,beta))\n",
        "'''#too many checks for rendundancy though checks thoroughly\n",
        "data = load_data(\"student.marks.txt\")\n",
        "data = {'A' : [12, 14, 16],\n",
        "    'B' : [5, 6, 7],\n",
        "    'C' : [17, 20, 23],\n",
        "    'D' : [2, 40, 12],\n",
        "    'E' : [3, 41, 13],\n",
        "    'F' : [7, 8, 9],\n",
        "    'G' : [4, 5, 6]}\n",
        "print(drop_redundancy(all_relations(data)))\n",
        "def make_graph(rels: set[tuple[str, str]]):\n",
        "    heads = {p for p, q in rels}\n",
        "    tails = {q for p, q in rels}\n",
        "    starters = heads - tails\n",
        "    chains = [pair for pair in rels if pair[0] in starters]\n",
        "    return chains\n",
        "make_graph(drop_redundancy(all_relations(data)))"
      ],
      "metadata": {
        "colab": {
          "base_uri": "https://localhost:8080/"
        },
        "id": "j1RZYjjU9ihB",
        "outputId": "65ee8e79-f9ad-4683-d860-c034ad1dcafb"
      },
      "execution_count": null,
      "outputs": [
        {
          "output_type": "stream",
          "name": "stdout",
          "text": [
            "{}\n",
            "{('D', 'E'), ('F', 'G'), ('B', 'C'), ('A', 'B'), ('C', 'F')}\n"
          ]
        },
        {
          "output_type": "execute_result",
          "data": {
            "text/plain": [
              "[('D', 'E'), ('A', 'B')]"
            ]
          },
          "metadata": {},
          "execution_count": 109
        }
      ]
    },
    {
      "cell_type": "code",
      "source": [
        "#circular primes = all permutations of the numbers are circular primes\n",
        "'''FUNCTION 1.0 TO VERIFY IF GIVEN NUMBER IS A CIRCULAR PRIME OR NOT''' #CORRECT\n",
        "def is_prime(x : int)->bool:\n",
        "    for i in range(2, x // 2):\n",
        "        if (x % i == 0):\n",
        "            return False\n",
        "    return True\n",
        "def circular_prime(x : int) -> bool:\n",
        "    #print(x)\n",
        "    if is_prime(x):\n",
        "        for i in range(0, len(str(x))):\n",
        "            lt = list(str(x))\n",
        "            lt.append(lt[0])\n",
        "            lt.remove(lt[0])\n",
        "            x = ''.join(lt)\n",
        "            #print(x)\n",
        "            if is_prime(int(x)) == False:\n",
        "                return False\n",
        "        return True\n",
        "    return False\n",
        "print(circular_prime(113))\n",
        "print(circular_prime(1193))"
      ],
      "metadata": {
        "colab": {
          "base_uri": "https://localhost:8080/"
        },
        "id": "NkNm3oIKnUx9",
        "outputId": "10fbbe41-9f88-4243-cee2-88165be9a316"
      },
      "execution_count": null,
      "outputs": [
        {
          "output_type": "stream",
          "name": "stdout",
          "text": [
            "True\n",
            "True\n"
          ]
        }
      ]
    },
    {
      "cell_type": "code",
      "source": [
        "'''FUNCTION 2.0 TO VERIFY IF GIVEN NUMBER IS A CIRCULAR PRIME OR NOT''' #CORRECT\n",
        "# code organisation, paragraphing, \n",
        "# itertools.cycle()\n",
        "def is_prime(n: int)->bool:\n",
        "    if n < 2:\n",
        "        return False\n",
        "\n",
        "    if n in {2,3,5}:\n",
        "        return True\n",
        "\n",
        "    if n % 2 == 0:\n",
        "        return False\n",
        "\n",
        "    r = 3\n",
        "    while r * r <= n:\n",
        "        if n % r == 0:\n",
        "            return False\n",
        "        r += 2\n",
        "    return True\n",
        "def circular_permutations(n: int) -> list[int]:\n",
        "    s = str(n)\n",
        "    k, ss = len(s), s + s\n",
        "    return [int(ss[i:i + k]) for i in range(k)]\n",
        "def is_circular_prime(n : int) -> bool:\n",
        "    return all([is_prime(_) for _ in circular_permutations(n)])\n",
        "print(is_circular_prime(113))"
      ],
      "metadata": {
        "colab": {
          "base_uri": "https://localhost:8080/"
        },
        "id": "j8CWfmT6rW1I",
        "outputId": "a4528688-1976-4e56-f09f-7a928107ee43"
      },
      "execution_count": null,
      "outputs": [
        {
          "output_type": "stream",
          "name": "stdout",
          "text": [
            "True\n"
          ]
        }
      ]
    },
    {
      "cell_type": "code",
      "source": [
        "'''FUNCTION 1.0 TO PRINT PATTERN (PYRAMID)\n",
        "       +\n",
        "      +++\n",
        "     +++++\n",
        "    +++++++\n",
        "   +++++++++\n",
        "''' #INCORRECT\n",
        "def pattern(n : int):\n",
        "    for i in range(n):\n",
        "        #txt = {'+' * (2 * i + 1):}\n",
        "        txt = \"hello {:^(n-i-1}\"\n",
        "        print(txt.format('+' * (2 * i + 1)))\n",
        "        #txt = '+' * (2 * i + 1)\n",
        "        #print(f\"{txt:^ }\")\n",
        "        #txt.center(n-i-1)\n",
        "        #print(f\"{('+'*(2*i +1)):^int(n-i-1)}\")\n",
        "#pattern(int(4))\n",
        "#txt = \"We have {:^8} chickens.\"\n",
        "#print(txt.format(49))"
      ],
      "metadata": {
        "id": "Uv8FaRn3n_d1"
      },
      "execution_count": null,
      "outputs": []
    },
    {
      "cell_type": "code",
      "source": [
        "'''FUNCTION 1.0 TO PRINT PATTERN (CENTER ALIGNED LINE OF +s)'''\n",
        "def make_pattern(size: int) -> list[str]:\n",
        "    return ['+' for n in range(size)]\n",
        "    ''' \n",
        "    ['+','+','+','+','+','+','+']\n",
        "    '''\n",
        "def format_pattern(pattern: list[str]) -> str:\n",
        "    return '\\n'.join([line.center(80) for line in pattern])#applying string method center for width 80; combining the whole pattern as one string and returning\n",
        "print(format_pattern(make_pattern(7)))"
      ],
      "metadata": {
        "colab": {
          "base_uri": "https://localhost:8080/"
        },
        "id": "GTDlmWvf2ZGb",
        "outputId": "9ed097e0-cad7-4dd3-dba8-3b45c34f1bd8"
      },
      "execution_count": null,
      "outputs": [
        {
          "output_type": "stream",
          "name": "stdout",
          "text": [
            "                                       +                                        \n",
            "                                       +                                        \n",
            "                                       +                                        \n",
            "                                       +                                        \n",
            "                                       +                                        \n",
            "                                       +                                        \n",
            "                                       +                                        \n"
          ]
        }
      ]
    },
    {
      "cell_type": "code",
      "source": [
        "'''FUNCTION 1.0 TO PRINT PATTERN CENTER ALIGNED +s PYRAMID'''\n",
        "def make_pattern(size: int) -> list[str]:\n",
        "    return ['+' * n for n in range(size)]\n",
        "    '''\n",
        "    ['','+','++','+++','++++','+++++','++++++']\n",
        "    '''\n",
        "def format_p(pattern: list[str]) -> str:\n",
        "    return '\\n'.join([line.center(80) for line in pattern])#applying string method center for width 80; combining the whole pattern as one string and returning\n",
        "print(format_pattern(make_pattern(7)))"
      ],
      "metadata": {
        "colab": {
          "base_uri": "https://localhost:8080/"
        },
        "id": "vcaqe4Oh2keK",
        "outputId": "03f17ec6-b5ec-4143-92f8-7cb20bbdc37e"
      },
      "execution_count": null,
      "outputs": [
        {
          "output_type": "stream",
          "name": "stdout",
          "text": [
            "                                                                                \n",
            "                                       +                                        \n",
            "                                       ++                                       \n",
            "                                      +++                                       \n",
            "                                      ++++                                      \n",
            "                                     +++++                                      \n",
            "                                     ++++++                                     \n"
          ]
        }
      ]
    },
    {
      "cell_type": "code",
      "source": [
        "'''FUNCTION 1.0 TO PRINT PATTERN PYRAMID, RIGHT TRIANGLE +s (ODD NUMBER)'''\n",
        "def make_pattern(size: int) -> list[str]:\n",
        "    return ['+' * (2 * n + 1) for n in range(size)]\n",
        "    '''\n",
        "    ['+','+++','+++++','+++++++','+++++++++','+++++++++++++']\n",
        "    '''\n",
        "def format_pyramid(pattern: list[str]) -> str:\n",
        "    return '\\n'.join([line.center(80) for line in pattern])#applying string method center for width 80; combining the whole pattern as one string and returning\n",
        "\n",
        "def format_right_triangle(pattern: list[str]) -> str:\n",
        "    return '\\n'.join([line for line in pattern])#string method need not be applied since by default left aligned\n",
        "print(format_pyramid(make_pattern(7)))\n",
        "print(format_right_triangle(make_pattern(7)))"
      ],
      "metadata": {
        "colab": {
          "base_uri": "https://localhost:8080/"
        },
        "id": "TjQ9nvlV2t6j",
        "outputId": "bf09febf-f881-4c40-f2d2-3d81a1aca90e"
      },
      "execution_count": null,
      "outputs": [
        {
          "output_type": "stream",
          "name": "stdout",
          "text": [
            "                                       +                                        \n",
            "                                      +++                                       \n",
            "                                     +++++                                      \n",
            "                                    +++++++                                     \n",
            "                                   +++++++++                                    \n",
            "                                  +++++++++++                                   \n",
            "                                 +++++++++++++                                  \n",
            "+\n",
            "+++\n",
            "+++++\n",
            "+++++++\n",
            "+++++++++\n",
            "+++++++++++\n",
            "+++++++++++++\n"
          ]
        }
      ]
    },
    {
      "cell_type": "code",
      "source": [
        "'''FUNCTION 1.0 TO PRINT PATTERN OF +s WITH APCING IN BETWEEN (PYRAMID AND RIGHT ANGLE)'''\n",
        "LF, SPACE, PLUS = '\\n', ' ', '+'#assigning the strings for more abstraction (similar to define in c,c++)\n",
        "\n",
        "START, REPEAT, END = PLUS, SPACE + PLUS, '' #sequence identification\n",
        "\n",
        "def make_pattern(size: int) -> list[str]:\n",
        "    return [make_line(i) for i in range(size)]\n",
        "    '''    '''\n",
        "def make_line(line_num: int) -> str: # input = 0,1,2,3,4,5,6\n",
        "    ''' +_\n",
        "        +_+_\n",
        "        +_+_+_\n",
        "        +_+_+_+_\n",
        "        +_+_+_+_+_\n",
        "        +_+_+_+_+_+_\n",
        "        +_+_+_+_+_+_+_\n",
        "    '''\n",
        "    return start_pattern(line_num) +\\\n",
        "           repeat_pattern(line_num) +\\\n",
        "           end_pattern(line_num)\n",
        "\n",
        "def start_pattern(n: int) -> str:\n",
        "    return START\n",
        "\n",
        "def repeat_pattern(n: int) -> str:\n",
        "    return n * REPEAT\n",
        "\n",
        "def end_pattern(n: int) -> str:\n",
        "    return END\n",
        "def format_pyramid(pattern: list[str]) -> str: #input pattern to this is the space included pattern\n",
        "    return '\\n'.join([line.center(80) for line in pattern])#applying string method center for width 80; combining the whole pattern as one string and returning\n",
        "\n",
        "def format_right_triangle(pattern: list[str]) -> str:#input pattern is the space included pattern\n",
        "    return '\\n'.join([line for line in pattern])#string method need not be applied since by default left aligned\n",
        "print(format_pyramid(make_pattern(7)))\n",
        "print(format_right_triangle(make_pattern(7)))"
      ],
      "metadata": {
        "colab": {
          "base_uri": "https://localhost:8080/"
        },
        "id": "08Bb5QMp2xdo",
        "outputId": "e52d33e7-a0fc-4538-f15e-733ea25d5349"
      },
      "execution_count": null,
      "outputs": [
        {
          "output_type": "stream",
          "name": "stdout",
          "text": [
            "                                       +                                        \n",
            "                                      + +                                       \n",
            "                                     + + +                                      \n",
            "                                    + + + +                                     \n",
            "                                   + + + + +                                    \n",
            "                                  + + + + + +                                   \n",
            "                                 + + + + + + +                                  \n",
            "+\n",
            "+ +\n",
            "+ + +\n",
            "+ + + +\n",
            "+ + + + +\n",
            "+ + + + + +\n",
            "+ + + + + + +\n"
          ]
        }
      ]
    },
    {
      "cell_type": "code",
      "source": [
        "'''FUNCTION 1.0 TO PRINT ALL KINDS OF PATTERNS WITH +s AND SPACES (PYRAMID, RIGHT TRIANGLE, LEFT TRIANGLE, DIAMOND, LEFT ARROW, RIGHT ARROW, HOURGLASS) AND CHANGE OF +s TO *s'''\n",
        "LF, SPACE, PLUS = '\\n', ' ', '+'#assigning the strings for more abstraction (similar to define in c,c++)\n",
        "\n",
        "START, REPEAT, END = PLUS, SPACE + PLUS, '' #sequence identification\n",
        "\n",
        "def make_pattern(size: int) -> list[str]:\n",
        "    return [make_line(i) for i in range(size)]\n",
        "\n",
        "def make_line(line_num: int) -> str: # input = 0,1,2,3,4,5,6\n",
        "    ''' +_\n",
        "        +_+_\n",
        "        +_+_+_\n",
        "        +_+_+_+_\n",
        "        +_+_+_+_+_\n",
        "        +_+_+_+_+_+_\n",
        "        +_+_+_+_+_+_+_\n",
        "    '''\n",
        "    return start_pattern(line_num) +\\\n",
        "           repeat_pattern(line_num) +\\\n",
        "           end_pattern(line_num)\n",
        "\n",
        "def start_pattern(n: int) -> str:\n",
        "    return START\n",
        "\n",
        "def repeat_pattern(n: int) -> str:\n",
        "    return n * REPEAT\n",
        "\n",
        "def end_pattern(n: int) -> str:\n",
        "    return END\n",
        "\n",
        "def format_pyramid(pattern: list[str]) -> str: #input pattern to this is the space included pattern\n",
        "    return '\\n'.join([line.center(80) for line in pattern])#applying string method center for width 80; combining the whole pattern as one string and returning\n",
        "\n",
        "def format_right_triangle(pattern: list[str]) -> str:#input pattern is the space included pattern\n",
        "    return '\\n'.join([line for line in pattern])#string method need not be applied since by default left aligned\n",
        "\n",
        "def format_left_triangle(pattern: list[str]) -> str:#input pattern is the space included pattern\n",
        "    return LF.join([line.rjust(80) for line in pattern])#string method rjust -> right justified applied to obtain left aligned trianl\n",
        "\n",
        "print(format_pyramid(make_pattern(7)))\n",
        "print(format_right_triangle(make_pattern(7)))\n",
        "print(format_left_triangle(make_pattern(7)))\n",
        "\n",
        "def change_symbol(old: str, new:str, output: str) -> str:\n",
        "    return [_.replace(old, new) for _ in output]#replacing all the characters in the previous pattern to new character given as input\n",
        "\n",
        "pat = change_symbol(PLUS, '*', make_pattern(7))\n",
        "print(format_pyramid(pat))\n",
        "print()\n",
        "#print(pat,end=\"\\n\\n\\n\")\n",
        "#print(pat[::-1])\n",
        "#print(pat[:-1])\n",
        "def format_diamond(pat: list[str]) -> str:#input -> pattern without formatting\n",
        "    return LF.join([line.center(80) for line in pat[:-1]+pat[::-1]])#center aligned format arrow\n",
        "\n",
        "print(format_diamond(pat))\n",
        "\n",
        "def format_arrow(pat: list[str]) -> str:\n",
        "    return LF.join([line for line in pat[:-1]+pat[::-1]]) #by default left aligned\n",
        "    '''\n",
        "    pat[::-1] -> ['* * * * * * *', '* * * * * *', '* * * * *', '* * * *', '* * *', '* *', '*'] -> reversing list\n",
        "    pat[:-1] -> ['*', '* *', '* * *', '* * * *', '* * * * *', '* * * * * *'] -> excluding the last line of pattern so that it won't be included twice\n",
        "    pat[:-1] + pat[::-1] ->  ['*', '* *', '* * *', '* * * *', '* * * * *', '* * * * * *','* * * * * * *', '* * * * * *', '* * * * *', '* * * *', '* * *', '* *', '*']\n",
        "    pat[::-1] + pat[:-1] -> ['* * * * * * *', '* * * * * *', '* * * * *', '* * * *', '* * *', '* *', '*','*', '* *', '* * *', '* * * *', '* * * * *', '* * * * * *']\n",
        "    ''' \n",
        "print(format_arrow(pat))\n",
        "\n",
        "def format_left_arrow(pat: list[str]) -> str:\n",
        "    return LF.join([line.rjust(80) for line in pat[:-1] + pat[::-1]])#right aligned arrow\n",
        "print(format_left_arrow(pat))\n",
        "\n",
        "def format_hourglass(pat: list[str]) -> str:\n",
        "    '''\n",
        "    pat[::-1] + pat[1:] -> ['* * * * * * *', '* * * * * *', '* * * * *', '* * * *', '* * *', '* *', '*', '* *', '* * *', '* * * *', '* * * * *', '* * * * * *','* * * * * * *']\n",
        "    '''\n",
        "    return LF.join([line.center(60) for line in pat[::-1]+pat[1:]])\n",
        "\n",
        "print(format_hourglass(pat))"
      ],
      "metadata": {
        "colab": {
          "base_uri": "https://localhost:8080/"
        },
        "id": "u7maq_H457Ri",
        "outputId": "dd90c99d-181c-4451-9b29-688df0553d19"
      },
      "execution_count": null,
      "outputs": [
        {
          "output_type": "stream",
          "name": "stdout",
          "text": [
            "                                       +                                        \n",
            "                                      + +                                       \n",
            "                                     + + +                                      \n",
            "                                    + + + +                                     \n",
            "                                   + + + + +                                    \n",
            "                                  + + + + + +                                   \n",
            "                                 + + + + + + +                                  \n",
            "+\n",
            "+ +\n",
            "+ + +\n",
            "+ + + +\n",
            "+ + + + +\n",
            "+ + + + + +\n",
            "+ + + + + + +\n",
            "                                                                               +\n",
            "                                                                             + +\n",
            "                                                                           + + +\n",
            "                                                                         + + + +\n",
            "                                                                       + + + + +\n",
            "                                                                     + + + + + +\n",
            "                                                                   + + + + + + +\n",
            "                                       *                                        \n",
            "                                      * *                                       \n",
            "                                     * * *                                      \n",
            "                                    * * * *                                     \n",
            "                                   * * * * *                                    \n",
            "                                  * * * * * *                                   \n",
            "                                 * * * * * * *                                  \n",
            "\n",
            "                                       *                                        \n",
            "                                      * *                                       \n",
            "                                     * * *                                      \n",
            "                                    * * * *                                     \n",
            "                                   * * * * *                                    \n",
            "                                  * * * * * *                                   \n",
            "                                 * * * * * * *                                  \n",
            "                                  * * * * * *                                   \n",
            "                                   * * * * *                                    \n",
            "                                    * * * *                                     \n",
            "                                     * * *                                      \n",
            "                                      * *                                       \n",
            "                                       *                                        \n",
            "*\n",
            "* *\n",
            "* * *\n",
            "* * * *\n",
            "* * * * *\n",
            "* * * * * *\n",
            "* * * * * * *\n",
            "* * * * * *\n",
            "* * * * *\n",
            "* * * *\n",
            "* * *\n",
            "* *\n",
            "*\n",
            "                                                                               *\n",
            "                                                                             * *\n",
            "                                                                           * * *\n",
            "                                                                         * * * *\n",
            "                                                                       * * * * *\n",
            "                                                                     * * * * * *\n",
            "                                                                   * * * * * * *\n",
            "                                                                     * * * * * *\n",
            "                                                                       * * * * *\n",
            "                                                                         * * * *\n",
            "                                                                           * * *\n",
            "                                                                             * *\n",
            "                                                                               *\n",
            "                       * * * * * * *                        \n",
            "                        * * * * * *                         \n",
            "                         * * * * *                          \n",
            "                          * * * *                           \n",
            "                           * * *                            \n",
            "                            * *                             \n",
            "                             *                              \n",
            "                            * *                             \n",
            "                           * * *                            \n",
            "                          * * * *                           \n",
            "                         * * * * *                          \n",
            "                        * * * * * *                         \n",
            "                       * * * * * * *                        \n"
          ]
        }
      ]
    },
    {
      "cell_type": "code",
      "source": [
        "'''FUNCTION  1.0 TO PRINT PATTERN OF @s AND +s (PYRAMID)'''#CORRECT BUT NOT PROPERLY ABSTRACTED\n",
        "LF, SPACE, PLUS = '\\n', '+', '@'#assigning the strings for more abstraction (similar to define in c,c++)\n",
        "START, REPEAT, END = PLUS, SPACE, PLUS #sequence identification\n",
        "\n",
        "def make_pattern(size: int) -> list[str]:\n",
        "    return [make_line(2 * i - 1) for i in range(0, size)]\n",
        "    '''    '''\n",
        "def make_line(line_num: int) -> str: # input = 0,1,2,3,4,5,6\n",
        "    return start_pattern(line_num) +\\\n",
        "           repeat_pattern(line_num) +\\\n",
        "           end_pattern(line_num)\n",
        "\n",
        "def start_pattern(n: int) -> str:\n",
        "    return START\n",
        "\n",
        "def repeat_pattern(n: int) -> str:\n",
        "    return n * REPEAT\n",
        "\n",
        "def end_pattern(n: int) -> str:\n",
        "    EN = END if n != -1 else ''\n",
        "    return EN\n",
        "def format_pyramid(pattern: list[str]) -> str: #input pattern to this is the space included pattern\n",
        "    return '\\n'.join([line.center(80) for line in pattern])#applying string method center for width 80; combining the whole pattern as one string and returning\n",
        "print(format_pyramid(make_pattern(7)))\n",
        "\n",
        "''' DISCLAIMER : DO NOT CHANGE THE CODE USING IF AND ELSE STATEMENTS '''"
      ],
      "metadata": {
        "colab": {
          "base_uri": "https://localhost:8080/"
        },
        "id": "nq_oTOXH240O",
        "outputId": "e48a2ac8-d39c-49d3-b20f-3f0723767b55"
      },
      "execution_count": null,
      "outputs": [
        {
          "output_type": "stream",
          "name": "stdout",
          "text": [
            "                                       @                                        \n",
            "                                      @+@                                       \n",
            "                                     @+++@                                      \n",
            "                                    @+++++@                                     \n",
            "                                   @+++++++@                                    \n",
            "                                  @+++++++++@                                   \n",
            "                                 @+++++++++++@                                  \n"
          ]
        }
      ]
    },
    {
      "cell_type": "code",
      "source": [
        "'''FUNCTION  2.0 TO PRINT PATTERN OF @s AND +s (PYRAMID AND RIGHT TRIANGLE)'''#CORRECT\n",
        "LF, SPACE, BS = '\\n', ' ', '\\b'\n",
        "\n",
        "AT, PLUS = '@', '+'\n",
        "\n",
        "\n",
        "START, REPEAT, END = AT, PLUS + PLUS, BS + AT\n",
        "\n",
        "def make_pattern(size: int) -> list[str]:\n",
        "    return [make_line(i) for i in range(size)]\n",
        "\n",
        "def make_line(line_num: int) -> str:\n",
        "    return start_pattern(line_num) +\\\n",
        "           repeat_pattern(line_num) +\\\n",
        "           end_pattern(line_num)\n",
        "\n",
        "def start_pattern(n: int) -> str:\n",
        "    return START\n",
        "\n",
        "def repeat_pattern(n: int) -> str:\n",
        "    return n * REPEAT\n",
        "\n",
        "def end_pattern(n: int) -> str:\n",
        "    return END\n",
        "print(format_pyramid(make_pattern(7)))\n",
        "print(format_right_triangle(make_pattern(7)))"
      ],
      "metadata": {
        "colab": {
          "base_uri": "https://localhost:8080/"
        },
        "id": "DtA6cWawHpiM",
        "outputId": "d6cbd8be-bfeb-4151-e78d-21ee0516f005"
      },
      "execution_count": null,
      "outputs": [
        {
          "output_type": "stream",
          "name": "stdout",
          "text": [
            "                                      @\b@                                       \n",
            "                                     @++\b@                                      \n",
            "                                    @++++\b@                                     \n",
            "                                   @++++++\b@                                    \n",
            "                                  @++++++++\b@                                   \n",
            "                                 @++++++++++\b@                                  \n",
            "                                @++++++++++++\b@                                 \n",
            "@\b@\n",
            "@++\b@\n",
            "@++++\b@\n",
            "@++++++\b@\n",
            "@++++++++\b@\n",
            "@++++++++++\b@\n",
            "@++++++++++++\b@\n"
          ]
        }
      ]
    },
    {
      "cell_type": "code",
      "source": [
        "'''FUNCTION 1.0 TO PRINT A PATTERN OF #s, _s AND SPACES (PYRAMID AND RIGHT TRIANGLE)'''#CORRECT\n",
        "LF, SPACE, BS = '\\n', ' ', '\\b'\n",
        "\n",
        "AT, PLUS = '#', '_'\n",
        "\n",
        "\n",
        "START, REPEAT, END = AT, PLUS + SPACE, BS + AT\n",
        "\n",
        "def make_pattern(size: int) -> list[str]:\n",
        "    return [make_line(i) for i in range(size)]\n",
        "\n",
        "def make_line(line_num: int) -> str:\n",
        "    return start_pattern(line_num) +\\\n",
        "           repeat_pattern(line_num) +\\\n",
        "           end_pattern(line_num)\n",
        "\n",
        "def start_pattern(n: int) -> str:\n",
        "    return START\n",
        "\n",
        "def repeat_pattern(n: int) -> str:\n",
        "    return n * REPEAT\n",
        "\n",
        "def end_pattern(n: int) -> str:\n",
        "    return END\n",
        "print(format_pyramid(make_pattern(7)))\n",
        "print(format_right_triangle(make_pattern(7)))"
      ],
      "metadata": {
        "colab": {
          "base_uri": "https://localhost:8080/"
        },
        "id": "czxVibJhH2NG",
        "outputId": "bc58d46d-0a02-4fe7-c846-b63d4dc69f93"
      },
      "execution_count": null,
      "outputs": [
        {
          "output_type": "stream",
          "name": "stdout",
          "text": [
            "                                      #\b#                                       \n",
            "                                     #_ \b#                                      \n",
            "                                    #_ _ \b#                                     \n",
            "                                   #_ _ _ \b#                                    \n",
            "                                  #_ _ _ _ \b#                                   \n",
            "                                 #_ _ _ _ _ \b#                                  \n",
            "                                #_ _ _ _ _ _ \b#                                 \n",
            "#\b#\n",
            "#_ \b#\n",
            "#_ _ \b#\n",
            "#_ _ _ \b#\n",
            "#_ _ _ _ \b#\n",
            "#_ _ _ _ _ \b#\n",
            "#_ _ _ _ _ _ \b#\n"
          ]
        }
      ]
    },
    {
      "cell_type": "markdown",
      "source": [
        "Futoshiki, Water sort, Bird sort, Nonogram, other sorting games, blub paradox, text processing linux command lines"
      ],
      "metadata": {
        "id": "QNMc5e4NQPpM"
      }
    },
    {
      "cell_type": "markdown",
      "source": [
        "Finding the top 10 frequently used words in a given piece of text\n",
        "+ dictionary ->  key = word; value = count \n",
        "+ sort the dictionary as per value"
      ],
      "metadata": {
        "id": "w8FVC2ipRWSj"
      }
    },
    {
      "cell_type": "markdown",
      "source": [
        "https://drive.google.com/file/d/13tzlxYzA3z4REKlEazhfxAzkXmOG8_Oo/view?usp=sharing\n"
      ],
      "metadata": {
        "id": "kBH3y0qdcMKx"
      }
    },
    {
      "cell_type": "markdown",
      "source": [
        "https://learnbyexample.gitbooks.io/linux-command-line/content/Text_Processing.html"
      ],
      "metadata": {
        "id": "MUDGbml4cTJe"
      }
    },
    {
      "cell_type": "code",
      "source": [
        "'''\n",
        "    lower case for each character\n",
        "    newline added after each word\n",
        "    replace each non letter with empty line\n",
        "    counting each word frequency\n",
        "    sorting numerically\n",
        "\n",
        " '''\n",
        "\n",
        "import numpy as np\n",
        "def frequency_of_words(txt : str) -> list[int]:\n",
        "    word = dict()\n",
        "    punc = [' ',',',';','.','\\n']\n",
        "    lt = txt.lower().split()\n",
        "    for i in lt:\n",
        "        if i in word.keys():\n",
        "            word[i] += 1\n",
        "        else:\n",
        "            word[i] = 1 \n",
        "    keys = list(word.keys())\n",
        "    values = list(word.values())\n",
        "    sorted_value_index = (np).argsort(values)\n",
        "    sorted_dict = {keys[i]: values[i] for i in sorted_value_index}\n",
        "    p = list(sorted_dict.keys())[::-1]\n",
        "    return p[:10]\n",
        "data = \"Section 5. General Information About Project Gutenberg-tm electronic works. Professor Michael S. Hart was the originator of the Project Gutenberg-tm concept of a library of electronic works that could be freely shared with anyone. For forty years, he produced and distributed Project Gutenberg-tm eBooks with only a loose network of\\\n",
        "volunteer support.Project Gutenberg-tm eBooks are often created from several printed editions, all of which are confirmed as not protected by copyright in the U.S. unless a copyright notice is included. Thus, we do not necessarily keep eBooks in compliance with any particular paper edition. Most people start at our website which has the main PG search facility: www.gutenberg.org. This website includes information about Project Gutenberg-tm,including how to make donations to the Project Gutenberg Literary Archive Foundation, how to help produce our new eBooks, and how to subscribe to our email newsletter to hear about new eBooks.\"\n",
        "print(frequency_of_words(data))\n"
      ],
      "metadata": {
        "colab": {
          "base_uri": "https://localhost:8080/"
        },
        "id": "7j63PTHlSTIS",
        "outputId": "f0a14fb6-03c3-4d39-ec30-9abd2ed60b51"
      },
      "execution_count": null,
      "outputs": [
        {
          "output_type": "stream",
          "name": "stdout",
          "text": [
            "['to', 'project', 'the', 'of', 'gutenberg-tm', 'our', 'a', 'ebooks', 'about', 'with']\n"
          ]
        }
      ]
    },
    {
      "cell_type": "code",
      "source": [
        "def num2words(n : int)->str:\n",
        "    words = \"\"\n",
        "    num = ['0','1','2','3','4','5','6','7','8','9','-']\n",
        "    word = ['zero','one','two','three','four','five','six','seven','eight','nine','minus']\n",
        "    while(n > 0):\n",
        "        if (str(n)[0] == '-'):\n",
        "            words += word[10]\n",
        "            n = -n\n",
        "        else:\n",
        "            words += ' ' + word[n // 10 ** (len(str(n)) - 1)]\n",
        "            n = n % 10 ** (len(str(n)) - 1)\n",
        "    return words\n",
        "print(num2words(1276))"
      ],
      "metadata": {
        "colab": {
          "base_uri": "https://localhost:8080/"
        },
        "id": "9YqT3coReZe2",
        "outputId": "22e616c4-e3d6-4458-f18e-a22149cc5911"
      },
      "execution_count": null,
      "outputs": [
        {
          "output_type": "stream",
          "name": "stdout",
          "text": [
            " one two seven six\n"
          ]
        }
      ]
    },
    {
      "cell_type": "code",
      "source": [
        "def num2words(n : int) -> str:\n",
        "    #words = \"\"\n",
        "    word = {'-' : 'minus', '0' : 'zero', '1' : 'one', '2' : 'two', '3' : 'three', '4' : 'four', '5' : 'five', '6' : 'six', '7' : 'seven', '8' : 'eight', '9' : 'nine'}\n",
        "    #for i in str(n):\n",
        "    #    words += ' ' + word[i]\n",
        "    words = [word[i] for i in str(n)]\n",
        "    return ' '.join(words)\n",
        "print(num2words(-12760))"
      ],
      "metadata": {
        "colab": {
          "base_uri": "https://localhost:8080/"
        },
        "id": "Q8u28npMglvP",
        "outputId": "7a95aab4-d11f-4caa-f009-10b657dbbab2"
      },
      "execution_count": null,
      "outputs": [
        {
          "output_type": "stream",
          "name": "stdout",
          "text": [
            "minus one two seven six zero\n"
          ]
        }
      ]
    },
    {
      "cell_type": "markdown",
      "source": [
        "l = [  func1(item)  if  cont  else  func2(item)  for  item  in  collection ]"
      ],
      "metadata": {
        "id": "-kxUG8AsiX6r"
      }
    },
    {
      "cell_type": "code",
      "source": [],
      "metadata": {
        "id": "0DbU-XPokHhj"
      },
      "execution_count": null,
      "outputs": []
    }
  ]
}