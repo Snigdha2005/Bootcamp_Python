{
  "nbformat": 4,
  "nbformat_minor": 0,
  "metadata": {
    "colab": {
      "provenance": [],
      "include_colab_link": true
    },
    "kernelspec": {
      "name": "python3",
      "display_name": "Python 3"
    },
    "language_info": {
      "name": "python"
    }
  },
  "cells": [
    {
      "cell_type": "markdown",
      "metadata": {
        "id": "view-in-github",
        "colab_type": "text"
      },
      "source": [
        "<a href=\"https://colab.research.google.com/github/Snigdha2005/Bootcamp_Python/blob/main/pythonsession30_04.ipynb\" target=\"_parent\"><img src=\"https://colab.research.google.com/assets/colab-badge.svg\" alt=\"Open In Colab\"/></a>"
      ]
    },
    {
      "cell_type": "code",
      "execution_count": null,
      "metadata": {
        "colab": {
          "base_uri": "https://localhost:8080/"
        },
        "id": "xWQb4nzSfQHq",
        "outputId": "8c5c93fb-767b-46fd-8c4b-6c77d8741529"
      },
      "outputs": [
        {
          "output_type": "stream",
          "name": "stdout",
          "text": [
            "5\n",
            "27\n",
            "hellowhy\n"
          ]
        }
      ],
      "source": [
        "#calculate sum\n",
        "def func(n,k):\n",
        "  return n+k\n",
        "n=3\n",
        "k=2\n",
        "print(func(n,k))\n",
        "#calculate power\n",
        "def what(n):\n",
        "  return n**n\n",
        "print(what(3))\n",
        "print(func(\"hello\",\"why\"))"
      ]
    },
    {
      "cell_type": "code",
      "source": [
        "print(sum([3,2]))\n",
        "#calculate square\n",
        "def sq(n):\n",
        "  return n**2\n",
        "x=int(input())\n",
        "print(sq(x))"
      ],
      "metadata": {
        "colab": {
          "base_uri": "https://localhost:8080/"
        },
        "id": "09f00THRfpgf",
        "outputId": "98e537ff-1101-4694-dd6a-488a3f09a880"
      },
      "execution_count": null,
      "outputs": [
        {
          "output_type": "stream",
          "name": "stdout",
          "text": [
            "5\n",
            "10\n",
            "100\n"
          ]
        }
      ]
    },
    {
      "cell_type": "code",
      "source": [
        "#calculate sqrt\n",
        "def sqrt(n: int)->float:\n",
        "  #print(n)\n",
        "  return n**n\n",
        "try:\n",
        "  print(sqrt(\"Hello\"))\n",
        "except:\n",
        "  print(\"cannot\")\n",
        "finally:\n",
        "  print(sqrt(2.0))"
      ],
      "metadata": {
        "colab": {
          "base_uri": "https://localhost:8080/"
        },
        "id": "7usQsUOfgOVv",
        "outputId": "98d800c9-cc3c-490e-fa99-b5db9bf4bfb6"
      },
      "execution_count": null,
      "outputs": [
        {
          "output_type": "stream",
          "name": "stdout",
          "text": [
            "cannot\n",
            "4.0\n"
          ]
        }
      ]
    },
    {
      "cell_type": "code",
      "source": [
        "#count the number of vowels\n",
        "def coun(n:str)->int:\n",
        "  lst=[\"a\",\"e\",\"i\",\"o\",\"u\",\"A\",\"E\",\"I\",\"O\",\"U\"]\n",
        "  lst1=[n.count(i) for i in lst if i in n]\n",
        "  return sum(lst1)\n",
        "txt=\"Today is holiday. a boy is enjoying an ice cream.\"\n",
        "print(coun(txt))"
      ],
      "metadata": {
        "colab": {
          "base_uri": "https://localhost:8080/"
        },
        "id": "MlurRfG1inHU",
        "outputId": "98bba216-9ad3-4a0c-f4f4-5c7fdb1b3da6"
      },
      "execution_count": null,
      "outputs": [
        {
          "output_type": "stream",
          "name": "stdout",
          "text": [
            "17\n"
          ]
        }
      ]
    },
    {
      "cell_type": "code",
      "source": [
        "#function to check if given number prime or not\n",
        "def func(n:int)->bool:\n",
        "  for i in range(2,n):\n",
        "    if(n%i==0):\n",
        "      return False\n",
        "  return True\n",
        "x=int(input())\n",
        "print(func(x))"
      ],
      "metadata": {
        "colab": {
          "base_uri": "https://localhost:8080/"
        },
        "id": "8PNFHNBrkHsb",
        "outputId": "a2a1f592-0186-4ba6-d0e9-9b938d095e3a"
      },
      "execution_count": null,
      "outputs": [
        {
          "output_type": "stream",
          "name": "stdout",
          "text": [
            "19\n",
            "True\n"
          ]
        }
      ]
    },
    {
      "cell_type": "code",
      "source": [
        "#function to check if given number prime or not\n",
        "def isprime(num:int)->bool:\n",
        "  if num<2:\n",
        "    return False\n",
        "  if num in [2,3]:\n",
        "    return False\n",
        "  if(num%2==0):\n",
        "    return False\n",
        "  r=3\n",
        "  while r*r<=num:\n",
        "    if num%r==0:\n",
        "      return False\n",
        "    r=r+2\n",
        "  return True\n",
        "x=int(input())\n",
        "print(isprime(x))"
      ],
      "metadata": {
        "colab": {
          "base_uri": "https://localhost:8080/"
        },
        "id": "QTk88wykmSE8",
        "outputId": "6f355941-6391-4be0-a86e-bef0546d9cf4"
      },
      "execution_count": null,
      "outputs": [
        {
          "output_type": "stream",
          "name": "stdout",
          "text": [
            "19\n",
            "True\n"
          ]
        }
      ]
    },
    {
      "cell_type": "code",
      "source": [
        "#function to check if given number is a power of 2(even number)\n",
        "def ispowerof2(num):\n",
        "  if num==1:\n",
        "    return True\n",
        "  if num%2==1 or num==0:\n",
        "    return False\n",
        "  return ispowerof2(num//2)\n",
        "x=int(input())\n",
        "print(ispowerof2(x))"
      ],
      "metadata": {
        "colab": {
          "base_uri": "https://localhost:8080/"
        },
        "id": "j_nnyc25nJCW",
        "outputId": "6dfcc631-8da1-48c8-ccba-fa1074fad0fd"
      },
      "execution_count": null,
      "outputs": [
        {
          "output_type": "stream",
          "name": "stdout",
          "text": [
            "21938327326\n",
            "False\n"
          ]
        }
      ]
    },
    {
      "cell_type": "code",
      "source": [
        "#function to check if given string is palindrome or not\n",
        "def palindrome(n:str)->bool:\n",
        "  if len(n)<=1:\n",
        "    return False\n",
        "  num=list(n)\n",
        "  nxt=num[:]\n",
        "  nxt.reverse()\n",
        "  if nxt==num:\n",
        "    return True\n",
        "  else:\n",
        "    return False\n",
        "x=input()\n",
        "print(palindrome(x))"
      ],
      "metadata": {
        "colab": {
          "base_uri": "https://localhost:8080/"
        },
        "id": "YyjM0tQ7rsCt",
        "outputId": "60a24b90-46e3-4087-9358-3ac9d2e8edff"
      },
      "execution_count": null,
      "outputs": [
        {
          "output_type": "stream",
          "name": "stdout",
          "text": [
            "madam\n",
            "True\n"
          ]
        }
      ]
    },
    {
      "cell_type": "code",
      "source": [
        "#recursive function to check if given string palindrome or not\n",
        "def ispalindrome(text):\n",
        "  if len(text)<=1:\n",
        "    return True\n",
        "  if text[0] != text[-1]:\n",
        "    return False\n",
        "  return ispalindrome(text[1:-1])\n",
        "print(palindrome(\"peep\"))"
      ],
      "metadata": {
        "colab": {
          "base_uri": "https://localhost:8080/"
        },
        "id": "EF7kHGvnsrO0",
        "outputId": "9c4a22fd-24c3-4b2b-fd92-a45b76b3966b"
      },
      "execution_count": null,
      "outputs": [
        {
          "output_type": "stream",
          "name": "stdout",
          "text": [
            "True\n"
          ]
        }
      ]
    },
    {
      "cell_type": "code",
      "source": [
        "#higher order functions\n",
        "#return object as return type\n",
        "#map(),filter(),reduce()\n",
        "#map() & filter() are built-in functions\n",
        "#reduce() is conatined in functools module\n",
        "#docs.python.org/3.10/library/functools/html\n",
        "#map() returns a map object map(function,iterable)\n",
        "#map() object single use thing->does not take any space\n",
        "def cube(n):\n",
        "  return n**3\n",
        "def evenodd(n):\n",
        "  if n%2==0:\n",
        "    return True\n",
        "  else:\n",
        "    return False\n",
        "#cube_list taken as variable thus list() in the next line won't work anymore\n",
        "lst=[1,2,3,4,5,6,7,8,9]\n",
        "cube_lst=map(cube,lst)\n",
        "print(map(cube,lst))\n",
        "print(cube_lst)\n",
        "print(list(cube_lst))\n",
        "print(list(cube_lst))\n",
        "print(list(map(cube,lst)))\n",
        "print(list(map(cube,lst)))\n",
        "print(list(filter(evenodd,lst)))\n",
        "for mx in map(cube,lst):\n",
        "  print(mx,end=\" \")\n",
        "print()"
      ],
      "metadata": {
        "colab": {
          "base_uri": "https://localhost:8080/"
        },
        "id": "mg76zTFCtisR",
        "outputId": "4cd0bc88-cac8-422c-ce82-ba040fe4efae"
      },
      "execution_count": null,
      "outputs": [
        {
          "output_type": "stream",
          "name": "stdout",
          "text": [
            "<map object at 0x7f8330d40190>\n",
            "<map object at 0x7f8330d42dd0>\n",
            "[1, 8, 27, 64, 125, 216, 343, 512, 729]\n",
            "[]\n",
            "[1, 8, 27, 64, 125, 216, 343, 512, 729]\n",
            "[1, 8, 27, 64, 125, 216, 343, 512, 729]\n",
            "[2, 4, 6, 8]\n",
            "1 8 27 64 125 216 343 512 729 \n"
          ]
        }
      ]
    },
    {
      "cell_type": "code",
      "source": [
        "mxs=map(cube,lst)"
      ],
      "metadata": {
        "id": "sVn1cBgLzqwF"
      },
      "execution_count": null,
      "outputs": []
    },
    {
      "cell_type": "code",
      "source": [
        "for item in mxs:\n",
        "  print(item)"
      ],
      "metadata": {
        "id": "EU4WaBLfzuLI"
      },
      "execution_count": null,
      "outputs": []
    },
    {
      "cell_type": "code",
      "source": [
        "for item in mxs:\n",
        "  print(item)"
      ],
      "metadata": {
        "id": "5A2p83Nkz4qb"
      },
      "execution_count": null,
      "outputs": []
    }
  ]
}