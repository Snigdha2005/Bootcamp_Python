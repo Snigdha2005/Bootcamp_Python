{
  "nbformat": 4,
  "nbformat_minor": 0,
  "metadata": {
    "colab": {
      "private_outputs": true,
      "provenance": [],
      "include_colab_link": true
    },
    "kernelspec": {
      "name": "python3",
      "display_name": "Python 3"
    },
    "language_info": {
      "name": "python"
    }
  },
  "cells": [
    {
      "cell_type": "markdown",
      "metadata": {
        "id": "view-in-github",
        "colab_type": "text"
      },
      "source": [
        "<a href=\"https://colab.research.google.com/github/Snigdha2005/Bootcamp_Python/blob/main/WE5_BC1_20230516_2.ipynb\" target=\"_parent\"><img src=\"https://colab.research.google.com/assets/colab-badge.svg\" alt=\"Open In Colab\"/></a>"
      ]
    },
    {
      "cell_type": "markdown",
      "source": [
        "# FizzBuzz\n",
        "\n",
        "Given a number, count up to that number--with the following rules:\n",
        "  1. If the number is a multiple of 3 the number is called \"FIZZ\"\n",
        "  2. If the number is a multiple of 5 it is called \"BUZZ\"\n",
        "  3. If it is a multiple of both, it is called \"FIZZBUZZ\"\n",
        "  4. If it is not a multiple of either it is just called by the number's original value\n",
        "\n",
        "  Write a function to return the list of the fizzbuzz names upto the given number"
      ],
      "metadata": {
        "id": "G1OaWZ8nJsYt"
      }
    },
    {
      "cell_type": "code",
      "source": [
        "def fizzbuzz(upto: int) -> list[str]:\n",
        "    return [fb(n)for n in range(1, upto+1)]"
      ],
      "metadata": {
        "id": "NS2mNaHMKGkh"
      },
      "execution_count": null,
      "outputs": []
    },
    {
      "cell_type": "code",
      "source": [
        "def fb(n: int) -> str:\n",
        "    if n % 3 == 0 and n % 5 == 0:\n",
        "        return \"FIZZBUZZ\"\n",
        "    if n % 3 == 0:\n",
        "        return \"FIZZ\"\n",
        "    if n % 5 == 0:\n",
        "        return \"BUZZ\"\n",
        "    return str(n)"
      ],
      "metadata": {
        "id": "7yPdL8e9LtIc"
      },
      "execution_count": null,
      "outputs": []
    },
    {
      "cell_type": "code",
      "source": [
        "fizzbuzz(30)"
      ],
      "metadata": {
        "id": "1oMNC70-L_38"
      },
      "execution_count": null,
      "outputs": []
    },
    {
      "cell_type": "code",
      "source": [
        "def fb2(n: int) -> str:\n",
        "    out = \"\"\n",
        "    if n % 3 == 0:\n",
        "        out += \"FIZZ\"\n",
        "    if n % 5 == 0:\n",
        "        out += \"BUZZ\"\n",
        "    if len(out) == 0:\n",
        "        out = str(n)\n",
        "    return out"
      ],
      "metadata": {
        "id": "mvyC6W2BM5rM"
      },
      "execution_count": null,
      "outputs": []
    },
    {
      "cell_type": "code",
      "source": [
        "fb2(15)"
      ],
      "metadata": {
        "id": "RTqxdtxrPcai"
      },
      "execution_count": null,
      "outputs": []
    },
    {
      "cell_type": "code",
      "source": [
        "def fizzbuzz(upto: int) -> list[str]:\n",
        "    return [fb2(n)for n in range(1, upto+1)]"
      ],
      "metadata": {
        "id": "1kIIH3m1Pmon"
      },
      "execution_count": null,
      "outputs": []
    },
    {
      "cell_type": "code",
      "source": [
        "fizzbuzz(21)"
      ],
      "metadata": {
        "id": "ojEPKzrYP1JS"
      },
      "execution_count": null,
      "outputs": []
    },
    {
      "cell_type": "code",
      "source": [
        "def fb3(n: int) -> str:\n",
        "    fbs = [\"FIZZBUZZ\", \"\", \"\", \"FIZZ\", \"\", \"BUZZ\", \"FIZZ\",\n",
        "           \"\", \"\", \"FIZZ\", \"BUZZ\", \"\", \"FIZZ\", \"\", \"\"]\n",
        "    position = n % 15\n",
        "    if fbs[position] == \"\":\n",
        "        return str(n)\n",
        "    else:\n",
        "        return fbs[position]"
      ],
      "metadata": {
        "id": "1-eVwQCUP8C8"
      },
      "execution_count": null,
      "outputs": []
    },
    {
      "cell_type": "code",
      "source": [
        "def fizzbuzz3(upto: int) -> list[str]:\n",
        "    return [fb3(n)for n in range(1, upto+1)]"
      ],
      "metadata": {
        "id": "k3J3x3FYRmdP"
      },
      "execution_count": null,
      "outputs": []
    },
    {
      "cell_type": "code",
      "source": [
        "def make_fb(n: int) -> str:\n",
        "    out = \"\"\n",
        "    if n % 3 == 0:\n",
        "        out += \"FIZZ\"\n",
        "    if n % 5 == 0:\n",
        "        out += \"BUZZ\"\n",
        "    return out\n",
        "def fb_full()-> list[str]:\n",
        "    return [make_fb(k) for k in range(15)]"
      ],
      "metadata": {
        "id": "Nh4d5KK_Rs0g"
      },
      "execution_count": null,
      "outputs": []
    },
    {
      "cell_type": "code",
      "source": [
        "fb_full()"
      ],
      "metadata": {
        "id": "quOyh0DFU47m"
      },
      "execution_count": null,
      "outputs": []
    },
    {
      "cell_type": "code",
      "source": [
        "def fb4(n: int) -> str:\n",
        "    fbs = {(True, True):   \"FIZZBUZZ\",\n",
        "           (True, False):  \"BUZZ\",\n",
        "           (False, True):  \"FIZZ\",\n",
        "           (False, False): str(n)}\n",
        "    return fbs[(n % 5 == 0, n % 3 == 0)]"
      ],
      "metadata": {
        "id": "34u3xqYKU57x"
      },
      "execution_count": null,
      "outputs": []
    },
    {
      "cell_type": "code",
      "source": [
        "def pick(n: int) -> int:\n",
        "    return 2 * int(n % 5 == 0) + int(n % 3 == 0)\n",
        "\n",
        "def fb5(n: int) -> str:\n",
        "    return [str(n), \"FIZZ\", \"BUZZ\", \"FIZZBUZZ\"][pick(n)]\n"
      ],
      "metadata": {
        "id": "LCucvBW6WrXs"
      },
      "execution_count": null,
      "outputs": []
    },
    {
      "cell_type": "code",
      "source": [
        "def fb_Full(upto: int) -> list[str]:\n",
        "    fbs = [str(n) for n in range(upto+1)]\n",
        "    fbs[::3] = [\"FIZZ\"] * len(fbs[::3])\n",
        "    fbs[::5] = [\"BUZZ\"] * len(fbs[::5])\n",
        "    fbs[::15] = [\"FIZZBUZZ\"] * len(fbs[::15])\n",
        "    return fbs[1:]"
      ],
      "metadata": {
        "id": "y6lBpDDZX05V"
      },
      "execution_count": null,
      "outputs": []
    },
    {
      "cell_type": "code",
      "source": [
        "fb_Full(20)"
      ],
      "metadata": {
        "id": "w2iVsESYZa3u"
      },
      "execution_count": null,
      "outputs": []
    },
    {
      "cell_type": "markdown",
      "source": [
        "$S' = \\{ \\phi(x) | x \\in S, \\pi(x) \\}$"
      ],
      "metadata": {
        "id": "4SyYMD54ZkPb"
      }
    },
    {
      "cell_type": "markdown",
      "source": [],
      "metadata": {
        "id": "58ewp3xB1ZG1"
      }
    },
    {
      "cell_type": "code",
      "source": [
        "S = \"\""
      ],
      "metadata": {
        "id": "3mRx_Ayu1sR1"
      },
      "execution_count": null,
      "outputs": []
    },
    {
      "cell_type": "code",
      "source": [
        "S1 = [phi(x) for x in S if pi(x)]"
      ],
      "metadata": {
        "id": "XHLPbHzF1cVz"
      },
      "execution_count": null,
      "outputs": []
    },
    {
      "cell_type": "code",
      "source": [
        "S2 = {phi(x) for x in S if pi(x)}"
      ],
      "metadata": {
        "id": "EeKn8qTI1sJj"
      },
      "execution_count": null,
      "outputs": []
    },
    {
      "cell_type": "code",
      "source": [
        "S3 = {x:phi(x) for x in S if pi(x)}"
      ],
      "metadata": {
        "id": "AZiUgdYfzxXw"
      },
      "execution_count": null,
      "outputs": []
    },
    {
      "cell_type": "code",
      "source": [
        "{α: α*α for α in range(0, 100, 2) if α % 7 == 0}"
      ],
      "metadata": {
        "id": "7mThvRnS2p5m"
      },
      "execution_count": null,
      "outputs": []
    },
    {
      "cell_type": "markdown",
      "source": [
        "$map(f, S) \\equiv [f(S[0], f(S[1]), \\ldots f(S[-1])]$\n",
        "\n",
        "$map(f, S) \\equiv [f(x)~~for~~x~~in~~S]$"
      ],
      "metadata": {
        "id": "VU3w-d-l3Qli"
      }
    },
    {
      "cell_type": "markdown",
      "source": [
        "$filter(f, S) \\equiv [x~~for~~x~~in~~S~~if~f(x)]$ "
      ],
      "metadata": {
        "id": "0kdb5D-q38M4"
      }
    },
    {
      "cell_type": "markdown",
      "source": [
        "$[\\phi(x)~~for~~x~~in~~S~~if~~\\pi(x)] \\equiv map(\\phi, filter(\\pi, S))$"
      ],
      "metadata": {
        "id": "urJ2ES7I5yPV"
      }
    },
    {
      "cell_type": "code",
      "source": [
        "def square(x: int) -> int:\n",
        "    return x * x"
      ],
      "metadata": {
        "id": "KYPT0hY-5PiS"
      },
      "execution_count": null,
      "outputs": []
    },
    {
      "cell_type": "code",
      "source": [
        "f = square"
      ],
      "metadata": {
        "id": "RSablDO266vg"
      },
      "execution_count": null,
      "outputs": []
    },
    {
      "cell_type": "code",
      "source": [
        "type(f)"
      ],
      "metadata": {
        "id": "06iU5hKV68qh"
      },
      "execution_count": null,
      "outputs": []
    },
    {
      "cell_type": "code",
      "source": [
        "f(6)"
      ],
      "metadata": {
        "id": "eB4ORM3A6-_H"
      },
      "execution_count": null,
      "outputs": []
    },
    {
      "cell_type": "code",
      "source": [
        "def α(n):\n",
        "    r = 0\n",
        "    while r * r < n:\n",
        "        r += 1\n",
        "    return r * r == n"
      ],
      "metadata": {
        "id": "jIM-982j7A9a"
      },
      "execution_count": null,
      "outputs": []
    },
    {
      "cell_type": "code",
      "source": [
        "def is_perfect_cube(n: int) -> bool:\n",
        "    r = 0\n",
        "    while r * r * r < n:\n",
        "        r += 1\n",
        "    return r * r * r == n"
      ],
      "metadata": {
        "id": "0zNa1oB08MjD"
      },
      "execution_count": null,
      "outputs": []
    },
    {
      "cell_type": "code",
      "source": [
        "def is_triangular(n: int) -> bool:\n",
        "    r = 0\n",
        "    while (r * (r + 1)) // 2 < n:\n",
        "        r += 1\n",
        "    return (r * (r + 1)) // 2 == n\n"
      ],
      "metadata": {
        "id": "BDatFqpY8mTN"
      },
      "execution_count": null,
      "outputs": []
    },
    {
      "cell_type": "code",
      "source": [
        "def inverse(f, n: int) -> bool:\n",
        "    r = 0\n",
        "    while f(r) < n:\n",
        "        r += 1\n",
        "    return f(r) == n"
      ],
      "metadata": {
        "id": "phhWiVvQ9zak"
      },
      "execution_count": null,
      "outputs": []
    },
    {
      "cell_type": "code",
      "source": [
        "def p2(x):\n",
        "    return 2 ** x\n",
        "    \n",
        "def is_power_of2(n: int) -> bool:\n",
        "    return inverse(p2,n)\n"
      ],
      "metadata": {
        "id": "PV-omyXx-JcE"
      },
      "execution_count": null,
      "outputs": []
    },
    {
      "cell_type": "code",
      "source": [
        "inverse(lambda x: x * x, 16) # is perfect square?"
      ],
      "metadata": {
        "id": "_Tuv9kjE-bay"
      },
      "execution_count": null,
      "outputs": []
    },
    {
      "cell_type": "code",
      "source": [
        "inverse(lambda x: 2 ** x, 32) # is power of two?"
      ],
      "metadata": {
        "id": "zhkQgNeH--4f"
      },
      "execution_count": null,
      "outputs": []
    },
    {
      "cell_type": "markdown",
      "source": [
        "$reduce(f, S) \\equiv reduce(f, [f(S[0], S[1]), S[2], S[3] \\ldots S[-1])$"
      ],
      "metadata": {
        "id": "FO_tpnco_MVR"
      }
    },
    {
      "cell_type": "code",
      "source": [
        "from functools import reduce as fold\n",
        "\n",
        "def gen_euler001(limit: int, nums: list[int]) -> int:\n",
        "    multiples = [set(range(k, limit, k)) for k in nums]\n",
        "    return sum(fold(lambda a, b: a | b, multiples))"
      ],
      "metadata": {
        "id": "1vy6393PG_bl"
      },
      "execution_count": null,
      "outputs": []
    },
    {
      "cell_type": "code",
      "source": [
        "[set(range(k, 30, k)) for k in [3, 5, 7]]"
      ],
      "metadata": {
        "id": "1LFE34G3JgN2"
      },
      "execution_count": null,
      "outputs": []
    },
    {
      "cell_type": "code",
      "source": [
        "def f(x):\n",
        "    return lambda p: p + x"
      ],
      "metadata": {
        "id": "PFmA47zQJoQ6"
      },
      "execution_count": null,
      "outputs": []
    },
    {
      "cell_type": "code",
      "source": [
        "g = f(7)"
      ],
      "metadata": {
        "id": "WmfWXrcTMFz3"
      },
      "execution_count": null,
      "outputs": []
    },
    {
      "cell_type": "code",
      "source": [
        "g(5)"
      ],
      "metadata": {
        "id": "lWjKJrw_MH84"
      },
      "execution_count": null,
      "outputs": []
    },
    {
      "cell_type": "code",
      "source": [
        "def collect_anagrams(words: list[str]) -> list[list[str]]:\n",
        "    groups = {}\n",
        "    for word in words:\n",
        "        key = ''.join(sorted(word))\n",
        "        if key not in groups:\n",
        "            groups[key] = [word]\n",
        "        else:\n",
        "            groups[key].append(word)\n",
        "    return [w for w in groups.values() if len(w) > 1]"
      ],
      "metadata": {
        "id": "k-_sprhuMM00"
      },
      "execution_count": null,
      "outputs": []
    },
    {
      "cell_type": "code",
      "source": [
        "test = [\"hello\", \"spare\", \"local\", \"adds\", \"dads\", \"spear\", \"reaps\", \"model\"]"
      ],
      "metadata": {
        "id": "oPgYENEXd6cY"
      },
      "execution_count": null,
      "outputs": []
    },
    {
      "cell_type": "code",
      "source": [
        "test2 = [\"part\", \"spare\", \"trap\", \"adds\", \"modes\", \"dads\", \"spear\", \"reaps\", \"domes\"]"
      ],
      "metadata": {
        "id": "7eDhFH8jjski"
      },
      "execution_count": null,
      "outputs": []
    },
    {
      "cell_type": "code",
      "source": [
        "print(sorted(test, key=sorted))"
      ],
      "metadata": {
        "id": "LwBhvo5HjKY2"
      },
      "execution_count": null,
      "outputs": []
    },
    {
      "cell_type": "code",
      "source": [
        "print(sorted(test2, key=sorted))"
      ],
      "metadata": {
        "id": "l08Aj1r3jTrd"
      },
      "execution_count": null,
      "outputs": []
    },
    {
      "cell_type": "code",
      "source": [
        "words = [\"Hello\", \"local\", \"First\", \"beast\"]"
      ],
      "metadata": {
        "id": "JumccTqNj7V6"
      },
      "execution_count": null,
      "outputs": []
    },
    {
      "cell_type": "code",
      "source": [
        "sorted(words)"
      ],
      "metadata": {
        "id": "6iMox11wkybH"
      },
      "execution_count": null,
      "outputs": []
    },
    {
      "cell_type": "code",
      "source": [
        "sorted(words, key=str.lower)"
      ],
      "metadata": {
        "id": "qQNrgSSjkz28"
      },
      "execution_count": null,
      "outputs": []
    },
    {
      "cell_type": "code",
      "source": [],
      "metadata": {
        "id": "CCQd4gVuk7_7"
      },
      "execution_count": null,
      "outputs": []
    }
  ]
}