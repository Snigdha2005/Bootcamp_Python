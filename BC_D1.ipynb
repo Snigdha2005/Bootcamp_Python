{
  "nbformat": 4,
  "nbformat_minor": 0,
  "metadata": {
    "colab": {
      "provenance": [],
      "include_colab_link": true
    },
    "kernelspec": {
      "name": "python3",
      "display_name": "Python 3"
    },
    "language_info": {
      "name": "python"
    }
  },
  "cells": [
    {
      "cell_type": "markdown",
      "metadata": {
        "id": "view-in-github",
        "colab_type": "text"
      },
      "source": [
        "<a href=\"https://colab.research.google.com/github/Snigdha2005/Bootcamp_Python/blob/main/BC_D1.ipynb\" target=\"_parent\"><img src=\"https://colab.research.google.com/assets/colab-badge.svg\" alt=\"Open In Colab\"/></a>"
      ]
    },
    {
      "cell_type": "code",
      "execution_count": null,
      "metadata": {
        "id": "DS48z6PkEF8_"
      },
      "outputs": [],
      "source": [
        "##specialist a list is termed special if it has even numbers in even indices and odd numbers in odd indices. Write a function that checks if the given list is a specialist\n",
        "## strong numbers numbers that are equal to the sum of the factorials of the digits are termed strong. write  a function to verify whether given integer is a strong number.\n",
        "##given a variable in snake_case convert it to camelcase and vice versa."
      ]
    },
    {
      "cell_type": "code",
      "source": [
        "'''FUNCTION TO CHECK IF GIVEN NUMBER IS EVEN OR ODD'''\n",
        "def is_even(num):\n",
        "    return num % 2 == 0\n",
        "is_even(67)"
      ],
      "metadata": {
        "colab": {
          "base_uri": "https://localhost:8080/"
        },
        "id": "43hZnebtLtdO",
        "outputId": "14a56afc-6d22-4453-87ac-ded3295f8153"
      },
      "execution_count": null,
      "outputs": [
        {
          "output_type": "execute_result",
          "data": {
            "text/plain": [
              "False"
            ]
          },
          "metadata": {},
          "execution_count": 6
        }
      ]
    },
    {
      "cell_type": "code",
      "source": [
        "'''FUNCTION 1.0 TO CHECK IF GIVEN LIST SPECIAL LIST OR NOT'''\n",
        "def specialist(lt)->bool:\n",
        "  for i in lt:\n",
        "    if(i % 2 == 0):\n",
        "      if(lt.index(i) % 2 != 0):\n",
        "        return False\n",
        "    else:\n",
        "      if(lt.index(i) % 2 != 1):\n",
        "        return False\n",
        "  return True\n",
        "lt=[1,2,3,4]\n",
        "print(specialist(lt))"
      ],
      "metadata": {
        "colab": {
          "base_uri": "https://localhost:8080/"
        },
        "id": "AqWBm_9HHoYr",
        "outputId": "eb209740-d929-4d50-f25d-22198c1f74ef"
      },
      "execution_count": null,
      "outputs": [
        {
          "output_type": "stream",
          "name": "stdout",
          "text": [
            "False\n"
          ]
        }
      ]
    },
    {
      "cell_type": "code",
      "source": [
        "'''FUNCTION TO CHECK IF GIVEN NUMBER STRONG NUMBER OR NOT'''\n",
        "def fact(n):\n",
        "  if(n == 0 or n == 1):\n",
        "    return 1\n",
        "  else:\n",
        "    return n * fact(n-1)\n",
        "def strong(n)->bool:\n",
        "  x = str(n)\n",
        "  s = 0\n",
        "  for i in range(len(x)):\n",
        "    s = s + fact(int(x[i]))\n",
        "  return s == n\n",
        "print(strong(145))"
      ],
      "metadata": {
        "colab": {
          "base_uri": "https://localhost:8080/"
        },
        "id": "x-ufMeNWI37K",
        "outputId": "12e897fd-1c53-47d2-f0cd-9fa93bf7d40b"
      },
      "execution_count": null,
      "outputs": [
        {
          "output_type": "stream",
          "name": "stdout",
          "text": [
            "True\n"
          ]
        }
      ]
    },
    {
      "cell_type": "code",
      "source": [
        "'''FUNCTION 2.0 FOR SPECIAL LIST''' #NOT WORKING\n",
        "def specialist(lt):\n",
        "    for i in lt:\n",
        "        return not(( i % 2 == 0 ) and ( lt.index(i) % 2 != 0))\n",
        "        return not(( i % 2 == 1 ) and ( lt.index(i) % 2 != 1))\n",
        "    return True\n",
        "lt = [1, 2, 3, 4]\n",
        "print(specialist(lt))"
      ],
      "metadata": {
        "colab": {
          "base_uri": "https://localhost:8080/"
        },
        "id": "l9eIWqKLMVCS",
        "outputId": "8d77c9ec-d8ea-452c-f324-c07fd5e5de2d"
      },
      "execution_count": null,
      "outputs": [
        {
          "output_type": "stream",
          "name": "stdout",
          "text": [
            "True\n"
          ]
        }
      ]
    },
    {
      "cell_type": "code",
      "source": [
        "'''FUNCTION TO CHANGE SNAKE CASE TO CAMEL CASE''' #INCORRECT\n",
        "def snake_to_camel(x):\n",
        "    lt = list(x)\n",
        "    lt = [ i for i in lt if i != '_']\n",
        "    return ''.join(lt)\n",
        "snake_to_camel('snake_to')"
      ],
      "metadata": {
        "colab": {
          "base_uri": "https://localhost:8080/",
          "height": 38
        },
        "id": "l-r3ZrQqPLWb",
        "outputId": "a44ad67f-822c-4999-dc21-80253530d609"
      },
      "execution_count": null,
      "outputs": [
        {
          "output_type": "execute_result",
          "data": {
            "text/plain": [
              "'snaketo'"
            ],
            "application/vnd.google.colaboratory.intrinsic+json": {
              "type": "string"
            }
          },
          "metadata": {},
          "execution_count": 13
        }
      ]
    },
    {
      "cell_type": "code",
      "source": [
        "##Idlis distribution\n",
        "\n",
        "'''FUNCTION 1.0 TO DISTRIBUTE MIN NUMBER OF IDLIS''' #INCORRECT\n",
        "def idlis(lt : list[int])->int:\n",
        "    #le = [ i for i in lt if i % 2 == 0]\n",
        "    lo = [ i for i in lt if i % 2 == 1]\n",
        "    #lo.extend(le)\n",
        "    return len(lo)\n",
        "lt=[3,5,4,6]\n",
        "idlis(lt)"
      ],
      "metadata": {
        "colab": {
          "base_uri": "https://localhost:8080/"
        },
        "id": "DG0qxr7nNy6V",
        "outputId": "ee779563-acbe-4c25-a7cc-d24ca1627fd2"
      },
      "execution_count": null,
      "outputs": [
        {
          "output_type": "execute_result",
          "data": {
            "text/plain": [
              "2"
            ]
          },
          "metadata": {},
          "execution_count": 14
        }
      ]
    },
    {
      "cell_type": "code",
      "source": [
        "'''FUNCTION 2.0 TO DISTRIBUTE MIN NUMBER OF IDLIS''' #INCORRECT\n",
        "num = 0\n",
        "def idlis(lt : list[int] , num)->int:\n",
        "    lo = [ i for i in lt if i % 2 == 0]\n",
        "    if ( len(lo) == 0 ):\n",
        "        return num\n",
        "    \n",
        "    if ( lt.index(lo[0]) == 0):\n",
        "        return -1\n",
        "    lt[lt.index(lo[0])-1] += 1\n",
        "    num += 2\n",
        "    return idlis(lt, num)\n",
        "lt = [3, 4, 5, 6]\n",
        "print(idlis(lt, 0))"
      ],
      "metadata": {
        "colab": {
          "base_uri": "https://localhost:8080/"
        },
        "id": "RH5ojFMBjV1s",
        "outputId": "712568e7-d5e7-462c-fb2b-0c8823763046"
      },
      "execution_count": null,
      "outputs": [
        {
          "output_type": "stream",
          "name": "stdout",
          "text": [
            "-1\n"
          ]
        }
      ]
    },
    {
      "cell_type": "code",
      "source": [
        "'''FUNCTION 3.0 TO DISTRIBUTE MIN NUMBER OF IDLIS''' #CORRECT\n",
        "def even(num):\n",
        "    return num % 2 == 0\n",
        "def distribute(idlis : list[int])->int:\n",
        "    #if last person has odd number the return -1\n",
        "    #if after giving lt[0 : len(lt)-2] idlis we get an even list then we get min number \n",
        "    #these operations do not change the parity of the list\n",
        "    #if adding one to odd previous one even->becomes odd so total list has same number of odds, odd->becomes even\n",
        "    #the relative positions of numbers does not change the min number of idlis to be given \n",
        "    if sum(idlis) % 2 == 1:\n",
        "        return -1\n",
        "    if len(idlis) < 2:\n",
        "        return 0\n",
        "    # if (len(idlis)) == 0 or if len(idlis) == 1 as checking if sum is odd is already done so the number in list is even\n",
        "    if even(idlis[0]):\n",
        "        return distribute(idlis[1:])\n",
        "    return 2 + distribute([1 + idlis[1]] + idlis[2:])\n",
        "lt = [1, 2, 3, 4]\n",
        "print(distribute(lt))\n",
        "'''\n",
        "    1 2 3 4 +2\n",
        "    3 3 4   +2\n",
        "    4 4     +0\n",
        "    4        0\n",
        "'''\n",
        "lt = [1, 0, 1]\n",
        "print(distribute(lt))\n",
        "lt = [1, 2, 4, 1]\n",
        "print(distribute(lt))\n",
        "lt = [1, 2, 1]\n",
        "lt = [1, 2, 2, 2, 1, 2, 2, 2, 1, 2, 2, 1 ]\n",
        "print(distribute(lt))"
      ],
      "metadata": {
        "colab": {
          "base_uri": "https://localhost:8080/"
        },
        "id": "NN8qj-UlmHo8",
        "outputId": "28ed2af2-fc56-4fb4-ba2b-dcfe61b72ff3"
      },
      "execution_count": null,
      "outputs": [
        {
          "output_type": "stream",
          "name": "stdout",
          "text": [
            "4\n",
            "4\n",
            "6\n",
            "14\n"
          ]
        }
      ]
    },
    {
      "cell_type": "code",
      "source": [
        "'''FUNCTION 4.0 TO DISTRIBUTE MIN NUMBER OF IDLIS''' #CORRECT\n",
        "def oe(n:int)->str:\n",
        "    '''function to find if given number is even or not and then return o or e accordingly'''\n",
        "    return 'o' if n % 2 == 1 else 'e'\n",
        "def distributeA(idlis: list[int])->int:\n",
        "    if sum(idlis) % 2 == 1:\n",
        "        return -1\n",
        "    queue = ''.join([oe(_) for _ in idlis])\n",
        "    '''create a string with os and es using list comprehension'''\n",
        "    return distributeB(queue) ''' function call'''\n",
        "def distributeB(queue: str)->int:\n",
        "    '''main function to calculate min number of idlis to be distributed'''\n",
        "    if len(queue) < 2: #if sum of list is odd and only 0 or 1 elements then can't distribute so return -1 \n",
        "        return 0\n",
        "    '''if first two numbers are even, then leave those two and return the rest of the list of numbers(string of os and es)'''\n",
        "    if queue.startswith('ee'):\n",
        "        return distributeB(queue[2:])\n",
        "    '''if first two numbers are odd then in one iteration both become even this 2 idlis given and the rest of the string is passed again'''\n",
        "    if queue.startswith('oo'):\n",
        "        return 2 + distributeB(queue[2:])\n",
        "    '''if first number is even and second number is odd then we pass the list removing the first number (does not chnage the min number of idlis)'''\n",
        "    if queue.startswith('e'):\n",
        "        return distributeB(queue[1:])\n",
        "    '''if first number is odd and second number is even then due to rules we give 2 idlis, change the even e to o and pass the string removing the first character'''\n",
        "    else:\n",
        "        return 2 + distributeB('o' + queue[2:])\n",
        "#tokenize using delimiter\n",
        "#split using separator\n",
        "#first token is the first part before the splitting separator\n",
        "lt = [1, 2, 4, 3]\n",
        "''' oeeo +2\n",
        "    oeo  +2 \n",
        "    oo   +2\n",
        "          0\n",
        "    ooeoee +2 ##will not even go to distributeB\n",
        "    eoee   +0\n",
        "    oee    +2\n",
        "    oe     +2\n",
        "    o      +0'''"
      ],
      "metadata": {
        "id": "X_FG8ssvsG8g"
      },
      "execution_count": null,
      "outputs": []
    },
    {
      "cell_type": "code",
      "source": [
        "'''FUNCTION 5.0 TO DISTRIBUTE MIN NUMBER OF IDLIS''' #CORRECT\n",
        "ODD, EVEN = 'o', 'e'\n",
        "'''\n",
        "'oooo'.split('o')[1::2]\n",
        "o n es o alpha es o m es\n",
        "split wrt o->\n",
        "['', n es, alpha es, m es, '']\n",
        "then [1::2]->\n",
        "[n es, m es] \n",
        "'''\n",
        "def oe(n: int)->str:\n",
        "    '''if even return e else return o '''\n",
        "    return ODD if n % 2 == 1 else EVEN\n",
        "def distributeC(idlis: list[int])->int:\n",
        "    if sum(idlis) % 2 == 1:#checking if sum is odd\n",
        "        return -1\n",
        "    queue = ''.join([oe(_) for _ in idlis])#create a string with os and es\n",
        "    only_es = queue.split(ODD)[1::2]#split the string wrt os and create a new list with es without split list=['','es','es','']\n",
        "    print(only_es)\n",
        "    return 2 * (len(''.join(only_es)) + len(only_es))\n",
        "    '''only_es is the number of os which are useful to us, len(''.join(only_es)) is the number of total es'''\n",
        "lt = [1, 2, 3, 4]\n",
        "lt = [1, 2, 2, 2, 1, 2, 2, 2, 1, 2, 2, 1 ]\n",
        "'''\n",
        "    oeeoeeeoeo      +2\n",
        "    e oeoeeeoeo     +2\n",
        "    ee ooeeeoeo     +2\n",
        "    eee eeeeoeo     +2\n",
        "    eeee eeeoeo      \n",
        "    eeeee eeoeo      \n",
        "    eeeeee eoeo      \n",
        "    eeeeeee oeo     +2\n",
        "    eeeeeeee oo     +2\n",
        "'''\n",
        "lt = [1,2,2,1,2,2,2,1,2,1]\n",
        "print(distributeC(lt))"
      ],
      "metadata": {
        "id": "VYjs6sgCxwLm",
        "colab": {
          "base_uri": "https://localhost:8080/"
        },
        "outputId": "f90187cc-5079-4ca6-b99c-3d122127dbd4"
      },
      "execution_count": null,
      "outputs": [
        {
          "output_type": "stream",
          "name": "stdout",
          "text": [
            "['ee', 'e']\n",
            "10\n"
          ]
        }
      ]
    },
    {
      "cell_type": "code",
      "source": [
        "#a number is an armstrong number if the sum of the digits of the number raised to the power of number of digits is equal to the original number. write a function to verify if given number is armstrong or not\n",
        "'''FUNCTION 1.0 TO GET ARMSTRONG NUMBERS IN A RANGE''' #CORRECT\n",
        "def armstrong(num: int)->bool:\n",
        "    return sum([int(i)**len(str(num)) for i in str(num)]) == num\n",
        "def given(a,b)->list:\n",
        "    #if (a >= b):\n",
        "    #   return [0]\n",
        "    return [i for i in range(a,b) if armstrong(i)]\n",
        "print(given(1,497))"
      ],
      "metadata": {
        "colab": {
          "base_uri": "https://localhost:8080/"
        },
        "id": "xXaRkrKhSlyz",
        "outputId": "d4d5235f-12d1-4855-ce32-a4ccd22b9559"
      },
      "execution_count": null,
      "outputs": [
        {
          "output_type": "stream",
          "name": "stdout",
          "text": [
            "[1, 2, 3, 4, 5, 6, 7, 8, 9, 153, 370, 371, 407]\n"
          ]
        }
      ]
    },
    {
      "cell_type": "code",
      "source": [
        "'''FUNCTION 2.0 TO GET ARMSTRONG NUMBER IN A RANGE''' #INCORRECT\n",
        "def num2digits(n: int)->list[int]:\n",
        "    return [int(ch) for ch in str(n)]\n",
        "def to_power(xs : list[int], to : int)->list[int]:\n",
        "    return [x ** to for x in xs]\n",
        "def is_armstrong(n : int)->bool:\n",
        "    ds = num2digits(n)\n",
        "    return n == sum((to_power(d, len(ds)) for d in ds))\n",
        "#print(is_armstrong(947))"
      ],
      "metadata": {
        "id": "Wej6N5MPX-ES"
      },
      "execution_count": null,
      "outputs": []
    },
    {
      "cell_type": "code",
      "source": [
        "#81783456 to words range 99 crores and 100 million\n",
        "'''FUNCTION 1.0 TO CONVERT TO WORDS'''#INCOMPLETE\n",
        "def twodig(num, d):\n",
        "        if(10 <= num <= 19):\n",
        "            return d[num] \n",
        "        if len(str(num)) == 2:\n",
        "            return d[int(str(num)[0] + '0')] + ' ' + d[int(str(num)[1])]\n",
        "        else:\n",
        "            return d[int(str(num)[0])]\n",
        "def num_words(num : int):\n",
        "    d = {1 : 'one', 2 : 'two', 3 : 'three', 4 : 'four', 5 : 'five', 6 : 'six', 7 : 'seven', 8 : 'eight', 9 : 'nine', 10 : 'ten', 11 : 'eleven', 12 :'twelve', 13:'thirteen',14:'fourteen',15:'fifteen',16:'sixteen',17:'seventeen',18:'eighteen',19:'nineteen',20:'twenty',30:'thirty',40:'forty',50:'fifty',60:'sixty',70:'seventy',80:'eighty',90:'ninety' }\n",
        "    return twodig(num,d)\n",
        "print(num_words(19))"
      ],
      "metadata": {
        "colab": {
          "base_uri": "https://localhost:8080/"
        },
        "id": "orRcbpycZ6sA",
        "outputId": "ca9a305b-f38e-45ea-8708-a108012a6066"
      },
      "execution_count": null,
      "outputs": [
        {
          "output_type": "stream",
          "name": "stdout",
          "text": [
            "nineteen\n"
          ]
        }
      ]
    },
    {
      "cell_type": "code",
      "source": [
        "!pip install num2words"
      ],
      "metadata": {
        "colab": {
          "base_uri": "https://localhost:8080/"
        },
        "id": "mFdQ_6iZcwd5",
        "outputId": "cbcc96ff-7af6-4057-ca16-1409f87a9005"
      },
      "execution_count": null,
      "outputs": [
        {
          "output_type": "stream",
          "name": "stdout",
          "text": [
            "Looking in indexes: https://pypi.org/simple, https://us-python.pkg.dev/colab-wheels/public/simple/\n",
            "Collecting num2words\n",
            "  Downloading num2words-0.5.12-py3-none-any.whl (125 kB)\n",
            "\u001b[2K     \u001b[90m━━━━━━━━━━━━━━━━━━━━━━━━━━━━━━━━━━━━━━━\u001b[0m \u001b[32m125.2/125.2 kB\u001b[0m \u001b[31m6.1 MB/s\u001b[0m eta \u001b[36m0:00:00\u001b[0m\n",
            "\u001b[?25hCollecting docopt>=0.6.2 (from num2words)\n",
            "  Downloading docopt-0.6.2.tar.gz (25 kB)\n",
            "  Preparing metadata (setup.py) ... \u001b[?25l\u001b[?25hdone\n",
            "Building wheels for collected packages: docopt\n",
            "  Building wheel for docopt (setup.py) ... \u001b[?25l\u001b[?25hdone\n",
            "  Created wheel for docopt: filename=docopt-0.6.2-py2.py3-none-any.whl size=13707 sha256=4e69c2453568e0248f26ac540bebe59d92bdc7d304c4b418fd45d1191fee238e\n",
            "  Stored in directory: /root/.cache/pip/wheels/fc/ab/d4/5da2067ac95b36618c629a5f93f809425700506f72c9732fac\n",
            "Successfully built docopt\n",
            "Installing collected packages: docopt, num2words\n",
            "Successfully installed docopt-0.6.2 num2words-0.5.12\n"
          ]
        }
      ]
    },
    {
      "cell_type": "code",
      "source": [
        "'''FUNCTION 2.0 TO CONVERT TO WORDS'''#CORRECT BUT USING BUILT-IN FUNCTION\n",
        "import num2words\n",
        "#print(num2words.num2words(546345677, lang='en_IN')) \n",
        "s = num2words.num2words(546345677, lang='en_IN')\n",
        "r = s.replace(',','')\n",
        "p = r.replace('-',' ')\n",
        "print(p.title())"
      ],
      "metadata": {
        "colab": {
          "base_uri": "https://localhost:8080/",
          "height": 373
        },
        "id": "c1POaMGZc_tP",
        "outputId": "d5f47d6c-58b8-4cce-994a-13e13022318d"
      },
      "execution_count": null,
      "outputs": [
        {
          "output_type": "error",
          "ename": "ModuleNotFoundError",
          "evalue": "ignored",
          "traceback": [
            "\u001b[0;31m---------------------------------------------------------------------------\u001b[0m",
            "\u001b[0;31mModuleNotFoundError\u001b[0m                       Traceback (most recent call last)",
            "\u001b[0;32m<ipython-input-1-1c986180d16f>\u001b[0m in \u001b[0;36m<cell line: 1>\u001b[0;34m()\u001b[0m\n\u001b[0;32m----> 1\u001b[0;31m \u001b[0;32mimport\u001b[0m \u001b[0mnum2words\u001b[0m\u001b[0;34m\u001b[0m\u001b[0;34m\u001b[0m\u001b[0m\n\u001b[0m\u001b[1;32m      2\u001b[0m \u001b[0;31m#print(num2words.num2words(546345677, lang='en_IN'))\u001b[0m\u001b[0;34m\u001b[0m\u001b[0;34m\u001b[0m\u001b[0m\n\u001b[1;32m      3\u001b[0m \u001b[0ms\u001b[0m \u001b[0;34m=\u001b[0m \u001b[0mnum2words\u001b[0m\u001b[0;34m.\u001b[0m\u001b[0mnum2words\u001b[0m\u001b[0;34m(\u001b[0m\u001b[0;36m546345677\u001b[0m\u001b[0;34m,\u001b[0m \u001b[0mlang\u001b[0m\u001b[0;34m=\u001b[0m\u001b[0;34m'en_IN'\u001b[0m\u001b[0;34m)\u001b[0m\u001b[0;34m\u001b[0m\u001b[0;34m\u001b[0m\u001b[0m\n\u001b[1;32m      4\u001b[0m \u001b[0mr\u001b[0m \u001b[0;34m=\u001b[0m \u001b[0ms\u001b[0m\u001b[0;34m.\u001b[0m\u001b[0mreplace\u001b[0m\u001b[0;34m(\u001b[0m\u001b[0;34m','\u001b[0m\u001b[0;34m,\u001b[0m\u001b[0;34m''\u001b[0m\u001b[0;34m)\u001b[0m\u001b[0;34m\u001b[0m\u001b[0;34m\u001b[0m\u001b[0m\n\u001b[1;32m      5\u001b[0m \u001b[0mp\u001b[0m \u001b[0;34m=\u001b[0m \u001b[0mr\u001b[0m\u001b[0;34m.\u001b[0m\u001b[0mreplace\u001b[0m\u001b[0;34m(\u001b[0m\u001b[0;34m'-'\u001b[0m\u001b[0;34m,\u001b[0m\u001b[0;34m' '\u001b[0m\u001b[0;34m)\u001b[0m\u001b[0;34m\u001b[0m\u001b[0;34m\u001b[0m\u001b[0m\n",
            "\u001b[0;31mModuleNotFoundError\u001b[0m: No module named 'num2words'",
            "",
            "\u001b[0;31m---------------------------------------------------------------------------\u001b[0;32m\nNOTE: If your import is failing due to a missing package, you can\nmanually install dependencies using either !pip or !apt.\n\nTo view examples of installing some common dependencies, click the\n\"Open Examples\" button below.\n\u001b[0;31m---------------------------------------------------------------------------\u001b[0m\n"
          ],
          "errorDetails": {
            "actions": [
              {
                "action": "open_url",
                "actionText": "Open Examples",
                "url": "/notebooks/snippets/importing_libraries.ipynb"
              }
            ]
          }
        }
      ]
    },
    {
      "cell_type": "code",
      "source": [
        "'''FUNCTION 3.0 TO CONVERT TO WORDS(INTERNATIONAL AND INDIAN)''' #CORRECT\n",
        "def convert2d(n: int) -> str:\n",
        "    '''for converting 2 digit numbers to words'''\n",
        "    upto20 = [\"\", \"One \", \"Two \", \"Three \", \"Four \", \"Five \",\n",
        "             \"Six \", \"Seven \", \"Eight \", \"Nine \", \"Ten \", \n",
        "             \"Eleven\", \"Twelve \", \"Thirteen \", \"Fourteen \",\n",
        "             \"Fifteen \", \"Sixteen \", \"Seventeen \",\n",
        "             \"Eighteen \", \"Nineteen \"] #0-19 numbers in words \n",
        "\n",
        "    tens = [\"\", \"\", \"Twenty \", \"Thirty \", \"Forty \", \"Fifty \",\n",
        "            \"Sixty \", \"Seventy \", \"Eighty \", \"Ninety \"] #All the multiples of 10 upto 90\n",
        "    \n",
        "    if n < 20: #upto20 list already has the names\n",
        "        return upto20[n]\n",
        "    else: #if number greater than 19\n",
        "        return tens[n // 10] + upto20[n % 10] #tens[n // 10] = get the word in the list tens with the index n // 10 ; since n % 10 = unit digit number we get it from upto20 list\n",
        "\n",
        "def convert3d(n: int) -> str:\n",
        "    '''for converting 3 digit numbers to words using 2 digit numbers conversion'''\n",
        "    if n < 100: #for 2 digit numbers\n",
        "        return convert2d(n)\n",
        "    h, tu = divmod(n, 100) #divmod(dividend,divisor)=(quotient,remainder) -> h=quotient tu=remainder\n",
        "    if tu == 0: #if remainder=0 then it is a multiple of n=hundred\n",
        "        return convert2d(h) + \"Hundred \" #function call with just the quotient (single digit number in upto20)\n",
        "    else:#if remainder not 0\n",
        "        '''\n",
        "        656 -> six hundred and fifty six\n",
        "        convert2d(h) = six\n",
        "        convert2d(tu) = fifty six'''\n",
        "        return convert2d(h) + \"Hundred and \" + convert2d(tu)   \n",
        "\n",
        "def fig2words(n: int, which: str) -> str:\n",
        "    ''''''\n",
        "    w_denom_values = [10**9, 10**6, 10**3, 1]#denominations international system\n",
        "    w_denom_names = [\"Billion \", \"Million \", \"Thousand \", \"\"]#names in international system\n",
        "    i_denom_values = [10**7, 10**5, 10**3, 1]#denominations in indian system\n",
        "    i_denom_names = [\"Crore \", \"Lakh \", \"Thousand \", \"\"]#names in indian system\n",
        "    if which == \"W\":#if international\n",
        "        denom_values = w_denom_values\n",
        "        denom_names = w_denom_names\n",
        "    else:#if indian\n",
        "        denom_values = i_denom_values\n",
        "        denom_names = i_denom_names\n",
        "    denoms = dict(zip(denom_values, denom_names))#create dictionary with keys denom_values and values denom_names\n",
        "    in_words = '' #empty string\n",
        "    for denom in denom_values: #iterating through the dictionary and converting to words based on denominations\n",
        "        d = n // denom \n",
        "        if d > 0:\n",
        "            in_words += convert3d(d) + denoms[denom] #string with all the words...updating by adding the 3 digit number words + denomination name\n",
        "        n %= denom #dividing number to get next denomination\n",
        "    return in_words.title()#string formatting plus return\n",
        "print(fig2words(72364783,\"I\"))"
      ],
      "metadata": {
        "colab": {
          "base_uri": "https://localhost:8080/"
        },
        "id": "W7s0xxTkgBsp",
        "outputId": "db0d3862-8660-47e1-94ea-92b8a60fefd8"
      },
      "execution_count": 1,
      "outputs": [
        {
          "output_type": "stream",
          "name": "stdout",
          "text": [
            "Seven Crore Twenty Three Lakh Sixty Four Thousand Seven Hundred And Eighty Three \n"
          ]
        }
      ]
    }
  ]
}