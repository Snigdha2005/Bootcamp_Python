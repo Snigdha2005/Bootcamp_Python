{
  "nbformat": 4,
  "nbformat_minor": 0,
  "metadata": {
    "colab": {
      "provenance": [],
      "include_colab_link": true
    },
    "kernelspec": {
      "name": "python3",
      "display_name": "Python 3"
    },
    "language_info": {
      "name": "python"
    }
  },
  "cells": [
    {
      "cell_type": "markdown",
      "metadata": {
        "id": "view-in-github",
        "colab_type": "text"
      },
      "source": [
        "<a href=\"https://colab.research.google.com/github/Snigdha2005/Bootcamp_Python/blob/main/C_5_Python_Session_6.ipynb\" target=\"_parent\"><img src=\"https://colab.research.google.com/assets/colab-badge.svg\" alt=\"Open In Colab\"/></a>"
      ]
    },
    {
      "cell_type": "code",
      "source": [
        "def power_of_5(x):\n",
        "    return x ** 5\n",
        "\n",
        "a = [1, 2, 3, 4, 5]\n",
        "result = map(power_of_5, a)\n",
        "print(list(result))"
      ],
      "metadata": {
        "colab": {
          "base_uri": "https://localhost:8080/"
        },
        "id": "GfqrFsqiM0T0",
        "outputId": "1e0124d3-deac-44f3-989e-22a0a214206b"
      },
      "execution_count": null,
      "outputs": [
        {
          "output_type": "stream",
          "name": "stdout",
          "text": [
            "[1, 32, 243, 1024, 3125]\n"
          ]
        }
      ]
    },
    {
      "cell_type": "code",
      "execution_count": null,
      "metadata": {
        "colab": {
          "base_uri": "https://localhost:8080/"
        },
        "id": "tvgO3MRSFWSa",
        "outputId": "54643a9d-f464-40b9-a5cc-f1583ecf3f33"
      },
      "outputs": [
        {
          "output_type": "stream",
          "name": "stdout",
          "text": [
            "<filter object at 0x7f45ca03ec20>\n",
            "[1, 3, 45, 67, 97]\n"
          ]
        }
      ],
      "source": [
        "#filter(function, iterable)\n",
        "def isOdd(x):\n",
        "    if x % 2 == 1:\n",
        "        return True\n",
        "\n",
        "a = [1, 2, 3, 45, 67, 88, 97, 456]\n",
        "odd = filter(isOdd, a)\n",
        "print(odd)\n",
        "print(list(odd))"
      ]
    },
    {
      "cell_type": "code",
      "source": [
        "#reduce()\n",
        "#functools module\n",
        "#functools.reduce(function, iterable)\n",
        "#Calcute the product of a list.\n",
        "from functools import reduce\n",
        "def multiplication(x, y):\n",
        "    return x * y\n",
        "\n",
        "a = [1, 2, 3, 4, 5, 6, 7, 8, 9]\n",
        "result = reduce(multiplication, a)\n",
        "print(result)"
      ],
      "metadata": {
        "colab": {
          "base_uri": "https://localhost:8080/"
        },
        "id": "mYL5Ew4SPb9v",
        "outputId": "05d529dc-3ef0-45fd-e6d5-cac7d45db287"
      },
      "execution_count": null,
      "outputs": [
        {
          "output_type": "stream",
          "name": "stdout",
          "text": [
            "362880\n"
          ]
        }
      ]
    }
  ]
}