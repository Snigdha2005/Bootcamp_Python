{
  "nbformat": 4,
  "nbformat_minor": 0,
  "metadata": {
    "colab": {
      "private_outputs": true,
      "provenance": [],
      "include_colab_link": true
    },
    "kernelspec": {
      "name": "python3",
      "display_name": "Python 3"
    },
    "language_info": {
      "name": "python"
    }
  },
  "cells": [
    {
      "cell_type": "markdown",
      "metadata": {
        "id": "view-in-github",
        "colab_type": "text"
      },
      "source": [
        "<a href=\"https://colab.research.google.com/github/Snigdha2005/Bootcamp_Python/blob/main/Copy_of_WE5BC1_20230518.ipynb\" target=\"_parent\"><img src=\"https://colab.research.google.com/assets/colab-badge.svg\" alt=\"Open In Colab\"/></a>"
      ]
    },
    {
      "cell_type": "code",
      "execution_count": null,
      "metadata": {
        "id": "PWg-pANPBDZ4"
      },
      "outputs": [],
      "source": [
        "'''FUNCTION 1.0 TO CONVERT EVEN INDEX CHARACTERS TO CAPS AND ODD INDEX CHARACTERS TO LOWER CASE IN A STRING'''#CORRECT\n",
        "def myfunc(a):\n",
        "    empty=[]\n",
        "    for i in range(len(a)):\n",
        "        if i%2==0:#to check if index even\n",
        "            empty.append(a[i].upper())#append to the list capitalised character\n",
        "        else:\n",
        "            empty.append(a[i].lower())#append to list lower case character\n",
        "\n",
        "    return \"\".join(empty)#string from list\n",
        "print(myfunc('whyareyou'))"
      ]
    },
    {
      "cell_type": "code",
      "source": [
        "'''FUNCTION 2.0 TO CONVERT EVEN INDEX CHARACTERS TO CAPS AND ODD INDEX CHARACTERS TO LOWER CASE IN A STRING USING ENUMERATE'''#CORRECT\n",
        "'''enumerate(iterable, start=0) iterable = any object that supports iteration, start = index value of counter (default 0) \n",
        "   return tuple of counter/ index and the object in that index'''\n",
        "def alt_caseA(a: str) -> str:\n",
        "    altered = []\n",
        "    for pos, ch in enumerate(a):\n",
        "        if pos % 2 == 0:#pos = 0,1,2....len(str)-1\n",
        "            altered.append(ch.upper())#capitalize even index character\n",
        "        else:\n",
        "            altered.append(ch.lower())#odd index charcater lower case\n",
        "    return ''.join(altered)#return string from list"
      ],
      "metadata": {
        "id": "3zpsR7eZBWBV"
      },
      "execution_count": null,
      "outputs": []
    },
    {
      "cell_type": "code",
      "source": [
        "'''FUNCTION 3.0 TO CONVERT EVEN INDEX CHARACTERS TO CAPS AND ODD INDEX CHARACTERS TO LOWER CASE IN A STRING USING ENUMERATE (MORE COMPACT)'''#CORRECT\n",
        "def alt_caseB(a: str) -> str:\n",
        "    altered = []\n",
        "    for pos, ch in enumerate(a):\n",
        "        new_ch = ch.upper() if pos % 2 == 0 else ch.lower()#if else statement in one line and assigning the result of statement to a variable\n",
        "        altered.append(new_ch)# adding the variable to the list\n",
        "    return ''.join(altered)#returning string from the list"
      ],
      "metadata": {
        "id": "rgqj7yNyCJqU"
      },
      "execution_count": null,
      "outputs": []
    },
    {
      "cell_type": "code",
      "source": [
        "'''FUNCTION 4.0 TO CONVERT EVEN INDEX CHARACTERS TO CAPS AND ODD INDEX CHARACTERS TO LOWER CASE IN A STRING USING ENUMERATE AND LIST COMPREHENSION'''#CORRECT\n",
        "def alt_caseC(a: str) -> str:\n",
        "    return ''.join([ch.upper() if pos % 2 == 0 else ch.lower()\n",
        "                    for pos, ch in enumerate(a)])#create a new list with altered characters and then joining the list to form a string; returning the string"
      ],
      "metadata": {
        "id": "oCmrJu1nCcWt"
      },
      "execution_count": null,
      "outputs": []
    },
    {
      "cell_type": "code",
      "source": [
        "'''FUNCTION 5.0 TO CONVERT EVEN INDEX CHARACTERS TO CAPS AND ODD INDEX CHARACTERS TO LOWER CASE IN A STRING USING ENUMERATE AND LIST COMPREHENSION'''#CORRECT\n",
        "def alt_caseD(a: str) -> str:\n",
        "    change = [str.upper, str.lower]#create a newlist with the methods to be applied to the character\n",
        "    return ''.join([change[pos%2](ch) for pos, ch in enumerate(a)])#create new list and return string      \n"
      ],
      "metadata": {
        "id": "mzUBEe2kDNhR"
      },
      "execution_count": null,
      "outputs": []
    },
    {
      "cell_type": "code",
      "source": [
        "u = str.upper # 'aTaQ'\n",
        "u('a')"
      ],
      "metadata": {
        "id": "vcb-YSZwD1nA"
      },
      "execution_count": null,
      "outputs": []
    },
    {
      "cell_type": "code",
      "source": [
        "# ---------------------#\n",
        "# OPTIONAL! OPTIONAL!! #\n",
        "# ---------------------#\n",
        "'''FUNCTION 6.0 TO CONVERT EVEN INDEX CHARACTERS TO CAPS AND ODD INDEX CHARACTERS TO LOWER CASE IN A STRING USING ZIP AND LIST COMPREHENSION'''\n",
        "def alt_caseE(a: str) -> str:\n",
        "    fs = [str.upper, str.lower] * len(a)\n",
        "    return ''.join([f(ch) for f, ch in zip(fs, a)])"
      ],
      "metadata": {
        "id": "KZNqdnZqFsot"
      },
      "execution_count": null,
      "outputs": []
    },
    {
      "cell_type": "code",
      "source": [
        "'''FUNCTION 7.0 TO CONVERT EVEN INDEX CHARACTERS TO CAPS AND ODD INDEX CHARACTERS TO LOWER CASE IN A STRING USING SLICING AND ZIP '''#CORRECT+\n",
        "def alt_caseF(a: str) -> str:\n",
        "    u = a[::2].upper() + ' '\n",
        "    l = a[1::2].lower()\n",
        "    return ''.join(''.join(ul) for ul in zip(u, l))[:-1]"
      ],
      "metadata": {
        "id": "FIw3ur9aHBk7"
      },
      "execution_count": null,
      "outputs": []
    },
    {
      "cell_type": "code",
      "source": [
        "'''FUNCTION 8.0 TO CONVERT EVEN INDEX CHARACTERS TO CAPS AND ODD INDEX CHARACTERS TO LOWER CASE IN A STRING USING SLICING'''\n",
        "def alt_caseG(a: str) -> str:\n",
        "    la = list(a)\n",
        "    la[::2] = ''.join(la[::2]).upper()#Updating list using string methods and step size (even index) -> output HLO -> [\"H\",\"E\",\"L\",\"l\",\"O\"]\n",
        "    la[1::2] = ''.join(la[1::2]).lower()#Updating list using string methods and step size (odd index) -> output el -> [\"H\",\"e\",\"L\",\"l\",\"O\"]\n",
        "    return ''.join(la)#join list to get string and return -> HeLlO\n",
        "alt_caseG(\"HEllo\")"
      ],
      "metadata": {
        "id": "0rMhQi0fKYj8"
      },
      "execution_count": null,
      "outputs": []
    },
    {
      "cell_type": "code",
      "source": [
        "a = \"abcdefgh\"\n",
        "la = list(a) # -> ['a','b','c','d','e','f','g','h']\n",
        "print(la[::2]) # ['a','c','e','g']\n",
        "print(la)\n",
        "la[::2] = \"1234\" #updating the even indices elements in the list to the given string -> ['1','b','2','d','3','f','4','h']\n",
        "'''ValueError: attempt to assign sequence of size 5 to extended slice of size 4 ; if 12345 given as new string at even indices (slicing size must be maintained)'''\n",
        "print(la)"
      ],
      "metadata": {
        "id": "cMUi-N4CLfkh"
      },
      "execution_count": null,
      "outputs": []
    },
    {
      "cell_type": "code",
      "source": [
        "a = \"abcdefgh\" \n",
        "la = list(a) # -> ['a','b','c','d','e','f','g','h']\n",
        "la[::2] = ''.join(la[::2]).upper() # updating list even indices -> ['A','b','C','d','E','f','G','h']\n",
        "la"
      ],
      "metadata": {
        "id": "0XTBASPQMwIq"
      },
      "execution_count": null,
      "outputs": []
    },
    {
      "cell_type": "code",
      "source": [
        "a = \"abcdefgh\"\n",
        "la = list(a)\n",
        "la[::2] = ''.join(la[::2]).upper()# updating even indices\n",
        "la[1::2] = ''.join(la[1::2]).lower()# updating odd indices\n",
        "print(la)\n",
        "''.join(la)"
      ],
      "metadata": {
        "id": "VPswKMWFNF7X"
      },
      "execution_count": null,
      "outputs": []
    },
    {
      "cell_type": "code",
      "source": [
        "'''FUNCTION 1.0 TO CONVERT A GIVEN NUMBER TO ROMAN INTEGERS USING ZIP AND DICTIONARY''' #CORRECT\n",
        "def to_roman(n: int) -> str:\n",
        "    arabic = 1000, 900, 500, 400, 100, 90, 50, 40, 10, 9, 5, 4, 1 #list of numbers defined in roman\n",
        "    romans = \"M\", \"CM\", \"D\", \"CD\", \"C\", \"XC\", \"L\", \"XL\", \"X\", \"IX\", \"V\", \"IV\", \"I\" #roman letters for the above integers\n",
        "    a2r = dict(zip(arabic, romans)) #create dictionary with key arabics and value romans\n",
        "    roman = '' #intialising a string\n",
        "    for a in arabic:\n",
        "        roman += (n // a) * a2r[a]\n",
        "        '''concatenating the roman value from dictionary n//a (7000 -> MMMMMMM -> 7 times) times'''\n",
        "        n %= a #updating n\n",
        "    return roman #returning the string\n",
        "print(to_roman(5))\n",
        "print(to_roman(55))\n",
        "print(to_roman(99))\n",
        "print(to_roman(46))\n",
        "print(to_roman(7896))\n",
        "to_roman(3674)"
      ],
      "metadata": {
        "id": "rqW3VbH0NWEO"
      },
      "execution_count": null,
      "outputs": []
    },
    {
      "cell_type": "code",
      "source": [
        "'''FUNCTION 1.0 TO CONVERT GIVEN ROMAN STRING TO ARABIC USING STRING METHODS'''#CORRECT \n",
        "def to_arabic(s: str) -> int:\n",
        "    #using string replace and upper method to change everything into the multiples of arabic values (only MDCLXVI to remain)\n",
        "    s = s.upper().replace(\"CM\", \"DCCCC\").replace(\"CD\", \"CCCC\")\\\n",
        "                  .replace(\"XC\", \"LXXXX\").replace(\"XL\", \"XXXX\")\\\n",
        "                  .replace(\"IX\", \"VIIII\").replace(\"IV\", \"IIII\")\n",
        "    romans = \"MDCLXVI\" #roman variables\n",
        "    arabic = 1000, 500, 100, 50, 10, 5, 1 #arabic numbers\n",
        "    r2a = dict(zip(romans, arabic)) #dictionary zip method to create new dictionary key = romans, values = arabic\n",
        "    return sum([r2a[ch] for ch in s]) #creating a list with the arabic values for romans and adding all elements in the list to get arabic number\n",
        "print(to_arabic(\"MMMDCLXXIV\"))\n",
        "print(to_arabic(\"MCMXX\"))"
      ],
      "metadata": {
        "id": "YKDz1VRMkxyM"
      },
      "execution_count": null,
      "outputs": []
    },
    {
      "cell_type": "markdown",
      "source": [
        "# Anagrams revisited"
      ],
      "metadata": {
        "id": "6YjHflAYrpKB"
      }
    },
    {
      "cell_type": "code",
      "source": [
        "words = [\"adds\", \"cloud\", \"asp\", \"dads\", \"hello\", \"sap\", \"could\", \"asp\"] # words list\n",
        "print(sorted(words, key = sorted)) #sorting words based on key (same letters in the word grouped; if all done then compared lexicographically) \n",
        "''' sorted(iterable, key = key, reverse = reverse)\n",
        "    key = function to execute to decide order\n",
        "    reverse = to sort in reverse order\n",
        "'''\n",
        "print(end = \"\\n\")\n",
        "from itertools import groupby #importing groupby from itertools\n",
        "print(groupby(sorted(words, key = sorted), key = sorted)) #groupby returns a iterator to object\n",
        "print(end = \"\\n\")\n",
        "''' \n",
        "    groupby(by=None, axis=0, level=None, as_index=True, sort=True, group_keys=True, squeeze=False, **kwargs)\n",
        "    by : mapping, function, str, or iterable\n",
        "    axis : int, default 0\n",
        "    level : If the axis is a MultiIndex (hierarchical), group by a particular level or levels\n",
        "    as_index : For aggregated output, return object with group labels as the index. Only relevant for DataFrame input. as_index=False is effectively “SQL-style” grouped output\n",
        "    sort : Sort group keys. Get better performance by turning this off. Note this does not influence the order of observations within each group. groupby preserves the order of rows within each group.\n",
        "    group_keys : When calling apply, add group keys to index to identify pieces\n",
        "    squeeze : Reduce the dimensionality of the return type if possible, otherwise return a consistent type\n",
        "    Returns : GroupBy object\n",
        "'''\n",
        "for a, b in groupby(sorted(words, key = sorted), key = sorted):\n",
        "    print(a, b)\n",
        "print(end=\"\\n\")\n",
        "for a, b in groupby(sorted(words, key = sorted), key = sorted):\n",
        "    print(a, list(b)) #typecasting and printing similar words in a list after grouping based on key\n",
        "print(end = \"\\n\")\n",
        "groups = [list(b) for a, b in groupby(sorted(words, key = sorted), key = sorted)] #creating a new list for each anagram list\n",
        "print([_ for _ in groups if len(_) > 1])#printing the anagrams as a list if len of list is greater than 1, i.e, anagram present in given list"
      ],
      "metadata": {
        "id": "W2Uzhn-fmGdP"
      },
      "execution_count": null,
      "outputs": []
    }
  ]
}